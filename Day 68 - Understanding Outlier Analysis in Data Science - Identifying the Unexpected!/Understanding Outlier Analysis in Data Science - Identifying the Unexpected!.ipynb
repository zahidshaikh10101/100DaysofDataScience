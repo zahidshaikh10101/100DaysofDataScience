{
 "cells": [
  {
   "cell_type": "markdown",
   "id": "bab92cc2-b657-45a5-964a-f9eb0f3c13f0",
   "metadata": {},
   "source": [
    "# Hypothesis Testing(grubbs test)"
   ]
  },
  {
   "cell_type": "code",
   "execution_count": 3,
   "id": "4dd2baa9-e6e3-49a2-a5c9-f49a78489462",
   "metadata": {},
   "outputs": [
    {
     "name": "stdout",
     "output_type": "stream",
     "text": [
      "Grubbs Calculated Value: 1.4274928542926593\n",
      "Grubbs Critical Value: 1.8871451177787137\n",
      "From grubbs_test we observe that calculated value is lesser than critical value, Accept null hypothesis and conclude that there is no outliers\n",
      "\n",
      "Grubbs Calculated Value: 2.2765147221587774\n",
      "Grubbs Critical Value: 2.019968507680656\n",
      "From grubbs_test we observe that calculated value is greater than critical value, Reject null hypothesis and conclude that there is an outliers\n",
      "\n"
     ]
    }
   ],
   "source": [
    "import numpy as np\n",
    "import scipy.stats as stats\n",
    "x = np.array([12,13,14,19,21,23])\n",
    "y = np.array([12,13,14,19,21,23,45])\n",
    "def grubbs_test(x):\n",
    "    n = len(x)\n",
    "    mean_x = np.mean(x)\n",
    "    sd_x = np.std(x)\n",
    "    numerator = max(abs(x-mean_x))\n",
    "    g_calculated = numerator/sd_x\n",
    "    print(\"Grubbs Calculated Value:\",g_calculated)\n",
    "    t_value = stats.t.ppf(1 - 0.05 / (2 * n), n - 2)\n",
    "    g_critical = ((n - 1) * np.sqrt(np.square(t_value))) / (np.sqrt(n) * np.sqrt(n - 2 + np.square(t_value)))\n",
    "    print(\"Grubbs Critical Value:\",g_critical)\n",
    "    if g_critical > g_calculated:\n",
    "        print(\"From grubbs_test we observe that calculated value is lesser than critical value, Accept null hypothesis and conclude that there is no outliers\\n\")\n",
    "    else:\n",
    "        print(\"From grubbs_test we observe that calculated value is greater than critical value, Reject null hypothesis and conclude that there is an outliers\\n\")\n",
    "grubbs_test(x)\n",
    "grubbs_test(y)"
   ]
  },
  {
   "cell_type": "markdown",
   "id": "37a817c5-382b-4ca0-bf47-69ee49481d27",
   "metadata": {},
   "source": [
    "# Z-Score"
   ]
  },
  {
   "cell_type": "code",
   "execution_count": 19,
   "id": "8c3f9420-d426-4c40-bb90-bc5da9035ba7",
   "metadata": {},
   "outputs": [
    {
     "name": "stdout",
     "output_type": "stream",
     "text": [
      "Checking for outliers in dataset x:\n",
      "Z-Scores: [1.18957738 0.9516619  0.71374643 0.47583095 0.9516619  1.42749285]\n",
      "No outliers detected\n",
      "\n",
      "Checking for outliers in dataset y:\n",
      "Z-Scores: [0.40856592 0.4085024  0.40843887 0.40812122 0.40799416 0.4078671\n",
      " 2.44948967]\n",
      "Outliers detected: [45000]\n"
     ]
    },
    {
     "data": {
      "text/plain": [
       "array([45000])"
      ]
     },
     "execution_count": 19,
     "metadata": {},
     "output_type": "execute_result"
    }
   ],
   "source": [
    "import numpy as np\n",
    "\n",
    "# Sample data\n",
    "x = np.array([12, 13, 14, 19, 21, 23])\n",
    "y = np.array([12, 13, 14, 19, 21, 23, 45000])\n",
    "\n",
    "# Z-Score threshold for detecting outliers\n",
    "threshold = 2  \n",
    "\n",
    "def z_score_outliers(data):\n",
    "    mean_data = np.mean(data)\n",
    "    std_dev = np.std(data)\n",
    "    z_scores = np.abs((data - mean_data) / std_dev)  # Calculate Z-Scores\n",
    "    print(\"Z-Scores:\", z_scores)\n",
    "    \n",
    "    # Find outliers based on the threshold\n",
    "    outliers = data[z_scores > threshold]\n",
    "    if len(outliers) > 0:\n",
    "        print(f\"Outliers detected: {outliers}\")\n",
    "    else:\n",
    "        print(\"No outliers detected\")    \n",
    "    return outliers\n",
    "\n",
    "# Run Z-Score outlier detection on the sample data\n",
    "print(\"Checking for outliers in dataset x:\")\n",
    "z_score_outliers(x)\n",
    "print(\"\\nChecking for outliers in dataset y:\")\n",
    "z_score_outliers(y)"
   ]
  },
  {
   "cell_type": "markdown",
   "id": "a7d75f18-3b71-4c2d-9f16-d6f68f5a31e5",
   "metadata": {},
   "source": [
    "# IQR"
   ]
  },
  {
   "cell_type": "code",
   "execution_count": 22,
   "id": "6d6f69ed-284c-4b98-aebb-ca93cd55c263",
   "metadata": {},
   "outputs": [
    {
     "name": "stdout",
     "output_type": "stream",
     "text": [
      "Checking for outliers in dataset x:\n",
      "IQR Outliers: No outliers detected\n",
      "\n",
      "Checking for outliers in dataset y:\n",
      "IQR Outliers: [  100 45000]\n"
     ]
    },
    {
     "data": {
      "text/plain": [
       "array([  100, 45000])"
      ]
     },
     "execution_count": 22,
     "metadata": {},
     "output_type": "execute_result"
    }
   ],
   "source": [
    "import numpy as np\n",
    "\n",
    "# Sample data\n",
    "x = np.array([12, 13, 14, 19, 21, 23])\n",
    "y = np.array([12, 13, 14, 19, 21, 23, 100, 45000])\n",
    "\n",
    "def iqr_outliers(data):\n",
    "    # Calculate Q1, Q3, and IQR\n",
    "    q1 = np.percentile(data, 25)\n",
    "    q3 = np.percentile(data, 75)\n",
    "    iqr = q3 - q1\n",
    "    \n",
    "    # Define outlier bounds\n",
    "    lower_bound = q1 - 1.5 * iqr\n",
    "    upper_bound = q3 + 1.5 * iqr\n",
    "    \n",
    "    # Identify outliers\n",
    "    outliers = data[(data < lower_bound) | (data > upper_bound)]\n",
    "    print(\"IQR Outliers:\", outliers if len(outliers) > 0 else \"No outliers detected\")\n",
    "    return outliers\n",
    "\n",
    "# Run IQR outlier detection on the sample data\n",
    "print(\"Checking for outliers in dataset x:\")\n",
    "iqr_outliers(x)\n",
    "print(\"\\nChecking for outliers in dataset y:\")\n",
    "iqr_outliers(y)\n"
   ]
  },
  {
   "cell_type": "markdown",
   "id": "fad7a07f-25ad-4083-9316-e7210f54045e",
   "metadata": {},
   "source": [
    "# DBSCAN"
   ]
  },
  {
   "cell_type": "code",
   "execution_count": 25,
   "id": "7bcf5e47-97ca-4e06-a478-431d85e182fe",
   "metadata": {},
   "outputs": [
    {
     "name": "stdout",
     "output_type": "stream",
     "text": [
      "Checking for outliers in dataset x:\n",
      "DBSCAN Outliers: No outliers detected\n",
      "\n",
      "Checking for outliers in dataset y:\n",
      "DBSCAN Outliers: [  100 45000]\n"
     ]
    },
    {
     "data": {
      "text/plain": [
       "array([[  100],\n",
       "       [45000]])"
      ]
     },
     "execution_count": 25,
     "metadata": {},
     "output_type": "execute_result"
    }
   ],
   "source": [
    "import numpy as np\n",
    "from sklearn.cluster import DBSCAN\n",
    "\n",
    "# Sample data\n",
    "x = np.array([[12], [13], [14], [19], [21], [23]])  # Reshaping data for DBSCAN\n",
    "y = np.array([[12], [13], [14], [19], [21], [23], [100], [45000]])\n",
    "\n",
    "def dbscan_outliers(data, eps=3, min_samples=2):\n",
    "    # Initialize DBSCAN model\n",
    "    db = DBSCAN(eps=eps, min_samples=min_samples)\n",
    "    \n",
    "    # Fit the model and get labels (-1 represents an outlier)\n",
    "    labels = db.fit_predict(data)\n",
    "    \n",
    "    # Identify outliers\n",
    "    outliers = data[labels == -1]\n",
    "    print(\"DBSCAN Outliers:\", outliers.flatten() if len(outliers) > 0 else \"No outliers detected\")\n",
    "    return outliers\n",
    "\n",
    "# Run DBSCAN outlier detection on the sample data\n",
    "print(\"Checking for outliers in dataset x:\")\n",
    "dbscan_outliers(x)\n",
    "print(\"\\nChecking for outliers in dataset y:\")\n",
    "dbscan_outliers(y)\n"
   ]
  },
  {
   "cell_type": "markdown",
   "id": "07c6b97a-b78d-469b-a3e0-9bf87de133ba",
   "metadata": {},
   "source": [
    "# Local Outlier Factor"
   ]
  },
  {
   "cell_type": "code",
   "execution_count": 28,
   "id": "0a1e1ee9-18be-40f2-9305-7c5714e992c7",
   "metadata": {},
   "outputs": [
    {
     "name": "stdout",
     "output_type": "stream",
     "text": [
      "Checking for outliers in dataset x:\n",
      "LOF Outliers: No outliers detected\n",
      "\n",
      "Checking for outliers in dataset y:\n",
      "LOF Outliers: [  100 45000]\n"
     ]
    },
    {
     "data": {
      "text/plain": [
       "array([[  100],\n",
       "       [45000]])"
      ]
     },
     "execution_count": 28,
     "metadata": {},
     "output_type": "execute_result"
    }
   ],
   "source": [
    "import numpy as np\n",
    "from sklearn.neighbors import LocalOutlierFactor\n",
    "\n",
    "# Sample data\n",
    "x = np.array([[12], [13], [14], [19], [21], [23]])  # Reshaping data for LOF\n",
    "y = np.array([[12], [13], [14], [19], [21], [23], [100], [45000]])\n",
    "\n",
    "def lof_outliers(data, n_neighbors=2):\n",
    "    # Initialize LOF model\n",
    "    lof = LocalOutlierFactor(n_neighbors=n_neighbors, contamination=\"auto\")\n",
    "    \n",
    "    # Fit the model and predict outliers (-1 indicates an outlier)\n",
    "    labels = lof.fit_predict(data)\n",
    "    \n",
    "    # Identify outliers\n",
    "    outliers = data[labels == -1]\n",
    "    print(\"LOF Outliers:\", outliers.flatten() if len(outliers) > 0 else \"No outliers detected\")\n",
    "    return outliers\n",
    "\n",
    "# Run LOF outlier detection on the sample data\n",
    "print(\"Checking for outliers in dataset x:\")\n",
    "lof_outliers(x)\n",
    "print(\"\\nChecking for outliers in dataset y:\")\n",
    "lof_outliers(y)\n"
   ]
  },
  {
   "cell_type": "markdown",
   "id": "b1d041e5-4fcc-4366-aaff-722fd30b2033",
   "metadata": {},
   "source": [
    "# Isolation Forest"
   ]
  },
  {
   "cell_type": "code",
   "execution_count": 32,
   "id": "b090a87a-58ae-4fc0-9091-5154bf1ad7cc",
   "metadata": {},
   "outputs": [
    {
     "name": "stdout",
     "output_type": "stream",
     "text": [
      "Checking for outliers in dataset x:\n",
      "Isolation Forest Outliers: [23]\n",
      "\n",
      "Checking for outliers in dataset y:\n",
      "Isolation Forest Outliers: [45000]\n"
     ]
    },
    {
     "data": {
      "text/plain": [
       "array([[45000]])"
      ]
     },
     "execution_count": 32,
     "metadata": {},
     "output_type": "execute_result"
    }
   ],
   "source": [
    "import numpy as np\n",
    "from sklearn.ensemble import IsolationForest\n",
    "\n",
    "# Sample data\n",
    "x = np.array([[12], [13], [14], [19], [21], [23]])  # Reshaping data for Isolation Forest\n",
    "y = np.array([[12], [13], [14], [19], [21], [23], [100], [45000]])\n",
    "\n",
    "def isolation_forest_outliers(data, contamination=0.1):\n",
    "    # Initialize Isolation Forest model\n",
    "    iso_forest = IsolationForest(contamination=contamination, random_state=42)\n",
    "    \n",
    "    # Fit the model and predict outliers (-1 represents an outlier)\n",
    "    labels = iso_forest.fit_predict(data)\n",
    "    \n",
    "    # Identify outliers\n",
    "    outliers = data[labels == -1]\n",
    "    print(\"Isolation Forest Outliers:\", outliers.flatten() if len(outliers) > 0 else \"No outliers detected\")\n",
    "    return outliers\n",
    "\n",
    "# Run Isolation Forest outlier detection on the sample data\n",
    "print(\"Checking for outliers in dataset x:\")\n",
    "isolation_forest_outliers(x)\n",
    "print(\"\\nChecking for outliers in dataset y:\")\n",
    "isolation_forest_outliers(y)\n"
   ]
  },
  {
   "cell_type": "markdown",
   "id": "2145a4d3-8797-4d38-b061-36420dd38e53",
   "metadata": {},
   "source": [
    "# Gaussian Mixture Models (GMM)"
   ]
  },
  {
   "cell_type": "code",
   "execution_count": 39,
   "id": "a866d837-65ba-4397-b8e6-1f1a743797a8",
   "metadata": {},
   "outputs": [
    {
     "name": "stdout",
     "output_type": "stream",
     "text": [
      "Checking for outliers in dataset x:\n",
      "GMM Outliers: No outliers detected\n",
      "\n",
      "Checking for outliers in dataset y:\n",
      "GMM Outliers: [100]\n"
     ]
    }
   ],
   "source": [
    "import numpy as np\n",
    "from sklearn.mixture import GaussianMixture\n",
    "import warnings\n",
    "\n",
    "# Sample data\n",
    "x = np.array([[12], [13], [14], [19], [21], [23]])  # Reshaping data for GMM\n",
    "y = np.array([[12], [13], [14], [19], [21], [23], [100])\n",
    "\n",
    "# Suppress specific warnings\n",
    "with warnings.catch_warnings():\n",
    "    warnings.simplefilter(\"ignore\", category=UserWarning)\n",
    "\n",
    "    def gmm_outliers(data, n_components=2, threshold=0.01):\n",
    "        # Fit GMM to the data\n",
    "        gmm = GaussianMixture(n_components=n_components)\n",
    "        gmm.fit(data)\n",
    "        \n",
    "        # Calculate log-likelihood of each point under the model\n",
    "        scores = gmm.score_samples(data)\n",
    "        \n",
    "        # Detect outliers based on the threshold\n",
    "        outliers = data[scores < np.log(threshold)]\n",
    "        print(\"GMM Outliers:\", outliers.flatten() if len(outliers) > 0 else \"No outliers detected\")\n",
    "        return outliers\n",
    "\n",
    "    # Run GMM outlier detection on the sample data\n",
    "    print(\"Checking for outliers in dataset x:\")\n",
    "    gmm_outliers(x)\n",
    "    print(\"\\nChecking for outliers in dataset y:\")\n",
    "    gmm_outliers(y)\n"
   ]
  },
  {
   "cell_type": "code",
   "execution_count": null,
   "id": "d5c37eb7-ed3f-4031-9462-5ef7d1e7058a",
   "metadata": {},
   "outputs": [],
   "source": []
  }
 ],
 "metadata": {
  "kernelspec": {
   "display_name": "Python 3 (ipykernel)",
   "language": "python",
   "name": "python3"
  },
  "language_info": {
   "codemirror_mode": {
    "name": "ipython",
    "version": 3
   },
   "file_extension": ".py",
   "mimetype": "text/x-python",
   "name": "python",
   "nbconvert_exporter": "python",
   "pygments_lexer": "ipython3",
   "version": "3.12.4"
  }
 },
 "nbformat": 4,
 "nbformat_minor": 5
}
