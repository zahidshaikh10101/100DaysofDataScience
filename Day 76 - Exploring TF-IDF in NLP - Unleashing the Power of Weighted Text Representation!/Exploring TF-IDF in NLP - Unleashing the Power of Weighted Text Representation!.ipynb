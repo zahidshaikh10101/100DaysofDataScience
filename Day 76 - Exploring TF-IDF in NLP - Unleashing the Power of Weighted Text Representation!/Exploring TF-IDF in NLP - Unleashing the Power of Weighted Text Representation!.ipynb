{
 "cells": [
  {
   "cell_type": "code",
   "execution_count": 12,
   "id": "4b4bb123-a1c3-4d53-a178-0ef85f66dce5",
   "metadata": {},
   "outputs": [
    {
     "name": "stdout",
     "output_type": "stream",
     "text": [
      "Input DataFrame:\n",
      "                                                text\n",
      "0                       Jim and Pam traveled by bus.\n",
      "1                         The train was not on time.\n",
      "2  The flight was full. Traveling by flight is ex...\n",
      "----------------------------------------------------------------------------------------------------\n",
      "Feature Names (Vocabulary):\n",
      "['bus' 'expensive' 'flight' 'jim' 'pam' 'time' 'train' 'traveled'\n",
      " 'traveling']\n",
      "----------------------------------------------------------------------------------------------------\n",
      "TF-IDF Matrix:\n",
      "   bus  expensive    flight  jim  pam      time     train  traveled  traveling\n",
      "0  0.5   0.000000  0.000000  0.5  0.5  0.000000  0.000000       0.5   0.000000\n",
      "1  0.0   0.000000  0.000000  0.0  0.0  0.707107  0.707107       0.0   0.000000\n",
      "2  0.0   0.453295  0.767495  0.0  0.0  0.000000  0.000000       0.0   0.453295\n",
      "----------------------------------------------------------------------------------------------------\n",
      "TF-IDF for New Text:\n",
      "   bus  expensive    flight  jim  pam      time     train  traveled  traveling\n",
      "0  0.0   0.447214  0.447214  0.0  0.0  0.447214  0.447214       0.0   0.447214\n"
     ]
    }
   ],
   "source": [
    "import pandas as pd\n",
    "from sklearn.feature_extraction.text import TfidfVectorizer\n",
    "\n",
    "# Sample Data\n",
    "df = pd.DataFrame({'text': [\n",
    "    \"Jim and Pam traveled by bus.\",\n",
    "    \"The train was not on time.\",\n",
    "    \"The flight was full. Traveling by flight is expensive.\"\n",
    "]})\n",
    "\n",
    "print(\"Input DataFrame:\")\n",
    "print(df)\n",
    "print('-' * 100)\n",
    "\n",
    "# Initialize TfidfVectorizer with key features\n",
    "vectorizer = TfidfVectorizer(\n",
    "    # ngram_range=(1, 2),              # Generate unigrams, bigrams, and trigrams\n",
    "    stop_words='english',            # Remove common English stop words\n",
    "    max_features=20,                 # Limit the number of features to the top 20 by TF-IDF score\n",
    "    norm='l2',                       # Apply L2 normalization to the vectors\n",
    "    use_idf=True,                    # Use inverse document frequency\n",
    "    smooth_idf=True,                 # Smooth IDF weights by adding 1 to document frequencies\n",
    "    sublinear_tf=True                # Apply sublinear scaling (1 + log(tf)) to term frequency\n",
    ")\n",
    "\n",
    "# Fit and transform the text data\n",
    "X = vectorizer.fit_transform(df['text'])\n",
    "\n",
    "# Extract feature names (vocabulary)\n",
    "feature_names = vectorizer.get_feature_names_out()\n",
    "print(\"Feature Names (Vocabulary):\")\n",
    "print(feature_names)\n",
    "print('-' * 100)\n",
    "\n",
    "# Convert the TF-IDF matrix to a dense DataFrame for better readability\n",
    "tfidf_df = pd.DataFrame(X.toarray(), columns=feature_names)\n",
    "print(\"TF-IDF Matrix:\")\n",
    "print(tfidf_df)\n",
    "print('-' * 100)\n",
    "\n",
    "# Test the vectorizer with a new sentence\n",
    "new_text = [\"Traveling by train is more convenient than flight and it is not expensive but it takes time.\"]\n",
    "test_vector = vectorizer.transform(new_text)\n",
    "test_tfidf_df = pd.DataFrame(test_vector.toarray(), columns=feature_names)\n",
    "\n",
    "print(\"TF-IDF for New Text:\")\n",
    "print(test_tfidf_df)\n"
   ]
  },
  {
   "cell_type": "code",
   "execution_count": null,
   "id": "ba62484c-eb6d-4a3a-aab5-a22d0c822092",
   "metadata": {},
   "outputs": [],
   "source": []
  }
 ],
 "metadata": {
  "kernelspec": {
   "display_name": "Python 3 (ipykernel)",
   "language": "python",
   "name": "python3"
  },
  "language_info": {
   "codemirror_mode": {
    "name": "ipython",
    "version": 3
   },
   "file_extension": ".py",
   "mimetype": "text/x-python",
   "name": "python",
   "nbconvert_exporter": "python",
   "pygments_lexer": "ipython3",
   "version": "3.12.7"
  }
 },
 "nbformat": 4,
 "nbformat_minor": 5
}
