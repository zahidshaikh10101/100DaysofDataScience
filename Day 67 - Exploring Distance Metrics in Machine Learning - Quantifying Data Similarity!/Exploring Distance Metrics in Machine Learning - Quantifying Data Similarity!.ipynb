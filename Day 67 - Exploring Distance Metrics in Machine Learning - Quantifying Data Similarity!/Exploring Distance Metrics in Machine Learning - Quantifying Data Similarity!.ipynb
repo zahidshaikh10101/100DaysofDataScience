{
 "cells": [
  {
   "cell_type": "code",
   "execution_count": 1,
   "id": "a1af3c4c-1b9b-4cb8-9981-51df2e89231a",
   "metadata": {},
   "outputs": [
    {
     "data": {
      "text/plain": [
       "((1, 2, 3), (4, 5, 6), (7, 8, 9))"
      ]
     },
     "execution_count": 1,
     "metadata": {},
     "output_type": "execute_result"
    }
   ],
   "source": [
    "# Import required libarary\n",
    "from scipy.spatial import distance\n",
    "\n",
    "# Defining the points\n",
    "point_1 = (1,2,3)\n",
    "point_2 = (4,5,6)\n",
    "point_3 = (7,8,9)\n",
    "\n",
    "point_1,point_2,point_3"
   ]
  },
  {
   "cell_type": "markdown",
   "id": "ef461d8f-5791-4f4e-9657-b5b738d3ab50",
   "metadata": {},
   "source": [
    "# 1. Euclidean Distance"
   ]
  },
  {
   "cell_type": "code",
   "execution_count": 61,
   "id": "19f31ded-16b3-4b11-988d-78d98899e777",
   "metadata": {},
   "outputs": [
    {
     "name": "stdout",
     "output_type": "stream",
     "text": [
      "Euclidean Distance b/w (1, 2, 3) , (4, 5, 6) is:  5.196152422706632\n"
     ]
    }
   ],
   "source": [
    "# computing the euclidean distance\n",
    "euclidean_distance = distance.euclidean(point_1,point_2)\n",
    "print('Euclidean Distance b/w', point_1, ',', point_2, 'is: ', euclidean_distance)"
   ]
  },
  {
   "cell_type": "markdown",
   "id": "12e5fb13-43c8-47af-9fb0-66d6cb29aeed",
   "metadata": {},
   "source": [
    "# 2. Manhattan Distance"
   ]
  },
  {
   "cell_type": "code",
   "execution_count": 18,
   "id": "f06ef921-c006-47ba-9f85-1a8f297cb3f7",
   "metadata": {},
   "outputs": [
    {
     "name": "stdout",
     "output_type": "stream",
     "text": [
      "Manhattan Distance b/w (1, 2, 3) , (4, 5, 6) is:  9\n"
     ]
    }
   ],
   "source": [
    "# computing the manhattan distance\n",
    "manhattan_distance = distance.cityblock(point_1,point_2)\n",
    "print('Manhattan Distance b/w', point_1, ',', point_2, 'is: ',manhattan_distance)"
   ]
  },
  {
   "cell_type": "markdown",
   "id": "73f18112-cedc-48d3-b4b0-fbb2eea19e68",
   "metadata": {},
   "source": [
    "# 3. Cosine Similarity"
   ]
  },
  {
   "cell_type": "code",
   "execution_count": 64,
   "id": "8e96139b-06f6-49e5-871f-c37a6350c26b",
   "metadata": {},
   "outputs": [
    {
     "name": "stdout",
     "output_type": "stream",
     "text": [
      "\n",
      "Cosine Similarity between (1, 2, 3) and (4, 5, 6) is: 0.9746318461970762\n"
     ]
    }
   ],
   "source": [
    "# computing the Cosine similarity\n",
    "cosine_similarity = 1 - distance.cosine(point_1, point_2)\n",
    "print('\\nCosine Similarity between', point_1, 'and', point_2, 'is:', cosine_similarity)"
   ]
  },
  {
   "cell_type": "markdown",
   "id": "404a719b-3a26-4c2c-90df-93468b410476",
   "metadata": {},
   "source": [
    "# 4. Jaccard Similarity"
   ]
  },
  {
   "cell_type": "code",
   "execution_count": 71,
   "id": "6be78143-7665-41bf-b975-46b5512794ba",
   "metadata": {},
   "outputs": [
    {
     "name": "stdout",
     "output_type": "stream",
     "text": [
      "\n",
      "Jaccard Similarity between binary vectors [1, 0, 1, 1] and [0, 1, 1, 0] is: 0.25\n"
     ]
    }
   ],
   "source": [
    "from sklearn.metrics import jaccard_score\n",
    "\n",
    "# converting points to binary vectors for Jaccard similarity\n",
    "binary_point_1 = [1, 0, 1, 1]\n",
    "binary_point_2 = [0, 1, 1, 0]\n",
    "\n",
    "# Computing Jaccard similarity between binary vectors\n",
    "jaccard_similarity = jaccard_score(binary_point_1, binary_point_2)\n",
    "print('\\nJaccard Similarity between binary vectors', binary_point_1, 'and', binary_point_2, 'is:', jaccard_similarity)"
   ]
  },
  {
   "cell_type": "markdown",
   "id": "a6364ccf-2698-4695-86c4-e8d297402d2a",
   "metadata": {},
   "source": [
    "# 5. Minkowski Distance"
   ]
  },
  {
   "cell_type": "code",
   "execution_count": 58,
   "id": "cf1bbf0d-7fc4-4f50-8896-4fbe126a9fe7",
   "metadata": {},
   "outputs": [
    {
     "name": "stdout",
     "output_type": "stream",
     "text": [
      "minkowski Distance b/w (1, 2, 3) and (4, 5, 6) is:  3.737192818846552\n"
     ]
    }
   ],
   "source": [
    "# computing the minkowski distance\n",
    "minkowski_distance = distance.minkowski(point_1,point_2, p=5)\n",
    "print('minkowski Distance b/w', point_1, 'and', point_2, 'is: ', minkowski_distance)"
   ]
  },
  {
   "cell_type": "code",
   "execution_count": 47,
   "id": "9af0b0c8-397c-4434-9e89-0fe2d556bb66",
   "metadata": {},
   "outputs": [
    {
     "name": "stdout",
     "output_type": "stream",
     "text": [
      "Minkowski Distance of order 1: 9.0\n"
     ]
    }
   ],
   "source": [
    "# computing the minkowski distance\n",
    "minkowski_distance_order_1 = distance.minkowski(point_1,point_2, p=1)\n",
    "print('Minkowski Distance of order 1:',minkowski_distance_order_1)"
   ]
  },
  {
   "cell_type": "markdown",
   "id": "ec3d95de-aaa0-4a85-b5b6-9ea9fdbe1e15",
   "metadata": {},
   "source": [
    "# 6. Hamming Distance"
   ]
  },
  {
   "cell_type": "code",
   "execution_count": 50,
   "id": "833c0494-b9b0-4950-8fbc-ac93596a49f3",
   "metadata": {},
   "outputs": [],
   "source": [
    "# defining two strings\n",
    "string_1 = 'euclidean'\n",
    "string_2 = 'manhattan'"
   ]
  },
  {
   "cell_type": "code",
   "execution_count": 52,
   "id": "883601f6-405a-4f33-b5c7-056a7be1e6be",
   "metadata": {},
   "outputs": [
    {
     "name": "stdout",
     "output_type": "stream",
     "text": [
      "Hamming Distance b/w euclidean and manhattan is:  7.0\n"
     ]
    }
   ],
   "source": [
    "# computing the hamming distance\n",
    "hamming_distance = distance.hamming(list(string_1), list(string_2))*len(string_1)\n",
    "print('Hamming Distance b/w', string_1, 'and', string_2, 'is: ', hamming_distance)"
   ]
  },
  {
   "cell_type": "markdown",
   "id": "c1679b46-a5fb-4de9-8603-5e11ca85be39",
   "metadata": {},
   "source": [
    "<p><center>Made with ❤️ by Zahid Salim Shaikh</center></</p>"
   ]
  },
  {
   "cell_type": "code",
   "execution_count": null,
   "id": "d8ea8f43-85af-4be6-b068-a5c2bdf3a8f5",
   "metadata": {},
   "outputs": [],
   "source": []
  }
 ],
 "metadata": {
  "kernelspec": {
   "display_name": "Python 3 (ipykernel)",
   "language": "python",
   "name": "python3"
  },
  "language_info": {
   "codemirror_mode": {
    "name": "ipython",
    "version": 3
   },
   "file_extension": ".py",
   "mimetype": "text/x-python",
   "name": "python",
   "nbconvert_exporter": "python",
   "pygments_lexer": "ipython3",
   "version": "3.12.4"
  }
 },
 "nbformat": 4,
 "nbformat_minor": 5
}
