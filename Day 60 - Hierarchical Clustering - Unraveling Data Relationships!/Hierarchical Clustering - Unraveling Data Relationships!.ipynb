{
 "cells": [
  {
   "cell_type": "code",
   "execution_count": 1,
   "id": "f15eca04",
   "metadata": {},
   "outputs": [],
   "source": [
    "### Importing Libraries \n",
    "import numpy as np\n",
    "import pandas as pd\n",
    "import matplotlib.pyplot as plt\n",
    "import seaborn as sns\n",
    "import plotly.express as px\n",
    "import plotly.figure_factory as ff\n",
    "from sklearn.metrics import confusion_matrix, accuracy_score, classification_report\n",
    "from sklearn.metrics import mean_squared_error, r2_score\n",
    "import warnings\n",
    "warnings.filterwarnings('ignore')"
   ]
  },
  {
   "cell_type": "code",
   "execution_count": 2,
   "id": "a559ae4a",
   "metadata": {},
   "outputs": [
    {
     "data": {
      "text/html": [
       "<div>\n",
       "<style scoped>\n",
       "    .dataframe tbody tr th:only-of-type {\n",
       "        vertical-align: middle;\n",
       "    }\n",
       "\n",
       "    .dataframe tbody tr th {\n",
       "        vertical-align: top;\n",
       "    }\n",
       "\n",
       "    .dataframe thead th {\n",
       "        text-align: right;\n",
       "    }\n",
       "</style>\n",
       "<table border=\"1\" class=\"dataframe\">\n",
       "  <thead>\n",
       "    <tr style=\"text-align: right;\">\n",
       "      <th></th>\n",
       "      <th>CustomerID</th>\n",
       "      <th>Gender</th>\n",
       "      <th>Age</th>\n",
       "      <th>Annual Income (k$)</th>\n",
       "      <th>Spending Score (1-100)</th>\n",
       "    </tr>\n",
       "  </thead>\n",
       "  <tbody>\n",
       "    <tr>\n",
       "      <th>0</th>\n",
       "      <td>1</td>\n",
       "      <td>Male</td>\n",
       "      <td>19</td>\n",
       "      <td>15</td>\n",
       "      <td>39</td>\n",
       "    </tr>\n",
       "    <tr>\n",
       "      <th>1</th>\n",
       "      <td>2</td>\n",
       "      <td>Male</td>\n",
       "      <td>21</td>\n",
       "      <td>15</td>\n",
       "      <td>81</td>\n",
       "    </tr>\n",
       "    <tr>\n",
       "      <th>2</th>\n",
       "      <td>3</td>\n",
       "      <td>Female</td>\n",
       "      <td>20</td>\n",
       "      <td>16</td>\n",
       "      <td>6</td>\n",
       "    </tr>\n",
       "    <tr>\n",
       "      <th>3</th>\n",
       "      <td>4</td>\n",
       "      <td>Female</td>\n",
       "      <td>23</td>\n",
       "      <td>16</td>\n",
       "      <td>77</td>\n",
       "    </tr>\n",
       "    <tr>\n",
       "      <th>4</th>\n",
       "      <td>5</td>\n",
       "      <td>Female</td>\n",
       "      <td>31</td>\n",
       "      <td>17</td>\n",
       "      <td>40</td>\n",
       "    </tr>\n",
       "  </tbody>\n",
       "</table>\n",
       "</div>"
      ],
      "text/plain": [
       "   CustomerID  Gender  Age  Annual Income (k$)  Spending Score (1-100)\n",
       "0           1    Male   19                  15                      39\n",
       "1           2    Male   21                  15                      81\n",
       "2           3  Female   20                  16                       6\n",
       "3           4  Female   23                  16                      77\n",
       "4           5  Female   31                  17                      40"
      ]
     },
     "execution_count": 2,
     "metadata": {},
     "output_type": "execute_result"
    }
   ],
   "source": [
    "### Import the Dataset\n",
    "df = pd.read_csv(r\"C:\\Users\\Zahid.Shaikh\\100days\\60\\Mall_Customers.csv\",header=0)\n",
    "df.head()"
   ]
  },
  {
   "cell_type": "code",
   "execution_count": 3,
   "id": "2b0bcec1",
   "metadata": {},
   "outputs": [
    {
     "data": {
      "text/plain": [
       "(200, 5)"
      ]
     },
     "execution_count": 3,
     "metadata": {},
     "output_type": "execute_result"
    }
   ],
   "source": [
    "df.shape ### Checking Shape"
   ]
  },
  {
   "cell_type": "code",
   "execution_count": 4,
   "id": "e3051c7a",
   "metadata": {},
   "outputs": [
    {
     "data": {
      "text/html": [
       "<div>\n",
       "<style scoped>\n",
       "    .dataframe tbody tr th:only-of-type {\n",
       "        vertical-align: middle;\n",
       "    }\n",
       "\n",
       "    .dataframe tbody tr th {\n",
       "        vertical-align: top;\n",
       "    }\n",
       "\n",
       "    .dataframe thead th {\n",
       "        text-align: right;\n",
       "    }\n",
       "</style>\n",
       "<table border=\"1\" class=\"dataframe\">\n",
       "  <thead>\n",
       "    <tr style=\"text-align: right;\">\n",
       "      <th></th>\n",
       "      <th>CustomerID</th>\n",
       "      <th>Age</th>\n",
       "      <th>Annual Income (k$)</th>\n",
       "      <th>Spending Score (1-100)</th>\n",
       "    </tr>\n",
       "  </thead>\n",
       "  <tbody>\n",
       "    <tr>\n",
       "      <th>count</th>\n",
       "      <td>200.000000</td>\n",
       "      <td>200.000000</td>\n",
       "      <td>200.000000</td>\n",
       "      <td>200.000000</td>\n",
       "    </tr>\n",
       "    <tr>\n",
       "      <th>mean</th>\n",
       "      <td>100.500000</td>\n",
       "      <td>38.850000</td>\n",
       "      <td>60.560000</td>\n",
       "      <td>50.200000</td>\n",
       "    </tr>\n",
       "    <tr>\n",
       "      <th>std</th>\n",
       "      <td>57.879185</td>\n",
       "      <td>13.969007</td>\n",
       "      <td>26.264721</td>\n",
       "      <td>25.823522</td>\n",
       "    </tr>\n",
       "    <tr>\n",
       "      <th>min</th>\n",
       "      <td>1.000000</td>\n",
       "      <td>18.000000</td>\n",
       "      <td>15.000000</td>\n",
       "      <td>1.000000</td>\n",
       "    </tr>\n",
       "    <tr>\n",
       "      <th>25%</th>\n",
       "      <td>50.750000</td>\n",
       "      <td>28.750000</td>\n",
       "      <td>41.500000</td>\n",
       "      <td>34.750000</td>\n",
       "    </tr>\n",
       "    <tr>\n",
       "      <th>50%</th>\n",
       "      <td>100.500000</td>\n",
       "      <td>36.000000</td>\n",
       "      <td>61.500000</td>\n",
       "      <td>50.000000</td>\n",
       "    </tr>\n",
       "    <tr>\n",
       "      <th>75%</th>\n",
       "      <td>150.250000</td>\n",
       "      <td>49.000000</td>\n",
       "      <td>78.000000</td>\n",
       "      <td>73.000000</td>\n",
       "    </tr>\n",
       "    <tr>\n",
       "      <th>max</th>\n",
       "      <td>200.000000</td>\n",
       "      <td>70.000000</td>\n",
       "      <td>137.000000</td>\n",
       "      <td>99.000000</td>\n",
       "    </tr>\n",
       "  </tbody>\n",
       "</table>\n",
       "</div>"
      ],
      "text/plain": [
       "       CustomerID         Age  Annual Income (k$)  Spending Score (1-100)\n",
       "count  200.000000  200.000000          200.000000              200.000000\n",
       "mean   100.500000   38.850000           60.560000               50.200000\n",
       "std     57.879185   13.969007           26.264721               25.823522\n",
       "min      1.000000   18.000000           15.000000                1.000000\n",
       "25%     50.750000   28.750000           41.500000               34.750000\n",
       "50%    100.500000   36.000000           61.500000               50.000000\n",
       "75%    150.250000   49.000000           78.000000               73.000000\n",
       "max    200.000000   70.000000          137.000000               99.000000"
      ]
     },
     "execution_count": 4,
     "metadata": {},
     "output_type": "execute_result"
    }
   ],
   "source": [
    "df.describe() ### Get information of the Dataset"
   ]
  },
  {
   "cell_type": "code",
   "execution_count": 5,
   "id": "3b11763d",
   "metadata": {},
   "outputs": [
    {
     "data": {
      "text/plain": [
       "Index(['CustomerID', 'Gender', 'Age', 'Annual Income (k$)',\n",
       "       'Spending Score (1-100)'],\n",
       "      dtype='object')"
      ]
     },
     "execution_count": 5,
     "metadata": {},
     "output_type": "execute_result"
    }
   ],
   "source": [
    "df.columns ### Checking Columns"
   ]
  },
  {
   "cell_type": "code",
   "execution_count": 6,
   "id": "07d31087",
   "metadata": {},
   "outputs": [
    {
     "name": "stdout",
     "output_type": "stream",
     "text": [
      "<class 'pandas.core.frame.DataFrame'>\n",
      "RangeIndex: 200 entries, 0 to 199\n",
      "Data columns (total 5 columns):\n",
      " #   Column                  Non-Null Count  Dtype \n",
      "---  ------                  --------------  ----- \n",
      " 0   CustomerID              200 non-null    int64 \n",
      " 1   Gender                  200 non-null    object\n",
      " 2   Age                     200 non-null    int64 \n",
      " 3   Annual Income (k$)      200 non-null    int64 \n",
      " 4   Spending Score (1-100)  200 non-null    int64 \n",
      "dtypes: int64(4), object(1)\n",
      "memory usage: 7.9+ KB\n"
     ]
    }
   ],
   "source": [
    "df.info() ### Checking Information About a DataFrame"
   ]
  },
  {
   "cell_type": "code",
   "execution_count": 7,
   "id": "1b215abd",
   "metadata": {},
   "outputs": [
    {
     "data": {
      "text/plain": [
       "CustomerID                0\n",
       "Gender                    0\n",
       "Age                       0\n",
       "Annual Income (k$)        0\n",
       "Spending Score (1-100)    0\n",
       "dtype: int64"
      ]
     },
     "execution_count": 7,
     "metadata": {},
     "output_type": "execute_result"
    }
   ],
   "source": [
    "df.isnull().sum() ### Checking Null Values in the Data"
   ]
  },
  {
   "cell_type": "code",
   "execution_count": 8,
   "id": "a93fecfd",
   "metadata": {},
   "outputs": [
    {
     "data": {
      "text/plain": [
       "(200, 5)"
      ]
     },
     "execution_count": 8,
     "metadata": {},
     "output_type": "execute_result"
    }
   ],
   "source": [
    "df1 = pd.DataFrame.copy(df)\n",
    "df1.shape"
   ]
  },
  {
   "cell_type": "code",
   "execution_count": 9,
   "id": "6889da44",
   "metadata": {},
   "outputs": [
    {
     "name": "stdout",
     "output_type": "stream",
     "text": [
      "{'CustomerID': array([  1,   2,   3,   4,   5,   6,   7,   8,   9,  10,  11,  12,  13,\n",
      "        14,  15,  16,  17,  18,  19,  20,  21,  22,  23,  24,  25,  26,\n",
      "        27,  28,  29,  30,  31,  32,  33,  34,  35,  36,  37,  38,  39,\n",
      "        40,  41,  42,  43,  44,  45,  46,  47,  48,  49,  50,  51,  52,\n",
      "        53,  54,  55,  56,  57,  58,  59,  60,  61,  62,  63,  64,  65,\n",
      "        66,  67,  68,  69,  70,  71,  72,  73,  74,  75,  76,  77,  78,\n",
      "        79,  80,  81,  82,  83,  84,  85,  86,  87,  88,  89,  90,  91,\n",
      "        92,  93,  94,  95,  96,  97,  98,  99, 100, 101, 102, 103, 104,\n",
      "       105, 106, 107, 108, 109, 110, 111, 112, 113, 114, 115, 116, 117,\n",
      "       118, 119, 120, 121, 122, 123, 124, 125, 126, 127, 128, 129, 130,\n",
      "       131, 132, 133, 134, 135, 136, 137, 138, 139, 140, 141, 142, 143,\n",
      "       144, 145, 146, 147, 148, 149, 150, 151, 152, 153, 154, 155, 156,\n",
      "       157, 158, 159, 160, 161, 162, 163, 164, 165, 166, 167, 168, 169,\n",
      "       170, 171, 172, 173, 174, 175, 176, 177, 178, 179, 180, 181, 182,\n",
      "       183, 184, 185, 186, 187, 188, 189, 190, 191, 192, 193, 194, 195,\n",
      "       196, 197, 198, 199, 200], dtype=int64)}\n",
      "{'Gender': array(['Male', 'Female'], dtype=object)}\n",
      "{'Age': array([19, 21, 20, 23, 31, 22, 35, 64, 30, 67, 58, 24, 37, 52, 25, 46, 54,\n",
      "       29, 45, 40, 60, 53, 18, 49, 42, 36, 65, 48, 50, 27, 33, 59, 47, 51,\n",
      "       69, 70, 63, 43, 68, 32, 26, 57, 38, 55, 34, 66, 39, 44, 28, 56, 41],\n",
      "      dtype=int64)}\n",
      "{'Annual Income (k$)': array([ 15,  16,  17,  18,  19,  20,  21,  23,  24,  25,  28,  29,  30,\n",
      "        33,  34,  37,  38,  39,  40,  42,  43,  44,  46,  47,  48,  49,\n",
      "        50,  54,  57,  58,  59,  60,  61,  62,  63,  64,  65,  67,  69,\n",
      "        70,  71,  72,  73,  74,  75,  76,  77,  78,  79,  81,  85,  86,\n",
      "        87,  88,  93,  97,  98,  99, 101, 103, 113, 120, 126, 137],\n",
      "      dtype=int64)}\n",
      "{'Spending Score (1-100)': array([39, 81,  6, 77, 40, 76, 94,  3, 72, 14, 99, 15, 13, 79, 35, 66, 29,\n",
      "       98, 73,  5, 82, 32, 61, 31, 87,  4, 92, 17, 26, 75, 36, 28, 65, 55,\n",
      "       47, 42, 52, 60, 54, 45, 41, 50, 46, 51, 56, 59, 48, 49, 53, 44, 57,\n",
      "       58, 43, 91, 95, 11,  9, 34, 71, 88,  7, 10, 93, 12, 97, 74, 22, 90,\n",
      "       20, 16, 89,  1, 78, 83, 27, 63, 86, 69, 24, 68, 85, 23,  8, 18],\n",
      "      dtype=int64)}\n"
     ]
    }
   ],
   "source": [
    "for i in df1.columns:\n",
    "    print({i:df1[i].unique()}) ### Checking Unique values in each columns"
   ]
  },
  {
   "cell_type": "code",
   "execution_count": 10,
   "id": "eae0d491",
   "metadata": {},
   "outputs": [
    {
     "name": "stdout",
     "output_type": "stream",
     "text": [
      "There are 4 numerical variables\n",
      "\n",
      "The numerical variables are : ['CustomerID', 'Age', 'Annual Income (k$)', 'Spending Score (1-100)']\n"
     ]
    }
   ],
   "source": [
    "### Finding numerical variables\n",
    "colname_num = [var for var in df1.columns if df1[var].dtype!='O']\n",
    "print('There are {} numerical variables\\n'.format(len(colname_num)))\n",
    "print('The numerical variables are :', colname_num)"
   ]
  },
  {
   "cell_type": "code",
   "execution_count": 11,
   "id": "65bd19ac",
   "metadata": {},
   "outputs": [
    {
     "name": "stdout",
     "output_type": "stream",
     "text": [
      "There are 1 categorical variables\n",
      "\n",
      "The categorical variables are : ['Gender']\n"
     ]
    }
   ],
   "source": [
    "### Finding categorical variables\n",
    "colname_cat = [var for var in df1.columns if df1[var].dtype=='O']\n",
    "print('There are {} categorical variables\\n'.format(len(colname_cat)))\n",
    "print('The categorical variables are :', colname_cat)"
   ]
  },
  {
   "cell_type": "code",
   "execution_count": 12,
   "id": "4a4eff8a",
   "metadata": {},
   "outputs": [
    {
     "data": {
      "text/plain": [
       "<seaborn.axisgrid.FacetGrid at 0x1da8c01e360>"
      ]
     },
     "execution_count": 12,
     "metadata": {},
     "output_type": "execute_result"
    },
    {
     "data": {
      "image/png": "[encoded data removed]",
      "text/plain": [
       "<Figure size 500x500 with 1 Axes>"
      ]
     },
     "metadata": {},
     "output_type": "display_data"
    }
   ],
   "source": [
    "### Distribution of age\n",
    "sns.displot(x='Age', data=df1, kde=True)"
   ]
  },
  {
   "cell_type": "code",
   "execution_count": 13,
   "id": "f08a5ed3",
   "metadata": {},
   "outputs": [
    {
     "data": {
      "text/plain": [
       "<seaborn.axisgrid.FacetGrid at 0x1da8c09ffe0>"
      ]
     },
     "execution_count": 13,
     "metadata": {},
     "output_type": "execute_result"
    },
    {
     "data": {
      "image/png": "[encoded data removed]",
      "text/plain": [
       "<Figure size 500x500 with 1 Axes>"
      ]
     },
     "metadata": {},
     "output_type": "display_data"
    }
   ],
   "source": [
    "### Distribution of income\n",
    "sns.displot(x='Annual Income (k$)', data=df1, kde=True)"
   ]
  },
  {
   "cell_type": "code",
   "execution_count": 14,
   "id": "12f76853",
   "metadata": {},
   "outputs": [
    {
     "data": {
      "text/plain": [
       "<seaborn.axisgrid.FacetGrid at 0x1da8c19bef0>"
      ]
     },
     "execution_count": 14,
     "metadata": {},
     "output_type": "execute_result"
    },
    {
     "data": {
      "image/png": "[encoded data removed]",
      "text/plain": [
       "<Figure size 500x500 with 1 Axes>"
      ]
     },
     "metadata": {},
     "output_type": "display_data"
    }
   ],
   "source": [
    "### Distribution of score\n",
    "sns.displot(x='Spending Score (1-100)', data=df1, kde=True)"
   ]
  },
  {
   "cell_type": "code",
   "execution_count": 15,
   "id": "058bc833",
   "metadata": {},
   "outputs": [
    {
     "name": "stdout",
     "output_type": "stream",
     "text": [
      "Gender\n",
      "Female    112\n",
      "Male       88\n",
      "Name: count, dtype: int64\n"
     ]
    },
    {
     "data": {
      "text/plain": [
       "<Axes: xlabel='Gender', ylabel='count'>"
      ]
     },
     "execution_count": 15,
     "metadata": {},
     "output_type": "execute_result"
    },
    {
     "data": {
      "image/png": "[encoded data removed]",
      "text/plain": [
       "<Figure size 640x480 with 1 Axes>"
      ]
     },
     "metadata": {},
     "output_type": "display_data"
    }
   ],
   "source": [
    "# distribution of categorical variable\n",
    "print(df1['Gender'].value_counts())\n",
    "sns.countplot(x='Gender', data=df1)"
   ]
  },
  {
   "cell_type": "code",
   "execution_count": 16,
   "id": "c36996b6-3b2a-4619-bdc1-e404ee40a143",
   "metadata": {},
   "outputs": [
    {
     "data": {
      "text/plain": [
       "<seaborn.axisgrid.PairGrid at 0x1da8c175a90>"
      ]
     },
     "execution_count": 16,
     "metadata": {},
     "output_type": "execute_result"
    },
    {
     "data": {
      "image/png": "[encoded data removed]",
      "text/plain": [
       "<Figure size 1000x1000 with 20 Axes>"
      ]
     },
     "metadata": {},
     "output_type": "display_data"
    }
   ],
   "source": [
    "# Creates pairwise scatter plots for all features in the dataframe 'df1'.\n",
    "sns.pairplot(df1)"
   ]
  },
  {
   "cell_type": "code",
   "execution_count": 17,
   "id": "b5b661db",
   "metadata": {},
   "outputs": [
    {
     "data": {
      "text/plain": [
       "(200, 5)"
      ]
     },
     "execution_count": 17,
     "metadata": {},
     "output_type": "execute_result"
    }
   ],
   "source": [
    "df2 = df1.copy()\n",
    "df2.shape"
   ]
  },
  {
   "cell_type": "code",
   "execution_count": 18,
   "id": "4b716b0d",
   "metadata": {},
   "outputs": [
    {
     "data": {
      "text/plain": [
       "array([[ 15,  39],\n",
       "       [ 15,  81],\n",
       "       [ 16,   6],\n",
       "       [ 16,  77],\n",
       "       [ 17,  40],\n",
       "       [ 17,  76],\n",
       "       [ 18,   6],\n",
       "       [ 18,  94],\n",
       "       [ 19,   3],\n",
       "       [ 19,  72],\n",
       "       [ 19,  14],\n",
       "       [ 19,  99],\n",
       "       [ 20,  15],\n",
       "       [ 20,  77],\n",
       "       [ 20,  13],\n",
       "       [ 20,  79],\n",
       "       [ 21,  35],\n",
       "       [ 21,  66],\n",
       "       [ 23,  29],\n",
       "       [ 23,  98],\n",
       "       [ 24,  35],\n",
       "       [ 24,  73],\n",
       "       [ 25,   5],\n",
       "       [ 25,  73],\n",
       "       [ 28,  14],\n",
       "       [ 28,  82],\n",
       "       [ 28,  32],\n",
       "       [ 28,  61],\n",
       "       [ 29,  31],\n",
       "       [ 29,  87],\n",
       "       [ 30,   4],\n",
       "       [ 30,  73],\n",
       "       [ 33,   4],\n",
       "       [ 33,  92],\n",
       "       [ 33,  14],\n",
       "       [ 33,  81],\n",
       "       [ 34,  17],\n",
       "       [ 34,  73],\n",
       "       [ 37,  26],\n",
       "       [ 37,  75],\n",
       "       [ 38,  35],\n",
       "       [ 38,  92],\n",
       "       [ 39,  36],\n",
       "       [ 39,  61],\n",
       "       [ 39,  28],\n",
       "       [ 39,  65],\n",
       "       [ 40,  55],\n",
       "       [ 40,  47],\n",
       "       [ 40,  42],\n",
       "       [ 40,  42],\n",
       "       [ 42,  52],\n",
       "       [ 42,  60],\n",
       "       [ 43,  54],\n",
       "       [ 43,  60],\n",
       "       [ 43,  45],\n",
       "       [ 43,  41],\n",
       "       [ 44,  50],\n",
       "       [ 44,  46],\n",
       "       [ 46,  51],\n",
       "       [ 46,  46],\n",
       "       [ 46,  56],\n",
       "       [ 46,  55],\n",
       "       [ 47,  52],\n",
       "       [ 47,  59],\n",
       "       [ 48,  51],\n",
       "       [ 48,  59],\n",
       "       [ 48,  50],\n",
       "       [ 48,  48],\n",
       "       [ 48,  59],\n",
       "       [ 48,  47],\n",
       "       [ 49,  55],\n",
       "       [ 49,  42],\n",
       "       [ 50,  49],\n",
       "       [ 50,  56],\n",
       "       [ 54,  47],\n",
       "       [ 54,  54],\n",
       "       [ 54,  53],\n",
       "       [ 54,  48],\n",
       "       [ 54,  52],\n",
       "       [ 54,  42],\n",
       "       [ 54,  51],\n",
       "       [ 54,  55],\n",
       "       [ 54,  41],\n",
       "       [ 54,  44],\n",
       "       [ 54,  57],\n",
       "       [ 54,  46],\n",
       "       [ 57,  58],\n",
       "       [ 57,  55],\n",
       "       [ 58,  60],\n",
       "       [ 58,  46],\n",
       "       [ 59,  55],\n",
       "       [ 59,  41],\n",
       "       [ 60,  49],\n",
       "       [ 60,  40],\n",
       "       [ 60,  42],\n",
       "       [ 60,  52],\n",
       "       [ 60,  47],\n",
       "       [ 60,  50],\n",
       "       [ 61,  42],\n",
       "       [ 61,  49],\n",
       "       [ 62,  41],\n",
       "       [ 62,  48],\n",
       "       [ 62,  59],\n",
       "       [ 62,  55],\n",
       "       [ 62,  56],\n",
       "       [ 62,  42],\n",
       "       [ 63,  50],\n",
       "       [ 63,  46],\n",
       "       [ 63,  43],\n",
       "       [ 63,  48],\n",
       "       [ 63,  52],\n",
       "       [ 63,  54],\n",
       "       [ 64,  42],\n",
       "       [ 64,  46],\n",
       "       [ 65,  48],\n",
       "       [ 65,  50],\n",
       "       [ 65,  43],\n",
       "       [ 65,  59],\n",
       "       [ 67,  43],\n",
       "       [ 67,  57],\n",
       "       [ 67,  56],\n",
       "       [ 67,  40],\n",
       "       [ 69,  58],\n",
       "       [ 69,  91],\n",
       "       [ 70,  29],\n",
       "       [ 70,  77],\n",
       "       [ 71,  35],\n",
       "       [ 71,  95],\n",
       "       [ 71,  11],\n",
       "       [ 71,  75],\n",
       "       [ 71,   9],\n",
       "       [ 71,  75],\n",
       "       [ 72,  34],\n",
       "       [ 72,  71],\n",
       "       [ 73,   5],\n",
       "       [ 73,  88],\n",
       "       [ 73,   7],\n",
       "       [ 73,  73],\n",
       "       [ 74,  10],\n",
       "       [ 74,  72],\n",
       "       [ 75,   5],\n",
       "       [ 75,  93],\n",
       "       [ 76,  40],\n",
       "       [ 76,  87],\n",
       "       [ 77,  12],\n",
       "       [ 77,  97],\n",
       "       [ 77,  36],\n",
       "       [ 77,  74],\n",
       "       [ 78,  22],\n",
       "       [ 78,  90],\n",
       "       [ 78,  17],\n",
       "       [ 78,  88],\n",
       "       [ 78,  20],\n",
       "       [ 78,  76],\n",
       "       [ 78,  16],\n",
       "       [ 78,  89],\n",
       "       [ 78,   1],\n",
       "       [ 78,  78],\n",
       "       [ 78,   1],\n",
       "       [ 78,  73],\n",
       "       [ 79,  35],\n",
       "       [ 79,  83],\n",
       "       [ 81,   5],\n",
       "       [ 81,  93],\n",
       "       [ 85,  26],\n",
       "       [ 85,  75],\n",
       "       [ 86,  20],\n",
       "       [ 86,  95],\n",
       "       [ 87,  27],\n",
       "       [ 87,  63],\n",
       "       [ 87,  13],\n",
       "       [ 87,  75],\n",
       "       [ 87,  10],\n",
       "       [ 87,  92],\n",
       "       [ 88,  13],\n",
       "       [ 88,  86],\n",
       "       [ 88,  15],\n",
       "       [ 88,  69],\n",
       "       [ 93,  14],\n",
       "       [ 93,  90],\n",
       "       [ 97,  32],\n",
       "       [ 97,  86],\n",
       "       [ 98,  15],\n",
       "       [ 98,  88],\n",
       "       [ 99,  39],\n",
       "       [ 99,  97],\n",
       "       [101,  24],\n",
       "       [101,  68],\n",
       "       [103,  17],\n",
       "       [103,  85],\n",
       "       [103,  23],\n",
       "       [103,  69],\n",
       "       [113,   8],\n",
       "       [113,  91],\n",
       "       [120,  16],\n",
       "       [120,  79],\n",
       "       [126,  28],\n",
       "       [126,  74],\n",
       "       [137,  18],\n",
       "       [137,  83]], dtype=int64)"
      ]
     },
     "execution_count": 18,
     "metadata": {},
     "output_type": "execute_result"
    }
   ],
   "source": [
    "### Feature sleection for the model\n",
    "#Considering only 2 features (Annual income and Spending Score) and no Label available\n",
    "X = df2.iloc[:, [3,4]].values\n",
    "X"
   ]
  },
  {
   "cell_type": "code",
   "execution_count": 51,
   "id": "6b7e1dc8",
   "metadata": {},
   "outputs": [
    {
     "data": {
      "application/vnd.plotly.v1+json": {
       "config": {
        "plotlyServerURL": "https://plot.ly"
       },
       "data": [
        {
         "hoverinfo": "text",
         "marker": {
          "color": "rgb(61,153,112)"
         },
         "mode": "lines",
         "type": "scatter",
         "x": [
          15,
          15,
          25,
          25
         ],
         "xaxis": "x",
         "y": [
          0,
          1.4142135623730951,
          1.4142135623730951,
          0
         ],
         "yaxis": "y"
        },
        {
         "hoverinfo": "text",
         "marker": {
          "color": "rgb(61,153,112)"
         },
         "mode": "lines",
         "type": "scatter",
         "x": [
          35,
          35,
          45,
          45
         ],
         "xaxis": "x",
         "y": [
          0,
          2,
          2,
          0
         ],
         "yaxis": "y"
        },
        {
         "hoverinfo": "text",
         "marker": {
          "color": "rgb(61,153,112)"
         },
         "mode": "lines",
         "type": "scatter",
         "x": [
          20,
          20,
          40,
          40
         ],
         "xaxis": "x",
         "y": [
          1.4142135623730951,
          5.385164807134504,
          5.385164807134504,
          2
         ],
         "yaxis": "y"
        },
        {
         "hoverinfo": "text",
         "marker": {
          "color": "rgb(61,153,112)"
         },
         "mode": "lines",
         "type": "scatter",
         "x": [
          5,
          5,
          30,
          30
         ],
         "xaxis": "x",
         "y": [
          0,
          6.276941930590087,
          6.276941930590087,
          5.385164807134504
         ],
         "yaxis": "y"
        },
        {
         "hoverinfo": "text",
         "marker": {
          "color": "rgb(61,153,112)"
         },
         "mode": "lines",
         "type": "scatter",
         "x": [
          55,
          55,
          65,
          65
         ],
         "xaxis": "x",
         "y": [
          0,
          3.605551275463989,
          3.605551275463989,
          0
         ],
         "yaxis": "y"
        },
        {
         "hoverinfo": "text",
         "marker": {
          "color": "rgb(61,153,112)"
         },
         "mode": "lines",
         "type": "scatter",
         "x": [
          85,
          85,
          95,
          95
         ],
         "xaxis": "x",
         "y": [
          0,
          6.324555320336759,
          6.324555320336759,
          0
         ],
         "yaxis": "y"
        },
        {
         "hoverinfo": "text",
         "marker": {
          "color": "rgb(61,153,112)"
         },
         "mode": "lines",
         "type": "scatter",
         "x": [
          115,
          115,
          125,
          125
         ],
         "xaxis": "x",
         "y": [
          0,
          1,
          1,
          0
         ],
         "yaxis": "y"
        },
        {
         "hoverinfo": "text",
         "marker": {
          "color": "rgb(61,153,112)"
         },
         "mode": "lines",
         "type": "scatter",
         "x": [
          105,
          105,
          120,
          120
         ],
         "xaxis": "x",
         "y": [
          0,
          6.350852961085883,
          6.350852961085883,
          1
         ],
         "yaxis": "y"
        },
        {
         "hoverinfo": "text",
         "marker": {
          "color": "rgb(61,153,112)"
         },
         "mode": "lines",
         "type": "scatter",
         "x": [
          90,
          90,
          112.5,
          112.5
         ],
         "xaxis": "x",
         "y": [
          6.324555320336759,
          11.604596790352806,
          11.604596790352806,
          6.350852961085883
         ],
         "yaxis": "y"
        },
        {
         "hoverinfo": "text",
         "marker": {
          "color": "rgb(61,153,112)"
         },
         "mode": "lines",
         "type": "scatter",
         "x": [
          75,
          75,
          101.25,
          101.25
         ],
         "xaxis": "x",
         "y": [
          0,
          14.479871085982314,
          14.479871085982314,
          11.604596790352806
         ],
         "yaxis": "y"
        },
        {
         "hoverinfo": "text",
         "marker": {
          "color": "rgb(61,153,112)"
         },
         "mode": "lines",
         "type": "scatter",
         "x": [
          60,
          60,
          88.125,
          88.125
         ],
         "xaxis": "x",
         "y": [
          3.605551275463989,
          20.477630071210225,
          20.477630071210225,
          14.479871085982314
         ],
         "yaxis": "y"
        },
        {
         "hoverinfo": "text",
         "marker": {
          "color": "rgb(61,153,112)"
         },
         "mode": "lines",
         "type": "scatter",
         "x": [
          17.5,
          17.5,
          74.0625,
          74.0625
         ],
         "xaxis": "x",
         "y": [
          6.276941930590087,
          29.941995206116058,
          29.941995206116058,
          20.477630071210225
         ],
         "yaxis": "y"
        },
        {
         "hoverinfo": "text",
         "marker": {
          "color": "rgb(61,153,112)"
         },
         "mode": "lines",
         "type": "scatter",
         "x": [
          145,
          145,
          155,
          155
         ],
         "xaxis": "x",
         "y": [
          0,
          4.123105625617661,
          4.123105625617661,
          0
         ],
         "yaxis": "y"
        },
        {
         "hoverinfo": "text",
         "marker": {
          "color": "rgb(61,153,112)"
         },
         "mode": "lines",
         "type": "scatter",
         "x": [
          135,
          135,
          150,
          150
         ],
         "xaxis": "x",
         "y": [
          0,
          6.244997998398397,
          6.244997998398397,
          4.123105625617661
         ],
         "yaxis": "y"
        },
        {
         "hoverinfo": "text",
         "marker": {
          "color": "rgb(61,153,112)"
         },
         "mode": "lines",
         "type": "scatter",
         "x": [
          165,
          165,
          175,
          175
         ],
         "xaxis": "x",
         "y": [
          0,
          5,
          5,
          0
         ],
         "yaxis": "y"
        },
        {
         "hoverinfo": "text",
         "marker": {
          "color": "rgb(61,153,112)"
         },
         "mode": "lines",
         "type": "scatter",
         "x": [
          195,
          195,
          205,
          205
         ],
         "xaxis": "x",
         "y": [
          0,
          5.0990195135927845,
          5.0990195135927845,
          0
         ],
         "yaxis": "y"
        },
        {
         "hoverinfo": "text",
         "marker": {
          "color": "rgb(61,153,112)"
         },
         "mode": "lines",
         "type": "scatter",
         "x": [
          185,
          185,
          200,
          200
         ],
         "xaxis": "x",
         "y": [
          0,
          6.5828058860438325,
          6.5828058860438325,
          5.0990195135927845
         ],
         "yaxis": "y"
        },
        {
         "hoverinfo": "text",
         "marker": {
          "color": "rgb(61,153,112)"
         },
         "mode": "lines",
         "type": "scatter",
         "x": [
          170,
          170,
          192.5,
          192.5
         ],
         "xaxis": "x",
         "y": [
          5,
          15.901781870805129,
          15.901781870805129,
          6.5828058860438325
         ],
         "yaxis": "y"
        },
        {
         "hoverinfo": "text",
         "marker": {
          "color": "rgb(61,153,112)"
         },
         "mode": "lines",
         "type": "scatter",
         "x": [
          142.5,
          142.5,
          181.25,
          181.25
         ],
         "xaxis": "x",
         "y": [
          6.244997998398397,
          30.794480024835618,
          30.794480024835618,
          15.901781870805129
         ],
         "yaxis": "y"
        },
        {
         "hoverinfo": "text",
         "marker": {
          "color": "rgb(61,153,112)"
         },
         "mode": "lines",
         "type": "scatter",
         "x": [
          45.78125,
          45.78125,
          161.875,
          161.875
         ],
         "xaxis": "x",
         "y": [
          29.941995206116058,
          55.29105472497999,
          55.29105472497999,
          30.794480024835618
         ],
         "yaxis": "y"
        },
        {
         "hoverinfo": "text",
         "marker": {
          "color": "rgb(61,153,112)"
         },
         "mode": "lines",
         "type": "scatter",
         "x": [
          225,
          225,
          235,
          235
         ],
         "xaxis": "x",
         "y": [
          0,
          1.4142135623730951,
          1.4142135623730951,
          0
         ],
         "yaxis": "y"
        },
        {
         "hoverinfo": "text",
         "marker": {
          "color": "rgb(61,153,112)"
         },
         "mode": "lines",
         "type": "scatter",
         "x": [
          215,
          215,
          230,
          230
         ],
         "xaxis": "x",
         "y": [
          0,
          1.8257418583505536,
          1.8257418583505536,
          1.4142135623730951
         ],
         "yaxis": "y"
        },
        {
         "hoverinfo": "text",
         "marker": {
          "color": "rgb(61,153,112)"
         },
         "mode": "lines",
         "type": "scatter",
         "x": [
          255,
          255,
          265,
          265
         ],
         "xaxis": "x",
         "y": [
          0,
          2,
          2,
          0
         ],
         "yaxis": "y"
        },
        {
         "hoverinfo": "text",
         "marker": {
          "color": "rgb(61,153,112)"
         },
         "mode": "lines",
         "type": "scatter",
         "x": [
          245,
          245,
          260,
          260
         ],
         "xaxis": "x",
         "y": [
          0,
          4.163331998932265,
          4.163331998932265,
          2
         ],
         "yaxis": "y"
        },
        {
         "hoverinfo": "text",
         "marker": {
          "color": "rgb(61,153,112)"
         },
         "mode": "lines",
         "type": "scatter",
         "x": [
          222.5,
          222.5,
          252.5,
          252.5
         ],
         "xaxis": "x",
         "y": [
          1.8257418583505536,
          15.968719422671311,
          15.968719422671311,
          4.163331998932265
         ],
         "yaxis": "y"
        },
        {
         "hoverinfo": "text",
         "marker": {
          "color": "rgb(61,153,112)"
         },
         "mode": "lines",
         "type": "scatter",
         "x": [
          285,
          285,
          295,
          295
         ],
         "xaxis": "x",
         "y": [
          0,
          3.1622776601683795,
          3.1622776601683795,
          0
         ],
         "yaxis": "y"
        },
        {
         "hoverinfo": "text",
         "marker": {
          "color": "rgb(61,153,112)"
         },
         "mode": "lines",
         "type": "scatter",
         "x": [
          275,
          275,
          290,
          290
         ],
         "xaxis": "x",
         "y": [
          0,
          6.582805886043833,
          6.582805886043833,
          3.1622776601683795
         ],
         "yaxis": "y"
        },
        {
         "hoverinfo": "text",
         "marker": {
          "color": "rgb(61,153,112)"
         },
         "mode": "lines",
         "type": "scatter",
         "x": [
          315,
          315,
          325,
          325
         ],
         "xaxis": "x",
         "y": [
          0,
          3,
          3,
          0
         ],
         "yaxis": "y"
        },
        {
         "hoverinfo": "text",
         "marker": {
          "color": "rgb(61,153,112)"
         },
         "mode": "lines",
         "type": "scatter",
         "x": [
          305,
          305,
          320,
          320
         ],
         "xaxis": "x",
         "y": [
          0,
          7.593857166596345,
          7.593857166596345,
          3
         ],
         "yaxis": "y"
        },
        {
         "hoverinfo": "text",
         "marker": {
          "color": "rgb(61,153,112)"
         },
         "mode": "lines",
         "type": "scatter",
         "x": [
          282.5,
          282.5,
          312.5,
          312.5
         ],
         "xaxis": "x",
         "y": [
          6.582805886043833,
          18.91207727000571,
          18.91207727000571,
          7.593857166596345
         ],
         "yaxis": "y"
        },
        {
         "hoverinfo": "text",
         "marker": {
          "color": "rgb(61,153,112)"
         },
         "mode": "lines",
         "type": "scatter",
         "x": [
          237.5,
          237.5,
          297.5,
          297.5
         ],
         "xaxis": "x",
         "y": [
          15.968719422671311,
          28.98850346832919,
          28.98850346832919,
          18.91207727000571
         ],
         "yaxis": "y"
        },
        {
         "hoverinfo": "text",
         "marker": {
          "color": "rgb(61,153,112)"
         },
         "mode": "lines",
         "type": "scatter",
         "x": [
          335,
          335,
          345,
          345
         ],
         "xaxis": "x",
         "y": [
          0,
          1.4142135623730951,
          1.4142135623730951,
          0
         ],
         "yaxis": "y"
        },
        {
         "hoverinfo": "text",
         "marker": {
          "color": "rgb(61,153,112)"
         },
         "mode": "lines",
         "type": "scatter",
         "x": [
          355,
          355,
          365,
          365
         ],
         "xaxis": "x",
         "y": [
          0,
          2.8284271247461903,
          2.8284271247461903,
          0
         ],
         "yaxis": "y"
        },
        {
         "hoverinfo": "text",
         "marker": {
          "color": "rgb(61,153,112)"
         },
         "mode": "lines",
         "type": "scatter",
         "x": [
          340,
          340,
          360,
          360
         ],
         "xaxis": "x",
         "y": [
          1.4142135623730951,
          12.041594578792294,
          12.041594578792294,
          2.8284271247461903
         ],
         "yaxis": "y"
        },
        {
         "hoverinfo": "text",
         "marker": {
          "color": "rgb(61,153,112)"
         },
         "mode": "lines",
         "type": "scatter",
         "x": [
          375,
          375,
          385,
          385
         ],
         "xaxis": "x",
         "y": [
          0,
          2.23606797749979,
          2.23606797749979,
          0
         ],
         "yaxis": "y"
        },
        {
         "hoverinfo": "text",
         "marker": {
          "color": "rgb(61,153,112)"
         },
         "mode": "lines",
         "type": "scatter",
         "x": [
          395,
          395,
          405,
          405
         ],
         "xaxis": "x",
         "y": [
          0,
          1.4142135623730951,
          1.4142135623730951,
          0
         ],
         "yaxis": "y"
        },
        {
         "hoverinfo": "text",
         "marker": {
          "color": "rgb(61,153,112)"
         },
         "mode": "lines",
         "type": "scatter",
         "x": [
          425,
          425,
          435,
          435
         ],
         "xaxis": "x",
         "y": [
          0,
          3,
          3,
          0
         ],
         "yaxis": "y"
        },
        {
         "hoverinfo": "text",
         "marker": {
          "color": "rgb(61,153,112)"
         },
         "mode": "lines",
         "type": "scatter",
         "x": [
          415,
          415,
          430,
          430
         ],
         "xaxis": "x",
         "y": [
          0,
          6.952217871538069,
          6.952217871538069,
          3
         ],
         "yaxis": "y"
        },
        {
         "hoverinfo": "text",
         "marker": {
          "color": "rgb(61,153,112)"
         },
         "mode": "lines",
         "type": "scatter",
         "x": [
          400,
          400,
          422.5,
          422.5
         ],
         "xaxis": "x",
         "y": [
          1.4142135623730951,
          9.330952077181978,
          9.330952077181978,
          6.952217871538069
         ],
         "yaxis": "y"
        },
        {
         "hoverinfo": "text",
         "marker": {
          "color": "rgb(61,153,112)"
         },
         "mode": "lines",
         "type": "scatter",
         "x": [
          380,
          380,
          411.25,
          411.25
         ],
         "xaxis": "x",
         "y": [
          2.23606797749979,
          19.376716513825112,
          19.376716513825112,
          9.330952077181978
         ],
         "yaxis": "y"
        },
        {
         "hoverinfo": "text",
         "marker": {
          "color": "rgb(61,153,112)"
         },
         "mode": "lines",
         "type": "scatter",
         "x": [
          350,
          350,
          395.625,
          395.625
         ],
         "xaxis": "x",
         "y": [
          12.041594578792294,
          36.41125129378583,
          36.41125129378583,
          19.376716513825112
         ],
         "yaxis": "y"
        },
        {
         "hoverinfo": "text",
         "marker": {
          "color": "rgb(61,153,112)"
         },
         "mode": "lines",
         "type": "scatter",
         "x": [
          267.5,
          267.5,
          372.8125,
          372.8125
         ],
         "xaxis": "x",
         "y": [
          28.98850346832919,
          81.17935866982934,
          81.17935866982934,
          36.41125129378583
         ],
         "yaxis": "y"
        },
        {
         "hoverinfo": "text",
         "marker": {
          "color": "rgb(61,153,112)"
         },
         "mode": "lines",
         "type": "scatter",
         "x": [
          445,
          445,
          455,
          455
         ],
         "xaxis": "x",
         "y": [
          0,
          1,
          1,
          0
         ],
         "yaxis": "y"
        },
        {
         "hoverinfo": "text",
         "marker": {
          "color": "rgb(61,153,112)"
         },
         "mode": "lines",
         "type": "scatter",
         "x": [
          465,
          465,
          475,
          475
         ],
         "xaxis": "x",
         "y": [
          0,
          4,
          4,
          0
         ],
         "yaxis": "y"
        },
        {
         "hoverinfo": "text",
         "marker": {
          "color": "rgb(61,153,112)"
         },
         "mode": "lines",
         "type": "scatter",
         "x": [
          450,
          450,
          470,
          470
         ],
         "xaxis": "x",
         "y": [
          1,
          6.519202405202649,
          6.519202405202649,
          4
         ],
         "yaxis": "y"
        },
        {
         "hoverinfo": "text",
         "marker": {
          "color": "rgb(61,153,112)"
         },
         "mode": "lines",
         "type": "scatter",
         "x": [
          495,
          495,
          505,
          505
         ],
         "xaxis": "x",
         "y": [
          0,
          2.23606797749979,
          2.23606797749979,
          0
         ],
         "yaxis": "y"
        },
        {
         "hoverinfo": "text",
         "marker": {
          "color": "rgb(61,153,112)"
         },
         "mode": "lines",
         "type": "scatter",
         "x": [
          485,
          485,
          500,
          500
         ],
         "xaxis": "x",
         "y": [
          0,
          3.696845502136472,
          3.696845502136472,
          2.23606797749979
         ],
         "yaxis": "y"
        },
        {
         "hoverinfo": "text",
         "marker": {
          "color": "rgb(61,153,112)"
         },
         "mode": "lines",
         "type": "scatter",
         "x": [
          525,
          525,
          535,
          535
         ],
         "xaxis": "x",
         "y": [
          0,
          0,
          0,
          0
         ],
         "yaxis": "y"
        },
        {
         "hoverinfo": "text",
         "marker": {
          "color": "rgb(61,153,112)"
         },
         "mode": "lines",
         "type": "scatter",
         "x": [
          515,
          515,
          530,
          530
         ],
         "xaxis": "x",
         "y": [
          0,
          1.1547005383792515,
          1.1547005383792515,
          0
         ],
         "yaxis": "y"
        },
        {
         "hoverinfo": "text",
         "marker": {
          "color": "rgb(61,153,112)"
         },
         "mode": "lines",
         "type": "scatter",
         "x": [
          545,
          545,
          555,
          555
         ],
         "xaxis": "x",
         "y": [
          0,
          1,
          1,
          0
         ],
         "yaxis": "y"
        },
        {
         "hoverinfo": "text",
         "marker": {
          "color": "rgb(61,153,112)"
         },
         "mode": "lines",
         "type": "scatter",
         "x": [
          565,
          565,
          575,
          575
         ],
         "xaxis": "x",
         "y": [
          0,
          1.4142135623730951,
          1.4142135623730951,
          0
         ],
         "yaxis": "y"
        },
        {
         "hoverinfo": "text",
         "marker": {
          "color": "rgb(61,153,112)"
         },
         "mode": "lines",
         "type": "scatter",
         "x": [
          550,
          550,
          570,
          570
         ],
         "xaxis": "x",
         "y": [
          1,
          4.949747468305834,
          4.949747468305834,
          1.4142135623730951
         ],
         "yaxis": "y"
        },
        {
         "hoverinfo": "text",
         "marker": {
          "color": "rgb(61,153,112)"
         },
         "mode": "lines",
         "type": "scatter",
         "x": [
          522.5,
          522.5,
          560,
          560
         ],
         "xaxis": "x",
         "y": [
          1.1547005383792515,
          6.48257738278607,
          6.48257738278607,
          4.949747468305834
         ],
         "yaxis": "y"
        },
        {
         "hoverinfo": "text",
         "marker": {
          "color": "rgb(61,153,112)"
         },
         "mode": "lines",
         "type": "scatter",
         "x": [
          492.5,
          492.5,
          541.25,
          541.25
         ],
         "xaxis": "x",
         "y": [
          3.696845502136472,
          14.151897062803647,
          14.151897062803647,
          6.48257738278607
         ],
         "yaxis": "y"
        },
        {
         "hoverinfo": "text",
         "marker": {
          "color": "rgb(61,153,112)"
         },
         "mode": "lines",
         "type": "scatter",
         "x": [
          460,
          460,
          516.875,
          516.875
         ],
         "xaxis": "x",
         "y": [
          6.519202405202649,
          18.011504260174544,
          18.011504260174544,
          14.151897062803647
         ],
         "yaxis": "y"
        },
        {
         "hoverinfo": "text",
         "marker": {
          "color": "rgb(61,153,112)"
         },
         "mode": "lines",
         "type": "scatter",
         "x": [
          595,
          595,
          605,
          605
         ],
         "xaxis": "x",
         "y": [
          0,
          1,
          1,
          0
         ],
         "yaxis": "y"
        },
        {
         "hoverinfo": "text",
         "marker": {
          "color": "rgb(61,153,112)"
         },
         "mode": "lines",
         "type": "scatter",
         "x": [
          585,
          585,
          600,
          600
         ],
         "xaxis": "x",
         "y": [
          0,
          1.7320508075688772,
          1.7320508075688772,
          1
         ],
         "yaxis": "y"
        },
        {
         "hoverinfo": "text",
         "marker": {
          "color": "rgb(61,153,112)"
         },
         "mode": "lines",
         "type": "scatter",
         "x": [
          635,
          635,
          645,
          645
         ],
         "xaxis": "x",
         "y": [
          0,
          1,
          1,
          0
         ],
         "yaxis": "y"
        },
        {
         "hoverinfo": "text",
         "marker": {
          "color": "rgb(61,153,112)"
         },
         "mode": "lines",
         "type": "scatter",
         "x": [
          625,
          625,
          640,
          640
         ],
         "xaxis": "x",
         "y": [
          0,
          2.8867513459481287,
          2.8867513459481287,
          1
         ],
         "yaxis": "y"
        },
        {
         "hoverinfo": "text",
         "marker": {
          "color": "rgb(61,153,112)"
         },
         "mode": "lines",
         "type": "scatter",
         "x": [
          615,
          615,
          632.5,
          632.5
         ],
         "xaxis": "x",
         "y": [
          0,
          6.137317546507322,
          6.137317546507322,
          2.8867513459481287
         ],
         "yaxis": "y"
        },
        {
         "hoverinfo": "text",
         "marker": {
          "color": "rgb(61,153,112)"
         },
         "mode": "lines",
         "type": "scatter",
         "x": [
          592.5,
          592.5,
          623.75,
          623.75
         ],
         "xaxis": "x",
         "y": [
          1.7320508075688772,
          9.094739452798288,
          9.094739452798288,
          6.137317546507322
         ],
         "yaxis": "y"
        },
        {
         "hoverinfo": "text",
         "marker": {
          "color": "rgb(61,153,112)"
         },
         "mode": "lines",
         "type": "scatter",
         "x": [
          675,
          675,
          685,
          685
         ],
         "xaxis": "x",
         "y": [
          0,
          1,
          1,
          0
         ],
         "yaxis": "y"
        },
        {
         "hoverinfo": "text",
         "marker": {
          "color": "rgb(61,153,112)"
         },
         "mode": "lines",
         "type": "scatter",
         "x": [
          665,
          665,
          680,
          680
         ],
         "xaxis": "x",
         "y": [
          0,
          2.886751345948129,
          2.886751345948129,
          1
         ],
         "yaxis": "y"
        },
        {
         "hoverinfo": "text",
         "marker": {
          "color": "rgb(61,153,112)"
         },
         "mode": "lines",
         "type": "scatter",
         "x": [
          655,
          655,
          672.5,
          672.5
         ],
         "xaxis": "x",
         "y": [
          0,
          4.0824829046386295,
          4.0824829046386295,
          2.886751345948129
         ],
         "yaxis": "y"
        },
        {
         "hoverinfo": "text",
         "marker": {
          "color": "rgb(61,153,112)"
         },
         "mode": "lines",
         "type": "scatter",
         "x": [
          705,
          705,
          715,
          715
         ],
         "xaxis": "x",
         "y": [
          0,
          1,
          1,
          0
         ],
         "yaxis": "y"
        },
        {
         "hoverinfo": "text",
         "marker": {
          "color": "rgb(61,153,112)"
         },
         "mode": "lines",
         "type": "scatter",
         "x": [
          725,
          725,
          735,
          735
         ],
         "xaxis": "x",
         "y": [
          0,
          1.4142135623730951,
          1.4142135623730951,
          0
         ],
         "yaxis": "y"
        },
        {
         "hoverinfo": "text",
         "marker": {
          "color": "rgb(61,153,112)"
         },
         "mode": "lines",
         "type": "scatter",
         "x": [
          710,
          710,
          730,
          730
         ],
         "xaxis": "x",
         "y": [
          1,
          2.5495097567963927,
          2.5495097567963927,
          1.4142135623730951
         ],
         "yaxis": "y"
        },
        {
         "hoverinfo": "text",
         "marker": {
          "color": "rgb(61,153,112)"
         },
         "mode": "lines",
         "type": "scatter",
         "x": [
          695,
          695,
          720,
          720
         ],
         "xaxis": "x",
         "y": [
          0,
          4.301162633521313,
          4.301162633521313,
          2.5495097567963927
         ],
         "yaxis": "y"
        },
        {
         "hoverinfo": "text",
         "marker": {
          "color": "rgb(61,153,112)"
         },
         "mode": "lines",
         "type": "scatter",
         "x": [
          663.75,
          663.75,
          707.5,
          707.5
         ],
         "xaxis": "x",
         "y": [
          4.0824829046386295,
          7.557189365836423,
          7.557189365836423,
          4.301162633521313
         ],
         "yaxis": "y"
        },
        {
         "hoverinfo": "text",
         "marker": {
          "color": "rgb(61,153,112)"
         },
         "mode": "lines",
         "type": "scatter",
         "x": [
          755,
          755,
          765,
          765
         ],
         "xaxis": "x",
         "y": [
          0,
          0,
          0,
          0
         ],
         "yaxis": "y"
        },
        {
         "hoverinfo": "text",
         "marker": {
          "color": "rgb(61,153,112)"
         },
         "mode": "lines",
         "type": "scatter",
         "x": [
          745,
          745,
          760,
          760
         ],
         "xaxis": "x",
         "y": [
          0,
          3.6514837167011076,
          3.6514837167011076,
          0
         ],
         "yaxis": "y"
        },
        {
         "hoverinfo": "text",
         "marker": {
          "color": "rgb(61,153,112)"
         },
         "mode": "lines",
         "type": "scatter",
         "x": [
          785,
          785,
          795,
          795
         ],
         "xaxis": "x",
         "y": [
          0,
          1.4142135623730951,
          1.4142135623730951,
          0
         ],
         "yaxis": "y"
        },
        {
         "hoverinfo": "text",
         "marker": {
          "color": "rgb(61,153,112)"
         },
         "mode": "lines",
         "type": "scatter",
         "x": [
          775,
          775,
          790,
          790
         ],
         "xaxis": "x",
         "y": [
          0,
          4.396968652757639,
          4.396968652757639,
          1.4142135623730951
         ],
         "yaxis": "y"
        },
        {
         "hoverinfo": "text",
         "marker": {
          "color": "rgb(61,153,112)"
         },
         "mode": "lines",
         "type": "scatter",
         "x": [
          752.5,
          752.5,
          782.5,
          782.5
         ],
         "xaxis": "x",
         "y": [
          3.6514837167011076,
          7.852812659593163,
          7.852812659593163,
          4.396968652757639
         ],
         "yaxis": "y"
        },
        {
         "hoverinfo": "text",
         "marker": {
          "color": "rgb(61,153,112)"
         },
         "mode": "lines",
         "type": "scatter",
         "x": [
          685.625,
          685.625,
          767.5,
          767.5
         ],
         "xaxis": "x",
         "y": [
          7.557189365836423,
          20.97670665815352,
          20.97670665815352,
          7.852812659593163
         ],
         "yaxis": "y"
        },
        {
         "hoverinfo": "text",
         "marker": {
          "color": "rgb(61,153,112)"
         },
         "mode": "lines",
         "type": "scatter",
         "x": [
          608.125,
          608.125,
          726.5625,
          726.5625
         ],
         "xaxis": "x",
         "y": [
          9.094739452798288,
          27.068951559455314,
          27.068951559455314,
          20.97670665815352
         ],
         "yaxis": "y"
        },
        {
         "hoverinfo": "text",
         "marker": {
          "color": "rgb(61,153,112)"
         },
         "mode": "lines",
         "type": "scatter",
         "x": [
          488.4375,
          488.4375,
          667.34375,
          667.34375
         ],
         "xaxis": "x",
         "y": [
          18.011504260174544,
          48.76575484496108,
          48.76575484496108,
          27.068951559455314
         ],
         "yaxis": "y"
        },
        {
         "hoverinfo": "text",
         "marker": {
          "color": "rgb(61,153,112)"
         },
         "mode": "lines",
         "type": "scatter",
         "x": [
          815,
          815,
          825,
          825
         ],
         "xaxis": "x",
         "y": [
          0,
          2.23606797749979,
          2.23606797749979,
          0
         ],
         "yaxis": "y"
        },
        {
         "hoverinfo": "text",
         "marker": {
          "color": "rgb(61,153,112)"
         },
         "mode": "lines",
         "type": "scatter",
         "x": [
          805,
          805,
          820,
          820
         ],
         "xaxis": "x",
         "y": [
          0,
          5.686240703077327,
          5.686240703077327,
          2.23606797749979
         ],
         "yaxis": "y"
        },
        {
         "hoverinfo": "text",
         "marker": {
          "color": "rgb(61,153,112)"
         },
         "mode": "lines",
         "type": "scatter",
         "x": [
          845,
          845,
          855,
          855
         ],
         "xaxis": "x",
         "y": [
          0,
          1.4142135623730951,
          1.4142135623730951,
          0
         ],
         "yaxis": "y"
        },
        {
         "hoverinfo": "text",
         "marker": {
          "color": "rgb(61,153,112)"
         },
         "mode": "lines",
         "type": "scatter",
         "x": [
          835,
          835,
          850,
          850
         ],
         "xaxis": "x",
         "y": [
          0,
          6.5828058860438325,
          6.5828058860438325,
          1.4142135623730951
         ],
         "yaxis": "y"
        },
        {
         "hoverinfo": "text",
         "marker": {
          "color": "rgb(61,153,112)"
         },
         "mode": "lines",
         "type": "scatter",
         "x": [
          812.5,
          812.5,
          842.5,
          842.5
         ],
         "xaxis": "x",
         "y": [
          5.686240703077327,
          13.291601358251258,
          13.291601358251258,
          6.5828058860438325
         ],
         "yaxis": "y"
        },
        {
         "hoverinfo": "text",
         "marker": {
          "color": "rgb(61,153,112)"
         },
         "mode": "lines",
         "type": "scatter",
         "x": [
          865,
          865,
          875,
          875
         ],
         "xaxis": "x",
         "y": [
          0,
          2.23606797749979,
          2.23606797749979,
          0
         ],
         "yaxis": "y"
        },
        {
         "hoverinfo": "text",
         "marker": {
          "color": "rgb(61,153,112)"
         },
         "mode": "lines",
         "type": "scatter",
         "x": [
          905,
          905,
          915,
          915
         ],
         "xaxis": "x",
         "y": [
          0,
          1,
          1,
          0
         ],
         "yaxis": "y"
        },
        {
         "hoverinfo": "text",
         "marker": {
          "color": "rgb(61,153,112)"
         },
         "mode": "lines",
         "type": "scatter",
         "x": [
          895,
          895,
          910,
          910
         ],
         "xaxis": "x",
         "y": [
          0,
          1.2909944487358056,
          1.2909944487358056,
          1
         ],
         "yaxis": "y"
        },
        {
         "hoverinfo": "text",
         "marker": {
          "color": "rgb(61,153,112)"
         },
         "mode": "lines",
         "type": "scatter",
         "x": [
          885,
          885,
          902.5,
          902.5
         ],
         "xaxis": "x",
         "y": [
          0,
          3.2914029430219167,
          3.2914029430219167,
          1.2909944487358056
         ],
         "yaxis": "y"
        },
        {
         "hoverinfo": "text",
         "marker": {
          "color": "rgb(61,153,112)"
         },
         "mode": "lines",
         "type": "scatter",
         "x": [
          870,
          870,
          893.75,
          893.75
         ],
         "xaxis": "x",
         "y": [
          2.23606797749979,
          6.069047152011041,
          6.069047152011041,
          3.2914029430219167
         ],
         "yaxis": "y"
        },
        {
         "hoverinfo": "text",
         "marker": {
          "color": "rgb(61,153,112)"
         },
         "mode": "lines",
         "type": "scatter",
         "x": [
          925,
          925,
          935,
          935
         ],
         "xaxis": "x",
         "y": [
          0,
          1,
          1,
          0
         ],
         "yaxis": "y"
        },
        {
         "hoverinfo": "text",
         "marker": {
          "color": "rgb(61,153,112)"
         },
         "mode": "lines",
         "type": "scatter",
         "x": [
          945,
          945,
          955,
          955
         ],
         "xaxis": "x",
         "y": [
          0,
          1,
          1,
          0
         ],
         "yaxis": "y"
        },
        {
         "hoverinfo": "text",
         "marker": {
          "color": "rgb(61,153,112)"
         },
         "mode": "lines",
         "type": "scatter",
         "x": [
          930,
          930,
          950,
          950
         ],
         "xaxis": "x",
         "y": [
          1,
          3.1622776601683795,
          3.1622776601683795,
          1
         ],
         "yaxis": "y"
        },
        {
         "hoverinfo": "text",
         "marker": {
          "color": "rgb(61,153,112)"
         },
         "mode": "lines",
         "type": "scatter",
         "x": [
          965,
          965,
          975,
          975
         ],
         "xaxis": "x",
         "y": [
          0,
          2,
          2,
          0
         ],
         "yaxis": "y"
        },
        {
         "hoverinfo": "text",
         "marker": {
          "color": "rgb(61,153,112)"
         },
         "mode": "lines",
         "type": "scatter",
         "x": [
          985,
          985,
          995,
          995
         ],
         "xaxis": "x",
         "y": [
          0,
          2,
          2,
          0
         ],
         "yaxis": "y"
        },
        {
         "hoverinfo": "text",
         "marker": {
          "color": "rgb(61,153,112)"
         },
         "mode": "lines",
         "type": "scatter",
         "x": [
          970,
          970,
          990,
          990
         ],
         "xaxis": "x",
         "y": [
          2,
          4,
          4,
          2
         ],
         "yaxis": "y"
        },
        {
         "hoverinfo": "text",
         "marker": {
          "color": "rgb(61,153,112)"
         },
         "mode": "lines",
         "type": "scatter",
         "x": [
          940,
          940,
          980,
          980
         ],
         "xaxis": "x",
         "y": [
          3.1622776601683795,
          6.324555320336758,
          6.324555320336758,
          4
         ],
         "yaxis": "y"
        },
        {
         "hoverinfo": "text",
         "marker": {
          "color": "rgb(61,153,112)"
         },
         "mode": "lines",
         "type": "scatter",
         "x": [
          881.875,
          881.875,
          960,
          960
         ],
         "xaxis": "x",
         "y": [
          6.069047152011041,
          9.641181512261914,
          9.641181512261914,
          6.324555320336758
         ],
         "yaxis": "y"
        },
        {
         "hoverinfo": "text",
         "marker": {
          "color": "rgb(61,153,112)"
         },
         "mode": "lines",
         "type": "scatter",
         "x": [
          1005,
          1005,
          1015,
          1015
         ],
         "xaxis": "x",
         "y": [
          0,
          1.4142135623730951,
          1.4142135623730951,
          0
         ],
         "yaxis": "y"
        },
        {
         "hoverinfo": "text",
         "marker": {
          "color": "rgb(61,153,112)"
         },
         "mode": "lines",
         "type": "scatter",
         "x": [
          1025,
          1025,
          1035,
          1035
         ],
         "xaxis": "x",
         "y": [
          0,
          1,
          1,
          0
         ],
         "yaxis": "y"
        },
        {
         "hoverinfo": "text",
         "marker": {
          "color": "rgb(61,153,112)"
         },
         "mode": "lines",
         "type": "scatter",
         "x": [
          1045,
          1045,
          1055,
          1055
         ],
         "xaxis": "x",
         "y": [
          0,
          1,
          1,
          0
         ],
         "yaxis": "y"
        },
        {
         "hoverinfo": "text",
         "marker": {
          "color": "rgb(61,153,112)"
         },
         "mode": "lines",
         "type": "scatter",
         "x": [
          1030,
          1030,
          1050,
          1050
         ],
         "xaxis": "x",
         "y": [
          1,
          2.23606797749979,
          2.23606797749979,
          1
         ],
         "yaxis": "y"
        },
        {
         "hoverinfo": "text",
         "marker": {
          "color": "rgb(61,153,112)"
         },
         "mode": "lines",
         "type": "scatter",
         "x": [
          1010,
          1010,
          1040,
          1040
         ],
         "xaxis": "x",
         "y": [
          1.4142135623730951,
          3.511884584284247,
          3.511884584284247,
          2.23606797749979
         ],
         "yaxis": "y"
        },
        {
         "hoverinfo": "text",
         "marker": {
          "color": "rgb(61,153,112)"
         },
         "mode": "lines",
         "type": "scatter",
         "x": [
          1075,
          1075,
          1085,
          1085
         ],
         "xaxis": "x",
         "y": [
          0,
          1.4142135623730951,
          1.4142135623730951,
          0
         ],
         "yaxis": "y"
        },
        {
         "hoverinfo": "text",
         "marker": {
          "color": "rgb(61,153,112)"
         },
         "mode": "lines",
         "type": "scatter",
         "x": [
          1065,
          1065,
          1080,
          1080
         ],
         "xaxis": "x",
         "y": [
          0,
          1.8257418583505536,
          1.8257418583505536,
          1.4142135623730951
         ],
         "yaxis": "y"
        },
        {
         "hoverinfo": "text",
         "marker": {
          "color": "rgb(61,153,112)"
         },
         "mode": "lines",
         "type": "scatter",
         "x": [
          1095,
          1095,
          1105,
          1105
         ],
         "xaxis": "x",
         "y": [
          0,
          3,
          3,
          0
         ],
         "yaxis": "y"
        },
        {
         "hoverinfo": "text",
         "marker": {
          "color": "rgb(61,153,112)"
         },
         "mode": "lines",
         "type": "scatter",
         "x": [
          1072.5,
          1072.5,
          1100,
          1100
         ],
         "xaxis": "x",
         "y": [
          1.8257418583505536,
          4.986648841322864,
          4.986648841322864,
          3
         ],
         "yaxis": "y"
        },
        {
         "hoverinfo": "text",
         "marker": {
          "color": "rgb(61,153,112)"
         },
         "mode": "lines",
         "type": "scatter",
         "x": [
          1025,
          1025,
          1086.25,
          1086.25
         ],
         "xaxis": "x",
         "y": [
          3.511884584284247,
          10.779329264566483,
          10.779329264566483,
          4.986648841322864
         ],
         "yaxis": "y"
        },
        {
         "hoverinfo": "text",
         "marker": {
          "color": "rgb(61,153,112)"
         },
         "mode": "lines",
         "type": "scatter",
         "x": [
          920.9375,
          920.9375,
          1055.625,
          1055.625
         ],
         "xaxis": "x",
         "y": [
          9.641181512261914,
          24.43495473674983,
          24.43495473674983,
          10.779329264566483
         ],
         "yaxis": "y"
        },
        {
         "hoverinfo": "text",
         "marker": {
          "color": "rgb(61,153,112)"
         },
         "mode": "lines",
         "type": "scatter",
         "x": [
          1125,
          1125,
          1135,
          1135
         ],
         "xaxis": "x",
         "y": [
          0,
          1,
          1,
          0
         ],
         "yaxis": "y"
        },
        {
         "hoverinfo": "text",
         "marker": {
          "color": "rgb(61,153,112)"
         },
         "mode": "lines",
         "type": "scatter",
         "x": [
          1115,
          1115,
          1130,
          1130
         ],
         "xaxis": "x",
         "y": [
          0,
          2.886751345948129,
          2.886751345948129,
          1
         ],
         "yaxis": "y"
        },
        {
         "hoverinfo": "text",
         "marker": {
          "color": "rgb(61,153,112)"
         },
         "mode": "lines",
         "type": "scatter",
         "x": [
          1155,
          1155,
          1165,
          1165
         ],
         "xaxis": "x",
         "y": [
          0,
          1,
          1,
          0
         ],
         "yaxis": "y"
        },
        {
         "hoverinfo": "text",
         "marker": {
          "color": "rgb(61,153,112)"
         },
         "mode": "lines",
         "type": "scatter",
         "x": [
          1145,
          1145,
          1160,
          1160
         ],
         "xaxis": "x",
         "y": [
          0,
          2.081665999466133,
          2.081665999466133,
          1
         ],
         "yaxis": "y"
        },
        {
         "hoverinfo": "text",
         "marker": {
          "color": "rgb(61,153,112)"
         },
         "mode": "lines",
         "type": "scatter",
         "x": [
          1175,
          1175,
          1185,
          1185
         ],
         "xaxis": "x",
         "y": [
          0,
          3,
          3,
          0
         ],
         "yaxis": "y"
        },
        {
         "hoverinfo": "text",
         "marker": {
          "color": "rgb(61,153,112)"
         },
         "mode": "lines",
         "type": "scatter",
         "x": [
          1152.5,
          1152.5,
          1180,
          1180
         ],
         "xaxis": "x",
         "y": [
          2.081665999466133,
          6.454972243679028,
          6.454972243679028,
          3
         ],
         "yaxis": "y"
        },
        {
         "hoverinfo": "text",
         "marker": {
          "color": "rgb(61,153,112)"
         },
         "mode": "lines",
         "type": "scatter",
         "x": [
          1122.5,
          1122.5,
          1166.25,
          1166.25
         ],
         "xaxis": "x",
         "y": [
          2.886751345948129,
          9.456038635002855,
          9.456038635002855,
          6.454972243679028
         ],
         "yaxis": "y"
        },
        {
         "hoverinfo": "text",
         "marker": {
          "color": "rgb(61,153,112)"
         },
         "mode": "lines",
         "type": "scatter",
         "x": [
          1195,
          1195,
          1205,
          1205
         ],
         "xaxis": "x",
         "y": [
          0,
          1,
          1,
          0
         ],
         "yaxis": "y"
        },
        {
         "hoverinfo": "text",
         "marker": {
          "color": "rgb(61,153,112)"
         },
         "mode": "lines",
         "type": "scatter",
         "x": [
          1235,
          1235,
          1245,
          1245
         ],
         "xaxis": "x",
         "y": [
          0,
          1,
          1,
          0
         ],
         "yaxis": "y"
        },
        {
         "hoverinfo": "text",
         "marker": {
          "color": "rgb(61,153,112)"
         },
         "mode": "lines",
         "type": "scatter",
         "x": [
          1225,
          1225,
          1240,
          1240
         ],
         "xaxis": "x",
         "y": [
          0,
          1.7320508075688772,
          1.7320508075688772,
          1
         ],
         "yaxis": "y"
        },
        {
         "hoverinfo": "text",
         "marker": {
          "color": "rgb(61,153,112)"
         },
         "mode": "lines",
         "type": "scatter",
         "x": [
          1215,
          1215,
          1232.5,
          1232.5
         ],
         "xaxis": "x",
         "y": [
          0,
          3.6742346141747673,
          3.6742346141747673,
          1.7320508075688772
         ],
         "yaxis": "y"
        },
        {
         "hoverinfo": "text",
         "marker": {
          "color": "rgb(61,153,112)"
         },
         "mode": "lines",
         "type": "scatter",
         "x": [
          1200,
          1200,
          1223.75,
          1223.75
         ],
         "xaxis": "x",
         "y": [
          1,
          5.307227776030218,
          5.307227776030218,
          3.6742346141747673
         ],
         "yaxis": "y"
        },
        {
         "hoverinfo": "text",
         "marker": {
          "color": "rgb(61,153,112)"
         },
         "mode": "lines",
         "type": "scatter",
         "x": [
          1255,
          1255,
          1265,
          1265
         ],
         "xaxis": "x",
         "y": [
          0,
          2,
          2,
          0
         ],
         "yaxis": "y"
        },
        {
         "hoverinfo": "text",
         "marker": {
          "color": "rgb(61,153,112)"
         },
         "mode": "lines",
         "type": "scatter",
         "x": [
          1275,
          1275,
          1285,
          1285
         ],
         "xaxis": "x",
         "y": [
          0,
          2.23606797749979,
          2.23606797749979,
          0
         ],
         "yaxis": "y"
        },
        {
         "hoverinfo": "text",
         "marker": {
          "color": "rgb(61,153,112)"
         },
         "mode": "lines",
         "type": "scatter",
         "x": [
          1260,
          1260,
          1280,
          1280
         ],
         "xaxis": "x",
         "y": [
          2,
          5.700877125495689,
          5.700877125495689,
          2.23606797749979
         ],
         "yaxis": "y"
        },
        {
         "hoverinfo": "text",
         "marker": {
          "color": "rgb(61,153,112)"
         },
         "mode": "lines",
         "type": "scatter",
         "x": [
          1211.875,
          1211.875,
          1270,
          1270
         ],
         "xaxis": "x",
         "y": [
          5.307227776030218,
          10.992421631894098,
          10.992421631894098,
          5.700877125495689
         ],
         "yaxis": "y"
        },
        {
         "hoverinfo": "text",
         "marker": {
          "color": "rgb(61,153,112)"
         },
         "mode": "lines",
         "type": "scatter",
         "x": [
          1144.375,
          1144.375,
          1240.9375,
          1240.9375
         ],
         "xaxis": "x",
         "y": [
          9.456038635002855,
          27.701283564324427,
          27.701283564324427,
          10.992421631894098
         ],
         "yaxis": "y"
        },
        {
         "hoverinfo": "text",
         "marker": {
          "color": "rgb(61,153,112)"
         },
         "mode": "lines",
         "type": "scatter",
         "x": [
          988.28125,
          988.28125,
          1192.65625,
          1192.65625
         ],
         "xaxis": "x",
         "y": [
          24.43495473674983,
          48.202282639721396,
          48.202282639721396,
          27.701283564324427
         ],
         "yaxis": "y"
        },
        {
         "hoverinfo": "text",
         "marker": {
          "color": "rgb(61,153,112)"
         },
         "mode": "lines",
         "type": "scatter",
         "x": [
          827.5,
          827.5,
          1090.46875,
          1090.46875
         ],
         "xaxis": "x",
         "y": [
          13.291601358251258,
          64.53740565258077,
          64.53740565258077,
          48.202282639721396
         ],
         "yaxis": "y"
        },
        {
         "hoverinfo": "text",
         "marker": {
          "color": "rgb(61,153,112)"
         },
         "mode": "lines",
         "type": "scatter",
         "x": [
          577.890625,
          577.890625,
          958.984375,
          958.984375
         ],
         "xaxis": "x",
         "y": [
          48.76575484496108,
          106.65057883130635,
          106.65057883130635,
          64.53740565258077
         ],
         "yaxis": "y"
        },
        {
         "hoverinfo": "text",
         "marker": {
          "color": "rgb(61,153,112)"
         },
         "mode": "lines",
         "type": "scatter",
         "x": [
          320.15625,
          320.15625,
          768.4375,
          768.4375
         ],
         "xaxis": "x",
         "y": [
          81.17935866982934,
          245.65460099007137,
          245.65460099007137,
          106.65057883130635
         ],
         "yaxis": "y"
        },
        {
         "hoverinfo": "text",
         "marker": {
          "color": "rgb(61,153,112)"
         },
         "mode": "lines",
         "type": "scatter",
         "x": [
          103.828125,
          103.828125,
          544.296875,
          544.296875
         ],
         "xaxis": "x",
         "y": [
          55.29105472497999,
          262.5626341044318,
          262.5626341044318,
          245.65460099007137
         ],
         "yaxis": "y"
        },
        {
         "hoverinfo": "text",
         "marker": {
          "color": "rgb(255,65,54)"
         },
         "mode": "lines",
         "type": "scatter",
         "x": [
          1305,
          1305,
          1315,
          1315
         ],
         "xaxis": "x",
         "y": [
          0,
          7.810249675906654,
          7.810249675906654,
          0
         ],
         "yaxis": "y"
        },
        {
         "hoverinfo": "text",
         "marker": {
          "color": "rgb(255,65,54)"
         },
         "mode": "lines",
         "type": "scatter",
         "x": [
          1295,
          1295,
          1310,
          1310
         ],
         "xaxis": "x",
         "y": [
          0,
          17.8232058470598,
          17.8232058470598,
          7.810249675906654
         ],
         "yaxis": "y"
        },
        {
         "hoverinfo": "text",
         "marker": {
          "color": "rgb(255,65,54)"
         },
         "mode": "lines",
         "type": "scatter",
         "x": [
          1365,
          1365,
          1375,
          1375
         ],
         "xaxis": "x",
         "y": [
          0,
          2.23606797749979,
          2.23606797749979,
          0
         ],
         "yaxis": "y"
        },
        {
         "hoverinfo": "text",
         "marker": {
          "color": "rgb(255,65,54)"
         },
         "mode": "lines",
         "type": "scatter",
         "x": [
          1355,
          1355,
          1370,
          1370
         ],
         "xaxis": "x",
         "y": [
          0,
          6.244997998398398,
          6.244997998398398,
          2.23606797749979
         ],
         "yaxis": "y"
        },
        {
         "hoverinfo": "text",
         "marker": {
          "color": "rgb(255,65,54)"
         },
         "mode": "lines",
         "type": "scatter",
         "x": [
          1345,
          1345,
          1362.5,
          1362.5
         ],
         "xaxis": "x",
         "y": [
          0,
          9.327379053088816,
          9.327379053088816,
          6.244997998398398
         ],
         "yaxis": "y"
        },
        {
         "hoverinfo": "text",
         "marker": {
          "color": "rgb(255,65,54)"
         },
         "mode": "lines",
         "type": "scatter",
         "x": [
          1335,
          1335,
          1353.75,
          1353.75
         ],
         "xaxis": "x",
         "y": [
          0,
          12.433824833895644,
          12.433824833895644,
          9.327379053088816
         ],
         "yaxis": "y"
        },
        {
         "hoverinfo": "text",
         "marker": {
          "color": "rgb(255,65,54)"
         },
         "mode": "lines",
         "type": "scatter",
         "x": [
          1325,
          1325,
          1344.375,
          1344.375
         ],
         "xaxis": "x",
         "y": [
          0,
          19.50384577461584,
          19.50384577461584,
          12.433824833895644
         ],
         "yaxis": "y"
        },
        {
         "hoverinfo": "text",
         "marker": {
          "color": "rgb(255,65,54)"
         },
         "mode": "lines",
         "type": "scatter",
         "x": [
          1302.5,
          1302.5,
          1334.6875,
          1334.6875
         ],
         "xaxis": "x",
         "y": [
          17.8232058470598,
          58.49406427626272,
          58.49406427626272,
          19.50384577461584
         ],
         "yaxis": "y"
        },
        {
         "hoverinfo": "text",
         "marker": {
          "color": "rgb(255,65,54)"
         },
         "mode": "lines",
         "type": "scatter",
         "x": [
          1395,
          1395,
          1405,
          1405
         ],
         "xaxis": "x",
         "y": [
          0,
          3.1622776601683795,
          3.1622776601683795,
          0
         ],
         "yaxis": "y"
        },
        {
         "hoverinfo": "text",
         "marker": {
          "color": "rgb(255,65,54)"
         },
         "mode": "lines",
         "type": "scatter",
         "x": [
          1385,
          1385,
          1400,
          1400
         ],
         "xaxis": "x",
         "y": [
          0,
          8.831760866327846,
          8.831760866327846,
          3.1622776601683795
         ],
         "yaxis": "y"
        },
        {
         "hoverinfo": "text",
         "marker": {
          "color": "rgb(255,65,54)"
         },
         "mode": "lines",
         "type": "scatter",
         "x": [
          1435,
          1435,
          1445,
          1445
         ],
         "xaxis": "x",
         "y": [
          0,
          1,
          1,
          0
         ],
         "yaxis": "y"
        },
        {
         "hoverinfo": "text",
         "marker": {
          "color": "rgb(255,65,54)"
         },
         "mode": "lines",
         "type": "scatter",
         "x": [
          1425,
          1425,
          1440,
          1440
         ],
         "xaxis": "x",
         "y": [
          0,
          1.7320508075688772,
          1.7320508075688772,
          1
         ],
         "yaxis": "y"
        },
        {
         "hoverinfo": "text",
         "marker": {
          "color": "rgb(255,65,54)"
         },
         "mode": "lines",
         "type": "scatter",
         "x": [
          1455,
          1455,
          1465,
          1465
         ],
         "xaxis": "x",
         "y": [
          0,
          3.1622776601683795,
          3.1622776601683795,
          0
         ],
         "yaxis": "y"
        },
        {
         "hoverinfo": "text",
         "marker": {
          "color": "rgb(255,65,54)"
         },
         "mode": "lines",
         "type": "scatter",
         "x": [
          1432.5,
          1432.5,
          1460,
          1460
         ],
         "xaxis": "x",
         "y": [
          1.7320508075688772,
          5.89915248150105,
          5.89915248150105,
          3.1622776601683795
         ],
         "yaxis": "y"
        },
        {
         "hoverinfo": "text",
         "marker": {
          "color": "rgb(255,65,54)"
         },
         "mode": "lines",
         "type": "scatter",
         "x": [
          1415,
          1415,
          1446.25,
          1446.25
         ],
         "xaxis": "x",
         "y": [
          0,
          7.628892449104261,
          7.628892449104261,
          5.89915248150105
         ],
         "yaxis": "y"
        },
        {
         "hoverinfo": "text",
         "marker": {
          "color": "rgb(255,65,54)"
         },
         "mode": "lines",
         "type": "scatter",
         "x": [
          1475,
          1475,
          1485,
          1485
         ],
         "xaxis": "x",
         "y": [
          0,
          4.47213595499958,
          4.47213595499958,
          0
         ],
         "yaxis": "y"
        },
        {
         "hoverinfo": "text",
         "marker": {
          "color": "rgb(255,65,54)"
         },
         "mode": "lines",
         "type": "scatter",
         "x": [
          1505,
          1505,
          1515,
          1515
         ],
         "xaxis": "x",
         "y": [
          0,
          4.47213595499958,
          4.47213595499958,
          0
         ],
         "yaxis": "y"
        },
        {
         "hoverinfo": "text",
         "marker": {
          "color": "rgb(255,65,54)"
         },
         "mode": "lines",
         "type": "scatter",
         "x": [
          1495,
          1495,
          1510,
          1510
         ],
         "xaxis": "x",
         "y": [
          0,
          6.21825270205921,
          6.21825270205921,
          4.47213595499958
         ],
         "yaxis": "y"
        },
        {
         "hoverinfo": "text",
         "marker": {
          "color": "rgb(255,65,54)"
         },
         "mode": "lines",
         "type": "scatter",
         "x": [
          1480,
          1480,
          1502.5,
          1502.5
         ],
         "xaxis": "x",
         "y": [
          4.47213595499958,
          12.055427546683417,
          12.055427546683417,
          6.21825270205921
         ],
         "yaxis": "y"
        },
        {
         "hoverinfo": "text",
         "marker": {
          "color": "rgb(255,65,54)"
         },
         "mode": "lines",
         "type": "scatter",
         "x": [
          1430.625,
          1430.625,
          1491.25,
          1491.25
         ],
         "xaxis": "x",
         "y": [
          7.628892449104261,
          15.745129116939335,
          15.745129116939335,
          12.055427546683417
         ],
         "yaxis": "y"
        },
        {
         "hoverinfo": "text",
         "marker": {
          "color": "rgb(255,65,54)"
         },
         "mode": "lines",
         "type": "scatter",
         "x": [
          1392.5,
          1392.5,
          1460.9375,
          1460.9375
         ],
         "xaxis": "x",
         "y": [
          8.831760866327846,
          24.120638358161138,
          24.120638358161138,
          15.745129116939335
         ],
         "yaxis": "y"
        },
        {
         "hoverinfo": "text",
         "marker": {
          "color": "rgb(255,65,54)"
         },
         "mode": "lines",
         "type": "scatter",
         "x": [
          1525,
          1525,
          1535,
          1535
         ],
         "xaxis": "x",
         "y": [
          0,
          1.4142135623730951,
          1.4142135623730951,
          0
         ],
         "yaxis": "y"
        },
        {
         "hoverinfo": "text",
         "marker": {
          "color": "rgb(255,65,54)"
         },
         "mode": "lines",
         "type": "scatter",
         "x": [
          1545,
          1545,
          1555,
          1555
         ],
         "xaxis": "x",
         "y": [
          0,
          2,
          2,
          0
         ],
         "yaxis": "y"
        },
        {
         "hoverinfo": "text",
         "marker": {
          "color": "rgb(255,65,54)"
         },
         "mode": "lines",
         "type": "scatter",
         "x": [
          1530,
          1530,
          1550,
          1550
         ],
         "xaxis": "x",
         "y": [
          1.4142135623730951,
          5,
          5,
          2
         ],
         "yaxis": "y"
        },
        {
         "hoverinfo": "text",
         "marker": {
          "color": "rgb(255,65,54)"
         },
         "mode": "lines",
         "type": "scatter",
         "x": [
          1575,
          1575,
          1585,
          1585
         ],
         "xaxis": "x",
         "y": [
          0,
          1.4142135623730951,
          1.4142135623730951,
          0
         ],
         "yaxis": "y"
        },
        {
         "hoverinfo": "text",
         "marker": {
          "color": "rgb(255,65,54)"
         },
         "mode": "lines",
         "type": "scatter",
         "x": [
          1565,
          1565,
          1580,
          1580
         ],
         "xaxis": "x",
         "y": [
          0,
          2.449489742783178,
          2.449489742783178,
          1.4142135623730951
         ],
         "yaxis": "y"
        },
        {
         "hoverinfo": "text",
         "marker": {
          "color": "rgb(255,65,54)"
         },
         "mode": "lines",
         "type": "scatter",
         "x": [
          1605,
          1605,
          1615,
          1615
         ],
         "xaxis": "x",
         "y": [
          0,
          0,
          0,
          0
         ],
         "yaxis": "y"
        },
        {
         "hoverinfo": "text",
         "marker": {
          "color": "rgb(255,65,54)"
         },
         "mode": "lines",
         "type": "scatter",
         "x": [
          1595,
          1595,
          1610,
          1610
         ],
         "xaxis": "x",
         "y": [
          0,
          2.581988897471611,
          2.581988897471611,
          0
         ],
         "yaxis": "y"
        },
        {
         "hoverinfo": "text",
         "marker": {
          "color": "rgb(255,65,54)"
         },
         "mode": "lines",
         "type": "scatter",
         "x": [
          1572.5,
          1572.5,
          1602.5,
          1602.5
         ],
         "xaxis": "x",
         "y": [
          2.449489742783178,
          7.52772652709081,
          7.52772652709081,
          2.581988897471611
         ],
         "yaxis": "y"
        },
        {
         "hoverinfo": "text",
         "marker": {
          "color": "rgb(255,65,54)"
         },
         "mode": "lines",
         "type": "scatter",
         "x": [
          1540,
          1540,
          1587.5,
          1587.5
         ],
         "xaxis": "x",
         "y": [
          5,
          13.32916601542147,
          13.32916601542147,
          7.52772652709081
         ],
         "yaxis": "y"
        },
        {
         "hoverinfo": "text",
         "marker": {
          "color": "rgb(255,65,54)"
         },
         "mode": "lines",
         "type": "scatter",
         "x": [
          1625,
          1625,
          1635,
          1635
         ],
         "xaxis": "x",
         "y": [
          0,
          2.23606797749979,
          2.23606797749979,
          0
         ],
         "yaxis": "y"
        },
        {
         "hoverinfo": "text",
         "marker": {
          "color": "rgb(255,65,54)"
         },
         "mode": "lines",
         "type": "scatter",
         "x": [
          1645,
          1645,
          1655,
          1655
         ],
         "xaxis": "x",
         "y": [
          0,
          2,
          2,
          0
         ],
         "yaxis": "y"
        },
        {
         "hoverinfo": "text",
         "marker": {
          "color": "rgb(255,65,54)"
         },
         "mode": "lines",
         "type": "scatter",
         "x": [
          1665,
          1665,
          1675,
          1675
         ],
         "xaxis": "x",
         "y": [
          0,
          6.082762530298219,
          6.082762530298219,
          0
         ],
         "yaxis": "y"
        },
        {
         "hoverinfo": "text",
         "marker": {
          "color": "rgb(255,65,54)"
         },
         "mode": "lines",
         "type": "scatter",
         "x": [
          1650,
          1650,
          1670,
          1670
         ],
         "xaxis": "x",
         "y": [
          2,
          12.903487900563938,
          12.903487900563938,
          6.082762530298219
         ],
         "yaxis": "y"
        },
        {
         "hoverinfo": "text",
         "marker": {
          "color": "rgb(255,65,54)"
         },
         "mode": "lines",
         "type": "scatter",
         "x": [
          1630,
          1630,
          1660,
          1660
         ],
         "xaxis": "x",
         "y": [
          2.23606797749979,
          25.116395707452398,
          25.116395707452398,
          12.903487900563938
         ],
         "yaxis": "y"
        },
        {
         "hoverinfo": "text",
         "marker": {
          "color": "rgb(255,65,54)"
         },
         "mode": "lines",
         "type": "scatter",
         "x": [
          1563.75,
          1563.75,
          1645,
          1645
         ],
         "xaxis": "x",
         "y": [
          13.32916601542147,
          49.88403218131697,
          49.88403218131697,
          25.116395707452398
         ],
         "yaxis": "y"
        },
        {
         "hoverinfo": "text",
         "marker": {
          "color": "rgb(255,65,54)"
         },
         "mode": "lines",
         "type": "scatter",
         "x": [
          1426.71875,
          1426.71875,
          1604.375,
          1604.375
         ],
         "xaxis": "x",
         "y": [
          24.120638358161138,
          69.52315475882152,
          69.52315475882152,
          49.88403218131697
         ],
         "yaxis": "y"
        },
        {
         "hoverinfo": "text",
         "marker": {
          "color": "rgb(255,65,54)"
         },
         "mode": "lines",
         "type": "scatter",
         "x": [
          1318.59375,
          1318.59375,
          1515.546875,
          1515.546875
         ],
         "xaxis": "x",
         "y": [
          58.49406427626272,
          112.81820335631572,
          112.81820335631572,
          69.52315475882152
         ],
         "yaxis": "y"
        },
        {
         "hoverinfo": "text",
         "marker": {
          "color": "rgb(35,205,205)"
         },
         "mode": "lines",
         "type": "scatter",
         "x": [
          1695,
          1695,
          1705,
          1705
         ],
         "xaxis": "x",
         "y": [
          0,
          0,
          0,
          0
         ],
         "yaxis": "y"
        },
        {
         "hoverinfo": "text",
         "marker": {
          "color": "rgb(35,205,205)"
         },
         "mode": "lines",
         "type": "scatter",
         "x": [
          1685,
          1685,
          1700,
          1700
         ],
         "xaxis": "x",
         "y": [
          0,
          5.773502691896257,
          5.773502691896257,
          0
         ],
         "yaxis": "y"
        },
        {
         "hoverinfo": "text",
         "marker": {
          "color": "rgb(35,205,205)"
         },
         "mode": "lines",
         "type": "scatter",
         "x": [
          1725,
          1725,
          1735,
          1735
         ],
         "xaxis": "x",
         "y": [
          0,
          2,
          2,
          0
         ],
         "yaxis": "y"
        },
        {
         "hoverinfo": "text",
         "marker": {
          "color": "rgb(35,205,205)"
         },
         "mode": "lines",
         "type": "scatter",
         "x": [
          1715,
          1715,
          1730,
          1730
         ],
         "xaxis": "x",
         "y": [
          0,
          2.581988897471611,
          2.581988897471611,
          2
         ],
         "yaxis": "y"
        },
        {
         "hoverinfo": "text",
         "marker": {
          "color": "rgb(35,205,205)"
         },
         "mode": "lines",
         "type": "scatter",
         "x": [
          1755,
          1755,
          1765,
          1765
         ],
         "xaxis": "x",
         "y": [
          0,
          2,
          2,
          0
         ],
         "yaxis": "y"
        },
        {
         "hoverinfo": "text",
         "marker": {
          "color": "rgb(35,205,205)"
         },
         "mode": "lines",
         "type": "scatter",
         "x": [
          1745,
          1745,
          1760,
          1760
         ],
         "xaxis": "x",
         "y": [
          0,
          3.464101615137755,
          3.464101615137755,
          2
         ],
         "yaxis": "y"
        },
        {
         "hoverinfo": "text",
         "marker": {
          "color": "rgb(35,205,205)"
         },
         "mode": "lines",
         "type": "scatter",
         "x": [
          1722.5,
          1722.5,
          1752.5,
          1752.5
         ],
         "xaxis": "x",
         "y": [
          2.581988897471611,
          8.04155872120988,
          8.04155872120988,
          3.464101615137755
         ],
         "yaxis": "y"
        },
        {
         "hoverinfo": "text",
         "marker": {
          "color": "rgb(35,205,205)"
         },
         "mode": "lines",
         "type": "scatter",
         "x": [
          1692.5,
          1692.5,
          1737.5,
          1737.5
         ],
         "xaxis": "x",
         "y": [
          5.773502691896257,
          16.526073674987384,
          16.526073674987384,
          8.04155872120988
         ],
         "yaxis": "y"
        },
        {
         "hoverinfo": "text",
         "marker": {
          "color": "rgb(35,205,205)"
         },
         "mode": "lines",
         "type": "scatter",
         "x": [
          1795,
          1795,
          1805,
          1805
         ],
         "xaxis": "x",
         "y": [
          0,
          1,
          1,
          0
         ],
         "yaxis": "y"
        },
        {
         "hoverinfo": "text",
         "marker": {
          "color": "rgb(35,205,205)"
         },
         "mode": "lines",
         "type": "scatter",
         "x": [
          1785,
          1785,
          1800,
          1800
         ],
         "xaxis": "x",
         "y": [
          0,
          2.3804761428476167,
          2.3804761428476167,
          1
         ],
         "yaxis": "y"
        },
        {
         "hoverinfo": "text",
         "marker": {
          "color": "rgb(35,205,205)"
         },
         "mode": "lines",
         "type": "scatter",
         "x": [
          1775,
          1775,
          1792.5,
          1792.5
         ],
         "xaxis": "x",
         "y": [
          0,
          4.564354645876384,
          4.564354645876384,
          2.3804761428476167
         ],
         "yaxis": "y"
        },
        {
         "hoverinfo": "text",
         "marker": {
          "color": "rgb(35,205,205)"
         },
         "mode": "lines",
         "type": "scatter",
         "x": [
          1815,
          1815,
          1825,
          1825
         ],
         "xaxis": "x",
         "y": [
          0,
          5.0990195135927845,
          5.0990195135927845,
          0
         ],
         "yaxis": "y"
        },
        {
         "hoverinfo": "text",
         "marker": {
          "color": "rgb(35,205,205)"
         },
         "mode": "lines",
         "type": "scatter",
         "x": [
          1783.75,
          1783.75,
          1820,
          1820
         ],
         "xaxis": "x",
         "y": [
          4.564354645876384,
          13.372858083945006,
          13.372858083945006,
          5.0990195135927845
         ],
         "yaxis": "y"
        },
        {
         "hoverinfo": "text",
         "marker": {
          "color": "rgb(35,205,205)"
         },
         "mode": "lines",
         "type": "scatter",
         "x": [
          1845,
          1845,
          1855,
          1855
         ],
         "xaxis": "x",
         "y": [
          0,
          2.23606797749979,
          2.23606797749979,
          0
         ],
         "yaxis": "y"
        },
        {
         "hoverinfo": "text",
         "marker": {
          "color": "rgb(35,205,205)"
         },
         "mode": "lines",
         "type": "scatter",
         "x": [
          1835,
          1835,
          1850,
          1850
         ],
         "xaxis": "x",
         "y": [
          0,
          7.505553499465135,
          7.505553499465135,
          2.23606797749979
         ],
         "yaxis": "y"
        },
        {
         "hoverinfo": "text",
         "marker": {
          "color": "rgb(35,205,205)"
         },
         "mode": "lines",
         "type": "scatter",
         "x": [
          1865,
          1865,
          1875,
          1875
         ],
         "xaxis": "x",
         "y": [
          0,
          2,
          2,
          0
         ],
         "yaxis": "y"
        },
        {
         "hoverinfo": "text",
         "marker": {
          "color": "rgb(35,205,205)"
         },
         "mode": "lines",
         "type": "scatter",
         "x": [
          1895,
          1895,
          1905,
          1905
         ],
         "xaxis": "x",
         "y": [
          0,
          1,
          1,
          0
         ],
         "yaxis": "y"
        },
        {
         "hoverinfo": "text",
         "marker": {
          "color": "rgb(35,205,205)"
         },
         "mode": "lines",
         "type": "scatter",
         "x": [
          1885,
          1885,
          1900,
          1900
         ],
         "xaxis": "x",
         "y": [
          0,
          5.32290647422377,
          5.32290647422377,
          1
         ],
         "yaxis": "y"
        },
        {
         "hoverinfo": "text",
         "marker": {
          "color": "rgb(35,205,205)"
         },
         "mode": "lines",
         "type": "scatter",
         "x": [
          1870,
          1870,
          1892.5,
          1892.5
         ],
         "xaxis": "x",
         "y": [
          2,
          9.309493362512628,
          9.309493362512628,
          5.32290647422377
         ],
         "yaxis": "y"
        },
        {
         "hoverinfo": "text",
         "marker": {
          "color": "rgb(35,205,205)"
         },
         "mode": "lines",
         "type": "scatter",
         "x": [
          1842.5,
          1842.5,
          1881.25,
          1881.25
         ],
         "xaxis": "x",
         "y": [
          7.505553499465135,
          20.794630717246857,
          20.794630717246857,
          9.309493362512628
         ],
         "yaxis": "y"
        },
        {
         "hoverinfo": "text",
         "marker": {
          "color": "rgb(35,205,205)"
         },
         "mode": "lines",
         "type": "scatter",
         "x": [
          1801.875,
          1801.875,
          1861.875,
          1861.875
         ],
         "xaxis": "x",
         "y": [
          13.372858083945006,
          29.946181885572816,
          29.946181885572816,
          20.794630717246857
         ],
         "yaxis": "y"
        },
        {
         "hoverinfo": "text",
         "marker": {
          "color": "rgb(35,205,205)"
         },
         "mode": "lines",
         "type": "scatter",
         "x": [
          1715,
          1715,
          1831.875,
          1831.875
         ],
         "xaxis": "x",
         "y": [
          16.526073674987384,
          49.48842500827705,
          49.48842500827705,
          29.946181885572816
         ],
         "yaxis": "y"
        },
        {
         "hoverinfo": "text",
         "marker": {
          "color": "rgb(35,205,205)"
         },
         "mode": "lines",
         "type": "scatter",
         "x": [
          1915,
          1915,
          1925,
          1925
         ],
         "xaxis": "x",
         "y": [
          0,
          7.280109889280518,
          7.280109889280518,
          0
         ],
         "yaxis": "y"
        },
        {
         "hoverinfo": "text",
         "marker": {
          "color": "rgb(35,205,205)"
         },
         "mode": "lines",
         "type": "scatter",
         "x": [
          1945,
          1945,
          1955,
          1955
         ],
         "xaxis": "x",
         "y": [
          0,
          2.23606797749979,
          2.23606797749979,
          0
         ],
         "yaxis": "y"
        },
        {
         "hoverinfo": "text",
         "marker": {
          "color": "rgb(35,205,205)"
         },
         "mode": "lines",
         "type": "scatter",
         "x": [
          1935,
          1935,
          1950,
          1950
         ],
         "xaxis": "x",
         "y": [
          0,
          7.593857166596345,
          7.593857166596345,
          2.23606797749979
         ],
         "yaxis": "y"
        },
        {
         "hoverinfo": "text",
         "marker": {
          "color": "rgb(35,205,205)"
         },
         "mode": "lines",
         "type": "scatter",
         "x": [
          1920,
          1920,
          1942.5,
          1942.5
         ],
         "xaxis": "x",
         "y": [
          7.280109889280518,
          22.95067174035072,
          22.95067174035072,
          7.593857166596345
         ],
         "yaxis": "y"
        },
        {
         "hoverinfo": "text",
         "marker": {
          "color": "rgb(35,205,205)"
         },
         "mode": "lines",
         "type": "scatter",
         "x": [
          1965,
          1965,
          1975,
          1975
         ],
         "xaxis": "x",
         "y": [
          0,
          10.63014581273465,
          10.63014581273465,
          0
         ],
         "yaxis": "y"
        },
        {
         "hoverinfo": "text",
         "marker": {
          "color": "rgb(35,205,205)"
         },
         "mode": "lines",
         "type": "scatter",
         "x": [
          1985,
          1985,
          1995,
          1995
         ],
         "xaxis": "x",
         "y": [
          0,
          14.866068747318506,
          14.866068747318506,
          0
         ],
         "yaxis": "y"
        },
        {
         "hoverinfo": "text",
         "marker": {
          "color": "rgb(35,205,205)"
         },
         "mode": "lines",
         "type": "scatter",
         "x": [
          1970,
          1970,
          1990,
          1990
         ],
         "xaxis": "x",
         "y": [
          10.63014581273465,
          26.30589287593181,
          26.30589287593181,
          14.866068747318506
         ],
         "yaxis": "y"
        },
        {
         "hoverinfo": "text",
         "marker": {
          "color": "rgb(35,205,205)"
         },
         "mode": "lines",
         "type": "scatter",
         "x": [
          1931.25,
          1931.25,
          1980,
          1980
         ],
         "xaxis": "x",
         "y": [
          22.95067174035072,
          53.24200513796518,
          53.24200513796518,
          26.30589287593181
         ],
         "yaxis": "y"
        },
        {
         "hoverinfo": "text",
         "marker": {
          "color": "rgb(35,205,205)"
         },
         "mode": "lines",
         "type": "scatter",
         "x": [
          1773.4375,
          1773.4375,
          1955.625,
          1955.625
         ],
         "xaxis": "x",
         "y": [
          49.48842500827705,
          113.88601651850901,
          113.88601651850901,
          53.24200513796518
         ],
         "yaxis": "y"
        },
        {
         "hoverinfo": "text",
         "marker": {
          "color": "rgb(0,116,217)"
         },
         "mode": "lines",
         "type": "scatter",
         "x": [
          1417.0703125,
          1417.0703125,
          1864.53125,
          1864.53125
         ],
         "xaxis": "x",
         "y": [
          112.81820335631572,
          394.85965759553204,
          394.85965759553204,
          113.88601651850901
         ],
         "yaxis": "y"
        },
        {
         "hoverinfo": "text",
         "marker": {
          "color": "rgb(0,116,217)"
         },
         "mode": "lines",
         "type": "scatter",
         "x": [
          324.0625,
          324.0625,
          1640.80078125,
          1640.80078125
         ],
         "xaxis": "x",
         "y": [
          262.5626341044318,
          405.6600410421901,
          405.6600410421901,
          394.85965759553204
         ],
         "yaxis": "y"
        }
       ],
       "layout": {
        "autosize": false,
        "font": {
         "size": 14
        },
        "height": 360,
        "hovermode": "closest",
        "showlegend": false,
        "template": {
         "data": {
          "bar": [
           {
            "error_x": {
             "color": "#2a3f5f"
            },
            "error_y": {
             "color": "#2a3f5f"
            },
            "marker": {
             "line": {
              "color": "#E5ECF6",
              "width": 0.5
             },
             "pattern": {
              "fillmode": "overlay",
              "size": 10,
              "solidity": 0.2
             }
            },
            "type": "bar"
           }
          ],
          "barpolar": [
           {
            "marker": {
             "line": {
              "color": "#E5ECF6",
              "width": 0.5
             },
             "pattern": {
              "fillmode": "overlay",
              "size": 10,
              "solidity": 0.2
             }
            },
            "type": "barpolar"
           }
          ],
          "carpet": [
           {
            "aaxis": {
             "endlinecolor": "#2a3f5f",
             "gridcolor": "white",
             "linecolor": "white",
             "minorgridcolor": "white",
             "startlinecolor": "#2a3f5f"
            },
            "baxis": {
             "endlinecolor": "#2a3f5f",
             "gridcolor": "white",
             "linecolor": "white",
             "minorgridcolor": "white",
             "startlinecolor": "#2a3f5f"
            },
            "type": "carpet"
           }
          ],
          "choropleth": [
           {
            "colorbar": {
             "outlinewidth": 0,
             "ticks": ""
            },
            "type": "choropleth"
           }
          ],
          "contour": [
           {
            "colorbar": {
             "outlinewidth": 0,
             "ticks": ""
            },
            "colorscale": [
             [
              0,
              "#0d0887"
             ],
             [
              0.1111111111111111,
              "#46039f"
             ],
             [
              0.2222222222222222,
              "#7201a8"
             ],
             [
              0.3333333333333333,
              "#9c179e"
             ],
             [
              0.4444444444444444,
              "#bd3786"
             ],
             [
              0.5555555555555556,
              "#d8576b"
             ],
             [
              0.6666666666666666,
              "#ed7953"
             ],
             [
              0.7777777777777778,
              "#fb9f3a"
             ],
             [
              0.8888888888888888,
              "#fdca26"
             ],
             [
              1,
              "#f0f921"
             ]
            ],
            "type": "contour"
           }
          ],
          "contourcarpet": [
           {
            "colorbar": {
             "outlinewidth": 0,
             "ticks": ""
            },
            "type": "contourcarpet"
           }
          ],
          "heatmap": [
           {
            "colorbar": {
             "outlinewidth": 0,
             "ticks": ""
            },
            "colorscale": [
             [
              0,
              "#0d0887"
             ],
             [
              0.1111111111111111,
              "#46039f"
             ],
             [
              0.2222222222222222,
              "#7201a8"
             ],
             [
              0.3333333333333333,
              "#9c179e"
             ],
             [
              0.4444444444444444,
              "#bd3786"
             ],
             [
              0.5555555555555556,
              "#d8576b"
             ],
             [
              0.6666666666666666,
              "#ed7953"
             ],
             [
              0.7777777777777778,
              "#fb9f3a"
             ],
             [
              0.8888888888888888,
              "#fdca26"
             ],
             [
              1,
              "#f0f921"
             ]
            ],
            "type": "heatmap"
           }
          ],
          "heatmapgl": [
           {
            "colorbar": {
             "outlinewidth": 0,
             "ticks": ""
            },
            "colorscale": [
             [
              0,
              "#0d0887"
             ],
             [
              0.1111111111111111,
              "#46039f"
             ],
             [
              0.2222222222222222,
              "#7201a8"
             ],
             [
              0.3333333333333333,
              "#9c179e"
             ],
             [
              0.4444444444444444,
              "#bd3786"
             ],
             [
              0.5555555555555556,
              "#d8576b"
             ],
             [
              0.6666666666666666,
              "#ed7953"
             ],
             [
              0.7777777777777778,
              "#fb9f3a"
             ],
             [
              0.8888888888888888,
              "#fdca26"
             ],
             [
              1,
              "#f0f921"
             ]
            ],
            "type": "heatmapgl"
           }
          ],
          "histogram": [
           {
            "marker": {
             "pattern": {
              "fillmode": "overlay",
              "size": 10,
              "solidity": 0.2
             }
            },
            "type": "histogram"
           }
          ],
          "histogram2d": [
           {
            "colorbar": {
             "outlinewidth": 0,
             "ticks": ""
            },
            "colorscale": [
             [
              0,
              "#0d0887"
             ],
             [
              0.1111111111111111,
              "#46039f"
             ],
             [
              0.2222222222222222,
              "#7201a8"
             ],
             [
              0.3333333333333333,
              "#9c179e"
             ],
             [
              0.4444444444444444,
              "#bd3786"
             ],
             [
              0.5555555555555556,
              "#d8576b"
             ],
             [
              0.6666666666666666,
              "#ed7953"
             ],
             [
              0.7777777777777778,
              "#fb9f3a"
             ],
             [
              0.8888888888888888,
              "#fdca26"
             ],
             [
              1,
              "#f0f921"
             ]
            ],
            "type": "histogram2d"
           }
          ],
          "histogram2dcontour": [
           {
            "colorbar": {
             "outlinewidth": 0,
             "ticks": ""
            },
            "colorscale": [
             [
              0,
              "#0d0887"
             ],
             [
              0.1111111111111111,
              "#46039f"
             ],
             [
              0.2222222222222222,
              "#7201a8"
             ],
             [
              0.3333333333333333,
              "#9c179e"
             ],
             [
              0.4444444444444444,
              "#bd3786"
             ],
             [
              0.5555555555555556,
              "#d8576b"
             ],
             [
              0.6666666666666666,
              "#ed7953"
             ],
             [
              0.7777777777777778,
              "#fb9f3a"
             ],
             [
              0.8888888888888888,
              "#fdca26"
             ],
             [
              1,
              "#f0f921"
             ]
            ],
            "type": "histogram2dcontour"
           }
          ],
          "mesh3d": [
           {
            "colorbar": {
             "outlinewidth": 0,
             "ticks": ""
            },
            "type": "mesh3d"
           }
          ],
          "parcoords": [
           {
            "line": {
             "colorbar": {
              "outlinewidth": 0,
              "ticks": ""
             }
            },
            "type": "parcoords"
           }
          ],
          "pie": [
           {
            "automargin": true,
            "type": "pie"
           }
          ],
          "scatter": [
           {
            "fillpattern": {
             "fillmode": "overlay",
             "size": 10,
             "solidity": 0.2
            },
            "type": "scatter"
           }
          ],
          "scatter3d": [
           {
            "line": {
             "colorbar": {
              "outlinewidth": 0,
              "ticks": ""
             }
            },
            "marker": {
             "colorbar": {
              "outlinewidth": 0,
              "ticks": ""
             }
            },
            "type": "scatter3d"
           }
          ],
          "scattercarpet": [
           {
            "marker": {
             "colorbar": {
              "outlinewidth": 0,
              "ticks": ""
             }
            },
            "type": "scattercarpet"
           }
          ],
          "scattergeo": [
           {
            "marker": {
             "colorbar": {
              "outlinewidth": 0,
              "ticks": ""
             }
            },
            "type": "scattergeo"
           }
          ],
          "scattergl": [
           {
            "marker": {
             "colorbar": {
              "outlinewidth": 0,
              "ticks": ""
             }
            },
            "type": "scattergl"
           }
          ],
          "scattermapbox": [
           {
            "marker": {
             "colorbar": {
              "outlinewidth": 0,
              "ticks": ""
             }
            },
            "type": "scattermapbox"
           }
          ],
          "scatterpolar": [
           {
            "marker": {
             "colorbar": {
              "outlinewidth": 0,
              "ticks": ""
             }
            },
            "type": "scatterpolar"
           }
          ],
          "scatterpolargl": [
           {
            "marker": {
             "colorbar": {
              "outlinewidth": 0,
              "ticks": ""
             }
            },
            "type": "scatterpolargl"
           }
          ],
          "scatterternary": [
           {
            "marker": {
             "colorbar": {
              "outlinewidth": 0,
              "ticks": ""
             }
            },
            "type": "scatterternary"
           }
          ],
          "surface": [
           {
            "colorbar": {
             "outlinewidth": 0,
             "ticks": ""
            },
            "colorscale": [
             [
              0,
              "#0d0887"
             ],
             [
              0.1111111111111111,
              "#46039f"
             ],
             [
              0.2222222222222222,
              "#7201a8"
             ],
             [
              0.3333333333333333,
              "#9c179e"
             ],
             [
              0.4444444444444444,
              "#bd3786"
             ],
             [
              0.5555555555555556,
              "#d8576b"
             ],
             [
              0.6666666666666666,
              "#ed7953"
             ],
             [
              0.7777777777777778,
              "#fb9f3a"
             ],
             [
              0.8888888888888888,
              "#fdca26"
             ],
             [
              1,
              "#f0f921"
             ]
            ],
            "type": "surface"
           }
          ],
          "table": [
           {
            "cells": {
             "fill": {
              "color": "#EBF0F8"
             },
             "line": {
              "color": "white"
             }
            },
            "header": {
             "fill": {
              "color": "#C8D4E3"
             },
             "line": {
              "color": "white"
             }
            },
            "type": "table"
           }
          ]
         },
         "layout": {
          "annotationdefaults": {
           "arrowcolor": "#2a3f5f",
           "arrowhead": 0,
           "arrowwidth": 1
          },
          "autotypenumbers": "strict",
          "coloraxis": {
           "colorbar": {
            "outlinewidth": 0,
            "ticks": ""
           }
          },
          "colorscale": {
           "diverging": [
            [
             0,
             "#8e0152"
            ],
            [
             0.1,
             "#c51b7d"
            ],
            [
             0.2,
             "#de77ae"
            ],
            [
             0.3,
             "#f1b6da"
            ],
            [
             0.4,
             "#fde0ef"
            ],
            [
             0.5,
             "#f7f7f7"
            ],
            [
             0.6,
             "#e6f5d0"
            ],
            [
             0.7,
             "#b8e186"
            ],
            [
             0.8,
             "#7fbc41"
            ],
            [
             0.9,
             "#4d9221"
            ],
            [
             1,
             "#276419"
            ]
           ],
           "sequential": [
            [
             0,
             "#0d0887"
            ],
            [
             0.1111111111111111,
             "#46039f"
            ],
            [
             0.2222222222222222,
             "#7201a8"
            ],
            [
             0.3333333333333333,
             "#9c179e"
            ],
            [
             0.4444444444444444,
             "#bd3786"
            ],
            [
             0.5555555555555556,
             "#d8576b"
            ],
            [
             0.6666666666666666,
             "#ed7953"
            ],
            [
             0.7777777777777778,
             "#fb9f3a"
            ],
            [
             0.8888888888888888,
             "#fdca26"
            ],
            [
             1,
             "#f0f921"
            ]
           ],
           "sequentialminus": [
            [
             0,
             "#0d0887"
            ],
            [
             0.1111111111111111,
             "#46039f"
            ],
            [
             0.2222222222222222,
             "#7201a8"
            ],
            [
             0.3333333333333333,
             "#9c179e"
            ],
            [
             0.4444444444444444,
             "#bd3786"
            ],
            [
             0.5555555555555556,
             "#d8576b"
            ],
            [
             0.6666666666666666,
             "#ed7953"
            ],
            [
             0.7777777777777778,
             "#fb9f3a"
            ],
            [
             0.8888888888888888,
             "#fdca26"
            ],
            [
             1,
             "#f0f921"
            ]
           ]
          },
          "colorway": [
           "#636efa",
           "#EF553B",
           "#00cc96",
           "#ab63fa",
           "#FFA15A",
           "#19d3f3",
           "#FF6692",
           "#B6E880",
           "#FF97FF",
           "#FECB52"
          ],
          "font": {
           "color": "#2a3f5f"
          },
          "geo": {
           "bgcolor": "white",
           "lakecolor": "white",
           "landcolor": "#E5ECF6",
           "showlakes": true,
           "showland": true,
           "subunitcolor": "white"
          },
          "hoverlabel": {
           "align": "left"
          },
          "hovermode": "closest",
          "mapbox": {
           "style": "light"
          },
          "paper_bgcolor": "white",
          "plot_bgcolor": "#E5ECF6",
          "polar": {
           "angularaxis": {
            "gridcolor": "white",
            "linecolor": "white",
            "ticks": ""
           },
           "bgcolor": "#E5ECF6",
           "radialaxis": {
            "gridcolor": "white",
            "linecolor": "white",
            "ticks": ""
           }
          },
          "scene": {
           "xaxis": {
            "backgroundcolor": "#E5ECF6",
            "gridcolor": "white",
            "gridwidth": 2,
            "linecolor": "white",
            "showbackground": true,
            "ticks": "",
            "zerolinecolor": "white"
           },
           "yaxis": {
            "backgroundcolor": "#E5ECF6",
            "gridcolor": "white",
            "gridwidth": 2,
            "linecolor": "white",
            "showbackground": true,
            "ticks": "",
            "zerolinecolor": "white"
           },
           "zaxis": {
            "backgroundcolor": "#E5ECF6",
            "gridcolor": "white",
            "gridwidth": 2,
            "linecolor": "white",
            "showbackground": true,
            "ticks": "",
            "zerolinecolor": "white"
           }
          },
          "shapedefaults": {
           "line": {
            "color": "#2a3f5f"
           }
          },
          "ternary": {
           "aaxis": {
            "gridcolor": "white",
            "linecolor": "white",
            "ticks": ""
           },
           "baxis": {
            "gridcolor": "white",
            "linecolor": "white",
            "ticks": ""
           },
           "bgcolor": "#E5ECF6",
           "caxis": {
            "gridcolor": "white",
            "linecolor": "white",
            "ticks": ""
           }
          },
          "title": {
           "x": 0.05
          },
          "xaxis": {
           "automargin": true,
           "gridcolor": "white",
           "linecolor": "white",
           "ticks": "",
           "title": {
            "standoff": 15
           },
           "zerolinecolor": "white",
           "zerolinewidth": 2
          },
          "yaxis": {
           "automargin": true,
           "gridcolor": "white",
           "linecolor": "white",
           "ticks": "",
           "title": {
            "standoff": 15
           },
           "zerolinecolor": "white",
           "zerolinewidth": 2
          }
         }
        },
        "title": {
         "text": "Dendrogram"
        },
        "width": 700,
        "xaxis": {
         "autorange": true,
         "mirror": "allticks",
         "range": [
          0,
          1995
         ],
         "rangemode": "tozero",
         "showgrid": false,
         "showline": true,
         "showticklabels": true,
         "tickmode": "array",
         "ticks": "outside",
         "ticktext": [
          "1",
          "3",
          "5",
          "13",
          "15",
          "37",
          "39",
          "27",
          "9",
          "17",
          "31",
          "21",
          "23",
          "7",
          "11",
          "19",
          "33",
          "41",
          "35",
          "25",
          "29",
          "12",
          "10",
          "14",
          "8",
          "2",
          "6",
          "24",
          "34",
          "36",
          "22",
          "30",
          "32",
          "40",
          "42",
          "38",
          "44",
          "0",
          "4",
          "26",
          "28",
          "18",
          "16",
          "20",
          "51",
          "53",
          "43",
          "45",
          "46",
          "50",
          "52",
          "63",
          "65",
          "68",
          "60",
          "61",
          "70",
          "73",
          "77",
          "74",
          "85",
          "71",
          "83",
          "79",
          "82",
          "72",
          "59",
          "67",
          "69",
          "56",
          "64",
          "66",
          "58",
          "62",
          "55",
          "48",
          "49",
          "47",
          "54",
          "57",
          "142",
          "146",
          "160",
          "124",
          "126",
          "132",
          "89",
          "96",
          "95",
          "99",
          "92",
          "97",
          "101",
          "109",
          "107",
          "113",
          "106",
          "110",
          "114",
          "115",
          "91",
          "93",
          "94",
          "98",
          "100",
          "105",
          "116",
          "108",
          "112",
          "118",
          "121",
          "122",
          "119",
          "120",
          "111",
          "103",
          "104",
          "102",
          "117",
          "78",
          "80",
          "84",
          "76",
          "75",
          "81",
          "87",
          "90",
          "86",
          "88",
          "199",
          "195",
          "197",
          "193",
          "185",
          "189",
          "179",
          "181",
          "183",
          "175",
          "167",
          "173",
          "161",
          "149",
          "151",
          "155",
          "135",
          "143",
          "123",
          "127",
          "163",
          "141",
          "145",
          "147",
          "159",
          "153",
          "157",
          "133",
          "137",
          "139",
          "125",
          "129",
          "131",
          "187",
          "191",
          "165",
          "171",
          "169",
          "177",
          "162",
          "156",
          "158",
          "140",
          "134",
          "136",
          "138",
          "128",
          "130",
          "172",
          "176",
          "170",
          "174",
          "178",
          "182",
          "166",
          "164",
          "168",
          "148",
          "152",
          "144",
          "150",
          "154",
          "180",
          "184",
          "188",
          "186",
          "190",
          "192",
          "194",
          "196",
          "198"
         ],
         "tickvals": [
          5,
          15,
          25,
          35,
          45,
          55,
          65,
          75,
          85,
          95,
          105,
          115,
          125,
          135,
          145,
          155,
          165,
          175,
          185,
          195,
          205,
          215,
          225,
          235,
          245,
          255,
          265,
          275,
          285,
          295,
          305,
          315,
          325,
          335,
          345,
          355,
          365,
          375,
          385,
          395,
          405,
          415,
          425,
          435,
          445,
          455,
          465,
          475,
          485,
          495,
          505,
          515,
          525,
          535,
          545,
          555,
          565,
          575,
          585,
          595,
          605,
          615,
          625,
          635,
          645,
          655,
          665,
          675,
          685,
          695,
          705,
          715,
          725,
          735,
          745,
          755,
          765,
          775,
          785,
          795,
          805,
          815,
          825,
          835,
          845,
          855,
          865,
          875,
          885,
          895,
          905,
          915,
          925,
          935,
          945,
          955,
          965,
          975,
          985,
          995,
          1005,
          1015,
          1025,
          1035,
          1045,
          1055,
          1065,
          1075,
          1085,
          1095,
          1105,
          1115,
          1125,
          1135,
          1145,
          1155,
          1165,
          1175,
          1185,
          1195,
          1205,
          1215,
          1225,
          1235,
          1245,
          1255,
          1265,
          1275,
          1285,
          1295,
          1305,
          1315,
          1325,
          1335,
          1345,
          1355,
          1365,
          1375,
          1385,
          1395,
          1405,
          1415,
          1425,
          1435,
          1445,
          1455,
          1465,
          1475,
          1485,
          1495,
          1505,
          1515,
          1525,
          1535,
          1545,
          1555,
          1565,
          1575,
          1585,
          1595,
          1605,
          1615,
          1625,
          1635,
          1645,
          1655,
          1665,
          1675,
          1685,
          1695,
          1705,
          1715,
          1725,
          1735,
          1745,
          1755,
          1765,
          1775,
          1785,
          1795,
          1805,
          1815,
          1825,
          1835,
          1845,
          1855,
          1865,
          1875,
          1885,
          1895,
          1905,
          1915,
          1925,
          1935,
          1945,
          1955,
          1965,
          1975,
          1985,
          1995
         ],
         "title": {
          "text": "Customers"
         },
         "type": "linear",
         "zeroline": false
        },
        "yaxis": {
         "autorange": true,
         "mirror": "allticks",
         "range": [
          0,
          427.0105695180948
         ],
         "rangemode": "tozero",
         "showgrid": false,
         "showline": true,
         "showticklabels": true,
         "ticks": "outside",
         "title": {
          "text": "Euclidean Distance"
         },
         "type": "linear",
         "zeroline": false
        }
       }
      },
      "image/png": "[encoded data removed]",
      "text/html": [
       "<div>                            <div id=\"f14abec7-b428-4ff9-9df9-ab5a04721935\" class=\"plotly-graph-div\" style=\"height:infpx; width:infpx;\"></div>            <script type=\"text/javascript\">                require([\"plotly\"], function(Plotly) {                    window.PLOTLYENV=window.PLOTLYENV || {};                                    if (document.getElementById(\"f14abec7-b428-4ff9-9df9-ab5a04721935\")) {                    Plotly.newPlot(                        \"f14abec7-b428-4ff9-9df9-ab5a04721935\",                        [{\"hoverinfo\":\"text\",\"marker\":{\"color\":\"rgb(61,153,112)\"},\"mode\":\"lines\",\"x\":[15.0,15.0,25.0,25.0],\"xaxis\":\"x\",\"y\":[0.0,1.4142135623730951,1.4142135623730951,0.0],\"yaxis\":\"y\",\"type\":\"scatter\"},{\"hoverinfo\":\"text\",\"marker\":{\"color\":\"rgb(61,153,112)\"},\"mode\":\"lines\",\"x\":[35.0,35.0,45.0,45.0],\"xaxis\":\"x\",\"y\":[0.0,2.0,2.0,0.0],\"yaxis\":\"y\",\"type\":\"scatter\"},{\"hoverinfo\":\"text\",\"marker\":{\"color\":\"rgb(61,153,112)\"},\"mode\":\"lines\",\"x\":[20.0,20.0,40.0,40.0],\"xaxis\":\"x\",\"y\":[1.4142135623730951,5.385164807134504,5.385164807134504,2.0],\"yaxis\":\"y\",\"type\":\"scatter\"},{\"hoverinfo\":\"text\",\"marker\":{\"color\":\"rgb(61,153,112)\"},\"mode\":\"lines\",\"x\":[5.0,5.0,30.0,30.0],\"xaxis\":\"x\",\"y\":[0.0,6.276941930590087,6.276941930590087,5.385164807134504],\"yaxis\":\"y\",\"type\":\"scatter\"},{\"hoverinfo\":\"text\",\"marker\":{\"color\":\"rgb(61,153,112)\"},\"mode\":\"lines\",\"x\":[55.0,55.0,65.0,65.0],\"xaxis\":\"x\",\"y\":[0.0,3.605551275463989,3.605551275463989,0.0],\"yaxis\":\"y\",\"type\":\"scatter\"},{\"hoverinfo\":\"text\",\"marker\":{\"color\":\"rgb(61,153,112)\"},\"mode\":\"lines\",\"x\":[85.0,85.0,95.0,95.0],\"xaxis\":\"x\",\"y\":[0.0,6.324555320336759,6.324555320336759,0.0],\"yaxis\":\"y\",\"type\":\"scatter\"},{\"hoverinfo\":\"text\",\"marker\":{\"color\":\"rgb(61,153,112)\"},\"mode\":\"lines\",\"x\":[115.0,115.0,125.0,125.0],\"xaxis\":\"x\",\"y\":[0.0,1.0,1.0,0.0],\"yaxis\":\"y\",\"type\":\"scatter\"},{\"hoverinfo\":\"text\",\"marker\":{\"color\":\"rgb(61,153,112)\"},\"mode\":\"lines\",\"x\":[105.0,105.0,120.0,120.0],\"xaxis\":\"x\",\"y\":[0.0,6.350852961085883,6.350852961085883,1.0],\"yaxis\":\"y\",\"type\":\"scatter\"},{\"hoverinfo\":\"text\",\"marker\":{\"color\":\"rgb(61,153,112)\"},\"mode\":\"lines\",\"x\":[90.0,90.0,112.5,112.5],\"xaxis\":\"x\",\"y\":[6.324555320336759,11.604596790352806,11.604596790352806,6.350852961085883],\"yaxis\":\"y\",\"type\":\"scatter\"},{\"hoverinfo\":\"text\",\"marker\":{\"color\":\"rgb(61,153,112)\"},\"mode\":\"lines\",\"x\":[75.0,75.0,101.25,101.25],\"xaxis\":\"x\",\"y\":[0.0,14.479871085982314,14.479871085982314,11.604596790352806],\"yaxis\":\"y\",\"type\":\"scatter\"},{\"hoverinfo\":\"text\",\"marker\":{\"color\":\"rgb(61,153,112)\"},\"mode\":\"lines\",\"x\":[60.0,60.0,88.125,88.125],\"xaxis\":\"x\",\"y\":[3.605551275463989,20.477630071210225,20.477630071210225,14.479871085982314],\"yaxis\":\"y\",\"type\":\"scatter\"},{\"hoverinfo\":\"text\",\"marker\":{\"color\":\"rgb(61,153,112)\"},\"mode\":\"lines\",\"x\":[17.5,17.5,74.0625,74.0625],\"xaxis\":\"x\",\"y\":[6.276941930590087,29.941995206116058,29.941995206116058,20.477630071210225],\"yaxis\":\"y\",\"type\":\"scatter\"},{\"hoverinfo\":\"text\",\"marker\":{\"color\":\"rgb(61,153,112)\"},\"mode\":\"lines\",\"x\":[145.0,145.0,155.0,155.0],\"xaxis\":\"x\",\"y\":[0.0,4.123105625617661,4.123105625617661,0.0],\"yaxis\":\"y\",\"type\":\"scatter\"},{\"hoverinfo\":\"text\",\"marker\":{\"color\":\"rgb(61,153,112)\"},\"mode\":\"lines\",\"x\":[135.0,135.0,150.0,150.0],\"xaxis\":\"x\",\"y\":[0.0,6.244997998398397,6.244997998398397,4.123105625617661],\"yaxis\":\"y\",\"type\":\"scatter\"},{\"hoverinfo\":\"text\",\"marker\":{\"color\":\"rgb(61,153,112)\"},\"mode\":\"lines\",\"x\":[165.0,165.0,175.0,175.0],\"xaxis\":\"x\",\"y\":[0.0,5.0,5.0,0.0],\"yaxis\":\"y\",\"type\":\"scatter\"},{\"hoverinfo\":\"text\",\"marker\":{\"color\":\"rgb(61,153,112)\"},\"mode\":\"lines\",\"x\":[195.0,195.0,205.0,205.0],\"xaxis\":\"x\",\"y\":[0.0,5.0990195135927845,5.0990195135927845,0.0],\"yaxis\":\"y\",\"type\":\"scatter\"},{\"hoverinfo\":\"text\",\"marker\":{\"color\":\"rgb(61,153,112)\"},\"mode\":\"lines\",\"x\":[185.0,185.0,200.0,200.0],\"xaxis\":\"x\",\"y\":[0.0,6.5828058860438325,6.5828058860438325,5.0990195135927845],\"yaxis\":\"y\",\"type\":\"scatter\"},{\"hoverinfo\":\"text\",\"marker\":{\"color\":\"rgb(61,153,112)\"},\"mode\":\"lines\",\"x\":[170.0,170.0,192.5,192.5],\"xaxis\":\"x\",\"y\":[5.0,15.901781870805129,15.901781870805129,6.5828058860438325],\"yaxis\":\"y\",\"type\":\"scatter\"},{\"hoverinfo\":\"text\",\"marker\":{\"color\":\"rgb(61,153,112)\"},\"mode\":\"lines\",\"x\":[142.5,142.5,181.25,181.25],\"xaxis\":\"x\",\"y\":[6.244997998398397,30.794480024835618,30.794480024835618,15.901781870805129],\"yaxis\":\"y\",\"type\":\"scatter\"},{\"hoverinfo\":\"text\",\"marker\":{\"color\":\"rgb(61,153,112)\"},\"mode\":\"lines\",\"x\":[45.78125,45.78125,161.875,161.875],\"xaxis\":\"x\",\"y\":[29.941995206116058,55.29105472497999,55.29105472497999,30.794480024835618],\"yaxis\":\"y\",\"type\":\"scatter\"},{\"hoverinfo\":\"text\",\"marker\":{\"color\":\"rgb(61,153,112)\"},\"mode\":\"lines\",\"x\":[225.0,225.0,235.0,235.0],\"xaxis\":\"x\",\"y\":[0.0,1.4142135623730951,1.4142135623730951,0.0],\"yaxis\":\"y\",\"type\":\"scatter\"},{\"hoverinfo\":\"text\",\"marker\":{\"color\":\"rgb(61,153,112)\"},\"mode\":\"lines\",\"x\":[215.0,215.0,230.0,230.0],\"xaxis\":\"x\",\"y\":[0.0,1.8257418583505536,1.8257418583505536,1.4142135623730951],\"yaxis\":\"y\",\"type\":\"scatter\"},{\"hoverinfo\":\"text\",\"marker\":{\"color\":\"rgb(61,153,112)\"},\"mode\":\"lines\",\"x\":[255.0,255.0,265.0,265.0],\"xaxis\":\"x\",\"y\":[0.0,2.0,2.0,0.0],\"yaxis\":\"y\",\"type\":\"scatter\"},{\"hoverinfo\":\"text\",\"marker\":{\"color\":\"rgb(61,153,112)\"},\"mode\":\"lines\",\"x\":[245.0,245.0,260.0,260.0],\"xaxis\":\"x\",\"y\":[0.0,4.163331998932265,4.163331998932265,2.0],\"yaxis\":\"y\",\"type\":\"scatter\"},{\"hoverinfo\":\"text\",\"marker\":{\"color\":\"rgb(61,153,112)\"},\"mode\":\"lines\",\"x\":[222.5,222.5,252.5,252.5],\"xaxis\":\"x\",\"y\":[1.8257418583505536,15.968719422671311,15.968719422671311,4.163331998932265],\"yaxis\":\"y\",\"type\":\"scatter\"},{\"hoverinfo\":\"text\",\"marker\":{\"color\":\"rgb(61,153,112)\"},\"mode\":\"lines\",\"x\":[285.0,285.0,295.0,295.0],\"xaxis\":\"x\",\"y\":[0.0,3.1622776601683795,3.1622776601683795,0.0],\"yaxis\":\"y\",\"type\":\"scatter\"},{\"hoverinfo\":\"text\",\"marker\":{\"color\":\"rgb(61,153,112)\"},\"mode\":\"lines\",\"x\":[275.0,275.0,290.0,290.0],\"xaxis\":\"x\",\"y\":[0.0,6.582805886043833,6.582805886043833,3.1622776601683795],\"yaxis\":\"y\",\"type\":\"scatter\"},{\"hoverinfo\":\"text\",\"marker\":{\"color\":\"rgb(61,153,112)\"},\"mode\":\"lines\",\"x\":[315.0,315.0,325.0,325.0],\"xaxis\":\"x\",\"y\":[0.0,3.0,3.0,0.0],\"yaxis\":\"y\",\"type\":\"scatter\"},{\"hoverinfo\":\"text\",\"marker\":{\"color\":\"rgb(61,153,112)\"},\"mode\":\"lines\",\"x\":[305.0,305.0,320.0,320.0],\"xaxis\":\"x\",\"y\":[0.0,7.593857166596345,7.593857166596345,3.0],\"yaxis\":\"y\",\"type\":\"scatter\"},{\"hoverinfo\":\"text\",\"marker\":{\"color\":\"rgb(61,153,112)\"},\"mode\":\"lines\",\"x\":[282.5,282.5,312.5,312.5],\"xaxis\":\"x\",\"y\":[6.582805886043833,18.91207727000571,18.91207727000571,7.593857166596345],\"yaxis\":\"y\",\"type\":\"scatter\"},{\"hoverinfo\":\"text\",\"marker\":{\"color\":\"rgb(61,153,112)\"},\"mode\":\"lines\",\"x\":[237.5,237.5,297.5,297.5],\"xaxis\":\"x\",\"y\":[15.968719422671311,28.98850346832919,28.98850346832919,18.91207727000571],\"yaxis\":\"y\",\"type\":\"scatter\"},{\"hoverinfo\":\"text\",\"marker\":{\"color\":\"rgb(61,153,112)\"},\"mode\":\"lines\",\"x\":[335.0,335.0,345.0,345.0],\"xaxis\":\"x\",\"y\":[0.0,1.4142135623730951,1.4142135623730951,0.0],\"yaxis\":\"y\",\"type\":\"scatter\"},{\"hoverinfo\":\"text\",\"marker\":{\"color\":\"rgb(61,153,112)\"},\"mode\":\"lines\",\"x\":[355.0,355.0,365.0,365.0],\"xaxis\":\"x\",\"y\":[0.0,2.8284271247461903,2.8284271247461903,0.0],\"yaxis\":\"y\",\"type\":\"scatter\"},{\"hoverinfo\":\"text\",\"marker\":{\"color\":\"rgb(61,153,112)\"},\"mode\":\"lines\",\"x\":[340.0,340.0,360.0,360.0],\"xaxis\":\"x\",\"y\":[1.4142135623730951,12.041594578792294,12.041594578792294,2.8284271247461903],\"yaxis\":\"y\",\"type\":\"scatter\"},{\"hoverinfo\":\"text\",\"marker\":{\"color\":\"rgb(61,153,112)\"},\"mode\":\"lines\",\"x\":[375.0,375.0,385.0,385.0],\"xaxis\":\"x\",\"y\":[0.0,2.23606797749979,2.23606797749979,0.0],\"yaxis\":\"y\",\"type\":\"scatter\"},{\"hoverinfo\":\"text\",\"marker\":{\"color\":\"rgb(61,153,112)\"},\"mode\":\"lines\",\"x\":[395.0,395.0,405.0,405.0],\"xaxis\":\"x\",\"y\":[0.0,1.4142135623730951,1.4142135623730951,0.0],\"yaxis\":\"y\",\"type\":\"scatter\"},{\"hoverinfo\":\"text\",\"marker\":{\"color\":\"rgb(61,153,112)\"},\"mode\":\"lines\",\"x\":[425.0,425.0,435.0,435.0],\"xaxis\":\"x\",\"y\":[0.0,3.0,3.0,0.0],\"yaxis\":\"y\",\"type\":\"scatter\"},{\"hoverinfo\":\"text\",\"marker\":{\"color\":\"rgb(61,153,112)\"},\"mode\":\"lines\",\"x\":[415.0,415.0,430.0,430.0],\"xaxis\":\"x\",\"y\":[0.0,6.952217871538069,6.952217871538069,3.0],\"yaxis\":\"y\",\"type\":\"scatter\"},{\"hoverinfo\":\"text\",\"marker\":{\"color\":\"rgb(61,153,112)\"},\"mode\":\"lines\",\"x\":[400.0,400.0,422.5,422.5],\"xaxis\":\"x\",\"y\":[1.4142135623730951,9.330952077181978,9.330952077181978,6.952217871538069],\"yaxis\":\"y\",\"type\":\"scatter\"},{\"hoverinfo\":\"text\",\"marker\":{\"color\":\"rgb(61,153,112)\"},\"mode\":\"lines\",\"x\":[380.0,380.0,411.25,411.25],\"xaxis\":\"x\",\"y\":[2.23606797749979,19.376716513825112,19.376716513825112,9.330952077181978],\"yaxis\":\"y\",\"type\":\"scatter\"},{\"hoverinfo\":\"text\",\"marker\":{\"color\":\"rgb(61,153,112)\"},\"mode\":\"lines\",\"x\":[350.0,350.0,395.625,395.625],\"xaxis\":\"x\",\"y\":[12.041594578792294,36.41125129378583,36.41125129378583,19.376716513825112],\"yaxis\":\"y\",\"type\":\"scatter\"},{\"hoverinfo\":\"text\",\"marker\":{\"color\":\"rgb(61,153,112)\"},\"mode\":\"lines\",\"x\":[267.5,267.5,372.8125,372.8125],\"xaxis\":\"x\",\"y\":[28.98850346832919,81.17935866982934,81.17935866982934,36.41125129378583],\"yaxis\":\"y\",\"type\":\"scatter\"},{\"hoverinfo\":\"text\",\"marker\":{\"color\":\"rgb(61,153,112)\"},\"mode\":\"lines\",\"x\":[445.0,445.0,455.0,455.0],\"xaxis\":\"x\",\"y\":[0.0,1.0,1.0,0.0],\"yaxis\":\"y\",\"type\":\"scatter\"},{\"hoverinfo\":\"text\",\"marker\":{\"color\":\"rgb(61,153,112)\"},\"mode\":\"lines\",\"x\":[465.0,465.0,475.0,475.0],\"xaxis\":\"x\",\"y\":[0.0,4.0,4.0,0.0],\"yaxis\":\"y\",\"type\":\"scatter\"},{\"hoverinfo\":\"text\",\"marker\":{\"color\":\"rgb(61,153,112)\"},\"mode\":\"lines\",\"x\":[450.0,450.0,470.0,470.0],\"xaxis\":\"x\",\"y\":[1.0,6.519202405202649,6.519202405202649,4.0],\"yaxis\":\"y\",\"type\":\"scatter\"},{\"hoverinfo\":\"text\",\"marker\":{\"color\":\"rgb(61,153,112)\"},\"mode\":\"lines\",\"x\":[495.0,495.0,505.0,505.0],\"xaxis\":\"x\",\"y\":[0.0,2.23606797749979,2.23606797749979,0.0],\"yaxis\":\"y\",\"type\":\"scatter\"},{\"hoverinfo\":\"text\",\"marker\":{\"color\":\"rgb(61,153,112)\"},\"mode\":\"lines\",\"x\":[485.0,485.0,500.0,500.0],\"xaxis\":\"x\",\"y\":[0.0,3.696845502136472,3.696845502136472,2.23606797749979],\"yaxis\":\"y\",\"type\":\"scatter\"},{\"hoverinfo\":\"text\",\"marker\":{\"color\":\"rgb(61,153,112)\"},\"mode\":\"lines\",\"x\":[525.0,525.0,535.0,535.0],\"xaxis\":\"x\",\"y\":[0.0,0.0,0.0,0.0],\"yaxis\":\"y\",\"type\":\"scatter\"},{\"hoverinfo\":\"text\",\"marker\":{\"color\":\"rgb(61,153,112)\"},\"mode\":\"lines\",\"x\":[515.0,515.0,530.0,530.0],\"xaxis\":\"x\",\"y\":[0.0,1.1547005383792515,1.1547005383792515,0.0],\"yaxis\":\"y\",\"type\":\"scatter\"},{\"hoverinfo\":\"text\",\"marker\":{\"color\":\"rgb(61,153,112)\"},\"mode\":\"lines\",\"x\":[545.0,545.0,555.0,555.0],\"xaxis\":\"x\",\"y\":[0.0,1.0,1.0,0.0],\"yaxis\":\"y\",\"type\":\"scatter\"},{\"hoverinfo\":\"text\",\"marker\":{\"color\":\"rgb(61,153,112)\"},\"mode\":\"lines\",\"x\":[565.0,565.0,575.0,575.0],\"xaxis\":\"x\",\"y\":[0.0,1.4142135623730951,1.4142135623730951,0.0],\"yaxis\":\"y\",\"type\":\"scatter\"},{\"hoverinfo\":\"text\",\"marker\":{\"color\":\"rgb(61,153,112)\"},\"mode\":\"lines\",\"x\":[550.0,550.0,570.0,570.0],\"xaxis\":\"x\",\"y\":[1.0,4.949747468305834,4.949747468305834,1.4142135623730951],\"yaxis\":\"y\",\"type\":\"scatter\"},{\"hoverinfo\":\"text\",\"marker\":{\"color\":\"rgb(61,153,112)\"},\"mode\":\"lines\",\"x\":[522.5,522.5,560.0,560.0],\"xaxis\":\"x\",\"y\":[1.1547005383792515,6.48257738278607,6.48257738278607,4.949747468305834],\"yaxis\":\"y\",\"type\":\"scatter\"},{\"hoverinfo\":\"text\",\"marker\":{\"color\":\"rgb(61,153,112)\"},\"mode\":\"lines\",\"x\":[492.5,492.5,541.25,541.25],\"xaxis\":\"x\",\"y\":[3.696845502136472,14.151897062803647,14.151897062803647,6.48257738278607],\"yaxis\":\"y\",\"type\":\"scatter\"},{\"hoverinfo\":\"text\",\"marker\":{\"color\":\"rgb(61,153,112)\"},\"mode\":\"lines\",\"x\":[460.0,460.0,516.875,516.875],\"xaxis\":\"x\",\"y\":[6.519202405202649,18.011504260174544,18.011504260174544,14.151897062803647],\"yaxis\":\"y\",\"type\":\"scatter\"},{\"hoverinfo\":\"text\",\"marker\":{\"color\":\"rgb(61,153,112)\"},\"mode\":\"lines\",\"x\":[595.0,595.0,605.0,605.0],\"xaxis\":\"x\",\"y\":[0.0,1.0,1.0,0.0],\"yaxis\":\"y\",\"type\":\"scatter\"},{\"hoverinfo\":\"text\",\"marker\":{\"color\":\"rgb(61,153,112)\"},\"mode\":\"lines\",\"x\":[585.0,585.0,600.0,600.0],\"xaxis\":\"x\",\"y\":[0.0,1.7320508075688772,1.7320508075688772,1.0],\"yaxis\":\"y\",\"type\":\"scatter\"},{\"hoverinfo\":\"text\",\"marker\":{\"color\":\"rgb(61,153,112)\"},\"mode\":\"lines\",\"x\":[635.0,635.0,645.0,645.0],\"xaxis\":\"x\",\"y\":[0.0,1.0,1.0,0.0],\"yaxis\":\"y\",\"type\":\"scatter\"},{\"hoverinfo\":\"text\",\"marker\":{\"color\":\"rgb(61,153,112)\"},\"mode\":\"lines\",\"x\":[625.0,625.0,640.0,640.0],\"xaxis\":\"x\",\"y\":[0.0,2.8867513459481287,2.8867513459481287,1.0],\"yaxis\":\"y\",\"type\":\"scatter\"},{\"hoverinfo\":\"text\",\"marker\":{\"color\":\"rgb(61,153,112)\"},\"mode\":\"lines\",\"x\":[615.0,615.0,632.5,632.5],\"xaxis\":\"x\",\"y\":[0.0,6.137317546507322,6.137317546507322,2.8867513459481287],\"yaxis\":\"y\",\"type\":\"scatter\"},{\"hoverinfo\":\"text\",\"marker\":{\"color\":\"rgb(61,153,112)\"},\"mode\":\"lines\",\"x\":[592.5,592.5,623.75,623.75],\"xaxis\":\"x\",\"y\":[1.7320508075688772,9.094739452798288,9.094739452798288,6.137317546507322],\"yaxis\":\"y\",\"type\":\"scatter\"},{\"hoverinfo\":\"text\",\"marker\":{\"color\":\"rgb(61,153,112)\"},\"mode\":\"lines\",\"x\":[675.0,675.0,685.0,685.0],\"xaxis\":\"x\",\"y\":[0.0,1.0,1.0,0.0],\"yaxis\":\"y\",\"type\":\"scatter\"},{\"hoverinfo\":\"text\",\"marker\":{\"color\":\"rgb(61,153,112)\"},\"mode\":\"lines\",\"x\":[665.0,665.0,680.0,680.0],\"xaxis\":\"x\",\"y\":[0.0,2.886751345948129,2.886751345948129,1.0],\"yaxis\":\"y\",\"type\":\"scatter\"},{\"hoverinfo\":\"text\",\"marker\":{\"color\":\"rgb(61,153,112)\"},\"mode\":\"lines\",\"x\":[655.0,655.0,672.5,672.5],\"xaxis\":\"x\",\"y\":[0.0,4.0824829046386295,4.0824829046386295,2.886751345948129],\"yaxis\":\"y\",\"type\":\"scatter\"},{\"hoverinfo\":\"text\",\"marker\":{\"color\":\"rgb(61,153,112)\"},\"mode\":\"lines\",\"x\":[705.0,705.0,715.0,715.0],\"xaxis\":\"x\",\"y\":[0.0,1.0,1.0,0.0],\"yaxis\":\"y\",\"type\":\"scatter\"},{\"hoverinfo\":\"text\",\"marker\":{\"color\":\"rgb(61,153,112)\"},\"mode\":\"lines\",\"x\":[725.0,725.0,735.0,735.0],\"xaxis\":\"x\",\"y\":[0.0,1.4142135623730951,1.4142135623730951,0.0],\"yaxis\":\"y\",\"type\":\"scatter\"},{\"hoverinfo\":\"text\",\"marker\":{\"color\":\"rgb(61,153,112)\"},\"mode\":\"lines\",\"x\":[710.0,710.0,730.0,730.0],\"xaxis\":\"x\",\"y\":[1.0,2.5495097567963927,2.5495097567963927,1.4142135623730951],\"yaxis\":\"y\",\"type\":\"scatter\"},{\"hoverinfo\":\"text\",\"marker\":{\"color\":\"rgb(61,153,112)\"},\"mode\":\"lines\",\"x\":[695.0,695.0,720.0,720.0],\"xaxis\":\"x\",\"y\":[0.0,4.301162633521313,4.301162633521313,2.5495097567963927],\"yaxis\":\"y\",\"type\":\"scatter\"},{\"hoverinfo\":\"text\",\"marker\":{\"color\":\"rgb(61,153,112)\"},\"mode\":\"lines\",\"x\":[663.75,663.75,707.5,707.5],\"xaxis\":\"x\",\"y\":[4.0824829046386295,7.557189365836423,7.557189365836423,4.301162633521313],\"yaxis\":\"y\",\"type\":\"scatter\"},{\"hoverinfo\":\"text\",\"marker\":{\"color\":\"rgb(61,153,112)\"},\"mode\":\"lines\",\"x\":[755.0,755.0,765.0,765.0],\"xaxis\":\"x\",\"y\":[0.0,0.0,0.0,0.0],\"yaxis\":\"y\",\"type\":\"scatter\"},{\"hoverinfo\":\"text\",\"marker\":{\"color\":\"rgb(61,153,112)\"},\"mode\":\"lines\",\"x\":[745.0,745.0,760.0,760.0],\"xaxis\":\"x\",\"y\":[0.0,3.6514837167011076,3.6514837167011076,0.0],\"yaxis\":\"y\",\"type\":\"scatter\"},{\"hoverinfo\":\"text\",\"marker\":{\"color\":\"rgb(61,153,112)\"},\"mode\":\"lines\",\"x\":[785.0,785.0,795.0,795.0],\"xaxis\":\"x\",\"y\":[0.0,1.4142135623730951,1.4142135623730951,0.0],\"yaxis\":\"y\",\"type\":\"scatter\"},{\"hoverinfo\":\"text\",\"marker\":{\"color\":\"rgb(61,153,112)\"},\"mode\":\"lines\",\"x\":[775.0,775.0,790.0,790.0],\"xaxis\":\"x\",\"y\":[0.0,4.396968652757639,4.396968652757639,1.4142135623730951],\"yaxis\":\"y\",\"type\":\"scatter\"},{\"hoverinfo\":\"text\",\"marker\":{\"color\":\"rgb(61,153,112)\"},\"mode\":\"lines\",\"x\":[752.5,752.5,782.5,782.5],\"xaxis\":\"x\",\"y\":[3.6514837167011076,7.852812659593163,7.852812659593163,4.396968652757639],\"yaxis\":\"y\",\"type\":\"scatter\"},{\"hoverinfo\":\"text\",\"marker\":{\"color\":\"rgb(61,153,112)\"},\"mode\":\"lines\",\"x\":[685.625,685.625,767.5,767.5],\"xaxis\":\"x\",\"y\":[7.557189365836423,20.97670665815352,20.97670665815352,7.852812659593163],\"yaxis\":\"y\",\"type\":\"scatter\"},{\"hoverinfo\":\"text\",\"marker\":{\"color\":\"rgb(61,153,112)\"},\"mode\":\"lines\",\"x\":[608.125,608.125,726.5625,726.5625],\"xaxis\":\"x\",\"y\":[9.094739452798288,27.068951559455314,27.068951559455314,20.97670665815352],\"yaxis\":\"y\",\"type\":\"scatter\"},{\"hoverinfo\":\"text\",\"marker\":{\"color\":\"rgb(61,153,112)\"},\"mode\":\"lines\",\"x\":[488.4375,488.4375,667.34375,667.34375],\"xaxis\":\"x\",\"y\":[18.011504260174544,48.76575484496108,48.76575484496108,27.068951559455314],\"yaxis\":\"y\",\"type\":\"scatter\"},{\"hoverinfo\":\"text\",\"marker\":{\"color\":\"rgb(61,153,112)\"},\"mode\":\"lines\",\"x\":[815.0,815.0,825.0,825.0],\"xaxis\":\"x\",\"y\":[0.0,2.23606797749979,2.23606797749979,0.0],\"yaxis\":\"y\",\"type\":\"scatter\"},{\"hoverinfo\":\"text\",\"marker\":{\"color\":\"rgb(61,153,112)\"},\"mode\":\"lines\",\"x\":[805.0,805.0,820.0,820.0],\"xaxis\":\"x\",\"y\":[0.0,5.686240703077327,5.686240703077327,2.23606797749979],\"yaxis\":\"y\",\"type\":\"scatter\"},{\"hoverinfo\":\"text\",\"marker\":{\"color\":\"rgb(61,153,112)\"},\"mode\":\"lines\",\"x\":[845.0,845.0,855.0,855.0],\"xaxis\":\"x\",\"y\":[0.0,1.4142135623730951,1.4142135623730951,0.0],\"yaxis\":\"y\",\"type\":\"scatter\"},{\"hoverinfo\":\"text\",\"marker\":{\"color\":\"rgb(61,153,112)\"},\"mode\":\"lines\",\"x\":[835.0,835.0,850.0,850.0],\"xaxis\":\"x\",\"y\":[0.0,6.5828058860438325,6.5828058860438325,1.4142135623730951],\"yaxis\":\"y\",\"type\":\"scatter\"},{\"hoverinfo\":\"text\",\"marker\":{\"color\":\"rgb(61,153,112)\"},\"mode\":\"lines\",\"x\":[812.5,812.5,842.5,842.5],\"xaxis\":\"x\",\"y\":[5.686240703077327,13.291601358251258,13.291601358251258,6.5828058860438325],\"yaxis\":\"y\",\"type\":\"scatter\"},{\"hoverinfo\":\"text\",\"marker\":{\"color\":\"rgb(61,153,112)\"},\"mode\":\"lines\",\"x\":[865.0,865.0,875.0,875.0],\"xaxis\":\"x\",\"y\":[0.0,2.23606797749979,2.23606797749979,0.0],\"yaxis\":\"y\",\"type\":\"scatter\"},{\"hoverinfo\":\"text\",\"marker\":{\"color\":\"rgb(61,153,112)\"},\"mode\":\"lines\",\"x\":[905.0,905.0,915.0,915.0],\"xaxis\":\"x\",\"y\":[0.0,1.0,1.0,0.0],\"yaxis\":\"y\",\"type\":\"scatter\"},{\"hoverinfo\":\"text\",\"marker\":{\"color\":\"rgb(61,153,112)\"},\"mode\":\"lines\",\"x\":[895.0,895.0,910.0,910.0],\"xaxis\":\"x\",\"y\":[0.0,1.2909944487358056,1.2909944487358056,1.0],\"yaxis\":\"y\",\"type\":\"scatter\"},{\"hoverinfo\":\"text\",\"marker\":{\"color\":\"rgb(61,153,112)\"},\"mode\":\"lines\",\"x\":[885.0,885.0,902.5,902.5],\"xaxis\":\"x\",\"y\":[0.0,3.2914029430219167,3.2914029430219167,1.2909944487358056],\"yaxis\":\"y\",\"type\":\"scatter\"},{\"hoverinfo\":\"text\",\"marker\":{\"color\":\"rgb(61,153,112)\"},\"mode\":\"lines\",\"x\":[870.0,870.0,893.75,893.75],\"xaxis\":\"x\",\"y\":[2.23606797749979,6.069047152011041,6.069047152011041,3.2914029430219167],\"yaxis\":\"y\",\"type\":\"scatter\"},{\"hoverinfo\":\"text\",\"marker\":{\"color\":\"rgb(61,153,112)\"},\"mode\":\"lines\",\"x\":[925.0,925.0,935.0,935.0],\"xaxis\":\"x\",\"y\":[0.0,1.0,1.0,0.0],\"yaxis\":\"y\",\"type\":\"scatter\"},{\"hoverinfo\":\"text\",\"marker\":{\"color\":\"rgb(61,153,112)\"},\"mode\":\"lines\",\"x\":[945.0,945.0,955.0,955.0],\"xaxis\":\"x\",\"y\":[0.0,1.0,1.0,0.0],\"yaxis\":\"y\",\"type\":\"scatter\"},{\"hoverinfo\":\"text\",\"marker\":{\"color\":\"rgb(61,153,112)\"},\"mode\":\"lines\",\"x\":[930.0,930.0,950.0,950.0],\"xaxis\":\"x\",\"y\":[1.0,3.1622776601683795,3.1622776601683795,1.0],\"yaxis\":\"y\",\"type\":\"scatter\"},{\"hoverinfo\":\"text\",\"marker\":{\"color\":\"rgb(61,153,112)\"},\"mode\":\"lines\",\"x\":[965.0,965.0,975.0,975.0],\"xaxis\":\"x\",\"y\":[0.0,2.0,2.0,0.0],\"yaxis\":\"y\",\"type\":\"scatter\"},{\"hoverinfo\":\"text\",\"marker\":{\"color\":\"rgb(61,153,112)\"},\"mode\":\"lines\",\"x\":[985.0,985.0,995.0,995.0],\"xaxis\":\"x\",\"y\":[0.0,2.0,2.0,0.0],\"yaxis\":\"y\",\"type\":\"scatter\"},{\"hoverinfo\":\"text\",\"marker\":{\"color\":\"rgb(61,153,112)\"},\"mode\":\"lines\",\"x\":[970.0,970.0,990.0,990.0],\"xaxis\":\"x\",\"y\":[2.0,4.0,4.0,2.0],\"yaxis\":\"y\",\"type\":\"scatter\"},{\"hoverinfo\":\"text\",\"marker\":{\"color\":\"rgb(61,153,112)\"},\"mode\":\"lines\",\"x\":[940.0,940.0,980.0,980.0],\"xaxis\":\"x\",\"y\":[3.1622776601683795,6.324555320336758,6.324555320336758,4.0],\"yaxis\":\"y\",\"type\":\"scatter\"},{\"hoverinfo\":\"text\",\"marker\":{\"color\":\"rgb(61,153,112)\"},\"mode\":\"lines\",\"x\":[881.875,881.875,960.0,960.0],\"xaxis\":\"x\",\"y\":[6.069047152011041,9.641181512261914,9.641181512261914,6.324555320336758],\"yaxis\":\"y\",\"type\":\"scatter\"},{\"hoverinfo\":\"text\",\"marker\":{\"color\":\"rgb(61,153,112)\"},\"mode\":\"lines\",\"x\":[1005.0,1005.0,1015.0,1015.0],\"xaxis\":\"x\",\"y\":[0.0,1.4142135623730951,1.4142135623730951,0.0],\"yaxis\":\"y\",\"type\":\"scatter\"},{\"hoverinfo\":\"text\",\"marker\":{\"color\":\"rgb(61,153,112)\"},\"mode\":\"lines\",\"x\":[1025.0,1025.0,1035.0,1035.0],\"xaxis\":\"x\",\"y\":[0.0,1.0,1.0,0.0],\"yaxis\":\"y\",\"type\":\"scatter\"},{\"hoverinfo\":\"text\",\"marker\":{\"color\":\"rgb(61,153,112)\"},\"mode\":\"lines\",\"x\":[1045.0,1045.0,1055.0,1055.0],\"xaxis\":\"x\",\"y\":[0.0,1.0,1.0,0.0],\"yaxis\":\"y\",\"type\":\"scatter\"},{\"hoverinfo\":\"text\",\"marker\":{\"color\":\"rgb(61,153,112)\"},\"mode\":\"lines\",\"x\":[1030.0,1030.0,1050.0,1050.0],\"xaxis\":\"x\",\"y\":[1.0,2.23606797749979,2.23606797749979,1.0],\"yaxis\":\"y\",\"type\":\"scatter\"},{\"hoverinfo\":\"text\",\"marker\":{\"color\":\"rgb(61,153,112)\"},\"mode\":\"lines\",\"x\":[1010.0,1010.0,1040.0,1040.0],\"xaxis\":\"x\",\"y\":[1.4142135623730951,3.511884584284247,3.511884584284247,2.23606797749979],\"yaxis\":\"y\",\"type\":\"scatter\"},{\"hoverinfo\":\"text\",\"marker\":{\"color\":\"rgb(61,153,112)\"},\"mode\":\"lines\",\"x\":[1075.0,1075.0,1085.0,1085.0],\"xaxis\":\"x\",\"y\":[0.0,1.4142135623730951,1.4142135623730951,0.0],\"yaxis\":\"y\",\"type\":\"scatter\"},{\"hoverinfo\":\"text\",\"marker\":{\"color\":\"rgb(61,153,112)\"},\"mode\":\"lines\",\"x\":[1065.0,1065.0,1080.0,1080.0],\"xaxis\":\"x\",\"y\":[0.0,1.8257418583505536,1.8257418583505536,1.4142135623730951],\"yaxis\":\"y\",\"type\":\"scatter\"},{\"hoverinfo\":\"text\",\"marker\":{\"color\":\"rgb(61,153,112)\"},\"mode\":\"lines\",\"x\":[1095.0,1095.0,1105.0,1105.0],\"xaxis\":\"x\",\"y\":[0.0,3.0,3.0,0.0],\"yaxis\":\"y\",\"type\":\"scatter\"},{\"hoverinfo\":\"text\",\"marker\":{\"color\":\"rgb(61,153,112)\"},\"mode\":\"lines\",\"x\":[1072.5,1072.5,1100.0,1100.0],\"xaxis\":\"x\",\"y\":[1.8257418583505536,4.986648841322864,4.986648841322864,3.0],\"yaxis\":\"y\",\"type\":\"scatter\"},{\"hoverinfo\":\"text\",\"marker\":{\"color\":\"rgb(61,153,112)\"},\"mode\":\"lines\",\"x\":[1025.0,1025.0,1086.25,1086.25],\"xaxis\":\"x\",\"y\":[3.511884584284247,10.779329264566483,10.779329264566483,4.986648841322864],\"yaxis\":\"y\",\"type\":\"scatter\"},{\"hoverinfo\":\"text\",\"marker\":{\"color\":\"rgb(61,153,112)\"},\"mode\":\"lines\",\"x\":[920.9375,920.9375,1055.625,1055.625],\"xaxis\":\"x\",\"y\":[9.641181512261914,24.43495473674983,24.43495473674983,10.779329264566483],\"yaxis\":\"y\",\"type\":\"scatter\"},{\"hoverinfo\":\"text\",\"marker\":{\"color\":\"rgb(61,153,112)\"},\"mode\":\"lines\",\"x\":[1125.0,1125.0,1135.0,1135.0],\"xaxis\":\"x\",\"y\":[0.0,1.0,1.0,0.0],\"yaxis\":\"y\",\"type\":\"scatter\"},{\"hoverinfo\":\"text\",\"marker\":{\"color\":\"rgb(61,153,112)\"},\"mode\":\"lines\",\"x\":[1115.0,1115.0,1130.0,1130.0],\"xaxis\":\"x\",\"y\":[0.0,2.886751345948129,2.886751345948129,1.0],\"yaxis\":\"y\",\"type\":\"scatter\"},{\"hoverinfo\":\"text\",\"marker\":{\"color\":\"rgb(61,153,112)\"},\"mode\":\"lines\",\"x\":[1155.0,1155.0,1165.0,1165.0],\"xaxis\":\"x\",\"y\":[0.0,1.0,1.0,0.0],\"yaxis\":\"y\",\"type\":\"scatter\"},{\"hoverinfo\":\"text\",\"marker\":{\"color\":\"rgb(61,153,112)\"},\"mode\":\"lines\",\"x\":[1145.0,1145.0,1160.0,1160.0],\"xaxis\":\"x\",\"y\":[0.0,2.081665999466133,2.081665999466133,1.0],\"yaxis\":\"y\",\"type\":\"scatter\"},{\"hoverinfo\":\"text\",\"marker\":{\"color\":\"rgb(61,153,112)\"},\"mode\":\"lines\",\"x\":[1175.0,1175.0,1185.0,1185.0],\"xaxis\":\"x\",\"y\":[0.0,3.0,3.0,0.0],\"yaxis\":\"y\",\"type\":\"scatter\"},{\"hoverinfo\":\"text\",\"marker\":{\"color\":\"rgb(61,153,112)\"},\"mode\":\"lines\",\"x\":[1152.5,1152.5,1180.0,1180.0],\"xaxis\":\"x\",\"y\":[2.081665999466133,6.454972243679028,6.454972243679028,3.0],\"yaxis\":\"y\",\"type\":\"scatter\"},{\"hoverinfo\":\"text\",\"marker\":{\"color\":\"rgb(61,153,112)\"},\"mode\":\"lines\",\"x\":[1122.5,1122.5,1166.25,1166.25],\"xaxis\":\"x\",\"y\":[2.886751345948129,9.456038635002855,9.456038635002855,6.454972243679028],\"yaxis\":\"y\",\"type\":\"scatter\"},{\"hoverinfo\":\"text\",\"marker\":{\"color\":\"rgb(61,153,112)\"},\"mode\":\"lines\",\"x\":[1195.0,1195.0,1205.0,1205.0],\"xaxis\":\"x\",\"y\":[0.0,1.0,1.0,0.0],\"yaxis\":\"y\",\"type\":\"scatter\"},{\"hoverinfo\":\"text\",\"marker\":{\"color\":\"rgb(61,153,112)\"},\"mode\":\"lines\",\"x\":[1235.0,1235.0,1245.0,1245.0],\"xaxis\":\"x\",\"y\":[0.0,1.0,1.0,0.0],\"yaxis\":\"y\",\"type\":\"scatter\"},{\"hoverinfo\":\"text\",\"marker\":{\"color\":\"rgb(61,153,112)\"},\"mode\":\"lines\",\"x\":[1225.0,1225.0,1240.0,1240.0],\"xaxis\":\"x\",\"y\":[0.0,1.7320508075688772,1.7320508075688772,1.0],\"yaxis\":\"y\",\"type\":\"scatter\"},{\"hoverinfo\":\"text\",\"marker\":{\"color\":\"rgb(61,153,112)\"},\"mode\":\"lines\",\"x\":[1215.0,1215.0,1232.5,1232.5],\"xaxis\":\"x\",\"y\":[0.0,3.6742346141747673,3.6742346141747673,1.7320508075688772],\"yaxis\":\"y\",\"type\":\"scatter\"},{\"hoverinfo\":\"text\",\"marker\":{\"color\":\"rgb(61,153,112)\"},\"mode\":\"lines\",\"x\":[1200.0,1200.0,1223.75,1223.75],\"xaxis\":\"x\",\"y\":[1.0,5.307227776030218,5.307227776030218,3.6742346141747673],\"yaxis\":\"y\",\"type\":\"scatter\"},{\"hoverinfo\":\"text\",\"marker\":{\"color\":\"rgb(61,153,112)\"},\"mode\":\"lines\",\"x\":[1255.0,1255.0,1265.0,1265.0],\"xaxis\":\"x\",\"y\":[0.0,2.0,2.0,0.0],\"yaxis\":\"y\",\"type\":\"scatter\"},{\"hoverinfo\":\"text\",\"marker\":{\"color\":\"rgb(61,153,112)\"},\"mode\":\"lines\",\"x\":[1275.0,1275.0,1285.0,1285.0],\"xaxis\":\"x\",\"y\":[0.0,2.23606797749979,2.23606797749979,0.0],\"yaxis\":\"y\",\"type\":\"scatter\"},{\"hoverinfo\":\"text\",\"marker\":{\"color\":\"rgb(61,153,112)\"},\"mode\":\"lines\",\"x\":[1260.0,1260.0,1280.0,1280.0],\"xaxis\":\"x\",\"y\":[2.0,5.700877125495689,5.700877125495689,2.23606797749979],\"yaxis\":\"y\",\"type\":\"scatter\"},{\"hoverinfo\":\"text\",\"marker\":{\"color\":\"rgb(61,153,112)\"},\"mode\":\"lines\",\"x\":[1211.875,1211.875,1270.0,1270.0],\"xaxis\":\"x\",\"y\":[5.307227776030218,10.992421631894098,10.992421631894098,5.700877125495689],\"yaxis\":\"y\",\"type\":\"scatter\"},{\"hoverinfo\":\"text\",\"marker\":{\"color\":\"rgb(61,153,112)\"},\"mode\":\"lines\",\"x\":[1144.375,1144.375,1240.9375,1240.9375],\"xaxis\":\"x\",\"y\":[9.456038635002855,27.701283564324427,27.701283564324427,10.992421631894098],\"yaxis\":\"y\",\"type\":\"scatter\"},{\"hoverinfo\":\"text\",\"marker\":{\"color\":\"rgb(61,153,112)\"},\"mode\":\"lines\",\"x\":[988.28125,988.28125,1192.65625,1192.65625],\"xaxis\":\"x\",\"y\":[24.43495473674983,48.202282639721396,48.202282639721396,27.701283564324427],\"yaxis\":\"y\",\"type\":\"scatter\"},{\"hoverinfo\":\"text\",\"marker\":{\"color\":\"rgb(61,153,112)\"},\"mode\":\"lines\",\"x\":[827.5,827.5,1090.46875,1090.46875],\"xaxis\":\"x\",\"y\":[13.291601358251258,64.53740565258077,64.53740565258077,48.202282639721396],\"yaxis\":\"y\",\"type\":\"scatter\"},{\"hoverinfo\":\"text\",\"marker\":{\"color\":\"rgb(61,153,112)\"},\"mode\":\"lines\",\"x\":[577.890625,577.890625,958.984375,958.984375],\"xaxis\":\"x\",\"y\":[48.76575484496108,106.65057883130635,106.65057883130635,64.53740565258077],\"yaxis\":\"y\",\"type\":\"scatter\"},{\"hoverinfo\":\"text\",\"marker\":{\"color\":\"rgb(61,153,112)\"},\"mode\":\"lines\",\"x\":[320.15625,320.15625,768.4375,768.4375],\"xaxis\":\"x\",\"y\":[81.17935866982934,245.65460099007137,245.65460099007137,106.65057883130635],\"yaxis\":\"y\",\"type\":\"scatter\"},{\"hoverinfo\":\"text\",\"marker\":{\"color\":\"rgb(61,153,112)\"},\"mode\":\"lines\",\"x\":[103.828125,103.828125,544.296875,544.296875],\"xaxis\":\"x\",\"y\":[55.29105472497999,262.5626341044318,262.5626341044318,245.65460099007137],\"yaxis\":\"y\",\"type\":\"scatter\"},{\"hoverinfo\":\"text\",\"marker\":{\"color\":\"rgb(255,65,54)\"},\"mode\":\"lines\",\"x\":[1305.0,1305.0,1315.0,1315.0],\"xaxis\":\"x\",\"y\":[0.0,7.810249675906654,7.810249675906654,0.0],\"yaxis\":\"y\",\"type\":\"scatter\"},{\"hoverinfo\":\"text\",\"marker\":{\"color\":\"rgb(255,65,54)\"},\"mode\":\"lines\",\"x\":[1295.0,1295.0,1310.0,1310.0],\"xaxis\":\"x\",\"y\":[0.0,17.8232058470598,17.8232058470598,7.810249675906654],\"yaxis\":\"y\",\"type\":\"scatter\"},{\"hoverinfo\":\"text\",\"marker\":{\"color\":\"rgb(255,65,54)\"},\"mode\":\"lines\",\"x\":[1365.0,1365.0,1375.0,1375.0],\"xaxis\":\"x\",\"y\":[0.0,2.23606797749979,2.23606797749979,0.0],\"yaxis\":\"y\",\"type\":\"scatter\"},{\"hoverinfo\":\"text\",\"marker\":{\"color\":\"rgb(255,65,54)\"},\"mode\":\"lines\",\"x\":[1355.0,1355.0,1370.0,1370.0],\"xaxis\":\"x\",\"y\":[0.0,6.244997998398398,6.244997998398398,2.23606797749979],\"yaxis\":\"y\",\"type\":\"scatter\"},{\"hoverinfo\":\"text\",\"marker\":{\"color\":\"rgb(255,65,54)\"},\"mode\":\"lines\",\"x\":[1345.0,1345.0,1362.5,1362.5],\"xaxis\":\"x\",\"y\":[0.0,9.327379053088816,9.327379053088816,6.244997998398398],\"yaxis\":\"y\",\"type\":\"scatter\"},{\"hoverinfo\":\"text\",\"marker\":{\"color\":\"rgb(255,65,54)\"},\"mode\":\"lines\",\"x\":[1335.0,1335.0,1353.75,1353.75],\"xaxis\":\"x\",\"y\":[0.0,12.433824833895644,12.433824833895644,9.327379053088816],\"yaxis\":\"y\",\"type\":\"scatter\"},{\"hoverinfo\":\"text\",\"marker\":{\"color\":\"rgb(255,65,54)\"},\"mode\":\"lines\",\"x\":[1325.0,1325.0,1344.375,1344.375],\"xaxis\":\"x\",\"y\":[0.0,19.50384577461584,19.50384577461584,12.433824833895644],\"yaxis\":\"y\",\"type\":\"scatter\"},{\"hoverinfo\":\"text\",\"marker\":{\"color\":\"rgb(255,65,54)\"},\"mode\":\"lines\",\"x\":[1302.5,1302.5,1334.6875,1334.6875],\"xaxis\":\"x\",\"y\":[17.8232058470598,58.49406427626272,58.49406427626272,19.50384577461584],\"yaxis\":\"y\",\"type\":\"scatter\"},{\"hoverinfo\":\"text\",\"marker\":{\"color\":\"rgb(255,65,54)\"},\"mode\":\"lines\",\"x\":[1395.0,1395.0,1405.0,1405.0],\"xaxis\":\"x\",\"y\":[0.0,3.1622776601683795,3.1622776601683795,0.0],\"yaxis\":\"y\",\"type\":\"scatter\"},{\"hoverinfo\":\"text\",\"marker\":{\"color\":\"rgb(255,65,54)\"},\"mode\":\"lines\",\"x\":[1385.0,1385.0,1400.0,1400.0],\"xaxis\":\"x\",\"y\":[0.0,8.831760866327846,8.831760866327846,3.1622776601683795],\"yaxis\":\"y\",\"type\":\"scatter\"},{\"hoverinfo\":\"text\",\"marker\":{\"color\":\"rgb(255,65,54)\"},\"mode\":\"lines\",\"x\":[1435.0,1435.0,1445.0,1445.0],\"xaxis\":\"x\",\"y\":[0.0,1.0,1.0,0.0],\"yaxis\":\"y\",\"type\":\"scatter\"},{\"hoverinfo\":\"text\",\"marker\":{\"color\":\"rgb(255,65,54)\"},\"mode\":\"lines\",\"x\":[1425.0,1425.0,1440.0,1440.0],\"xaxis\":\"x\",\"y\":[0.0,1.7320508075688772,1.7320508075688772,1.0],\"yaxis\":\"y\",\"type\":\"scatter\"},{\"hoverinfo\":\"text\",\"marker\":{\"color\":\"rgb(255,65,54)\"},\"mode\":\"lines\",\"x\":[1455.0,1455.0,1465.0,1465.0],\"xaxis\":\"x\",\"y\":[0.0,3.1622776601683795,3.1622776601683795,0.0],\"yaxis\":\"y\",\"type\":\"scatter\"},{\"hoverinfo\":\"text\",\"marker\":{\"color\":\"rgb(255,65,54)\"},\"mode\":\"lines\",\"x\":[1432.5,1432.5,1460.0,1460.0],\"xaxis\":\"x\",\"y\":[1.7320508075688772,5.89915248150105,5.89915248150105,3.1622776601683795],\"yaxis\":\"y\",\"type\":\"scatter\"},{\"hoverinfo\":\"text\",\"marker\":{\"color\":\"rgb(255,65,54)\"},\"mode\":\"lines\",\"x\":[1415.0,1415.0,1446.25,1446.25],\"xaxis\":\"x\",\"y\":[0.0,7.628892449104261,7.628892449104261,5.89915248150105],\"yaxis\":\"y\",\"type\":\"scatter\"},{\"hoverinfo\":\"text\",\"marker\":{\"color\":\"rgb(255,65,54)\"},\"mode\":\"lines\",\"x\":[1475.0,1475.0,1485.0,1485.0],\"xaxis\":\"x\",\"y\":[0.0,4.47213595499958,4.47213595499958,0.0],\"yaxis\":\"y\",\"type\":\"scatter\"},{\"hoverinfo\":\"text\",\"marker\":{\"color\":\"rgb(255,65,54)\"},\"mode\":\"lines\",\"x\":[1505.0,1505.0,1515.0,1515.0],\"xaxis\":\"x\",\"y\":[0.0,4.47213595499958,4.47213595499958,0.0],\"yaxis\":\"y\",\"type\":\"scatter\"},{\"hoverinfo\":\"text\",\"marker\":{\"color\":\"rgb(255,65,54)\"},\"mode\":\"lines\",\"x\":[1495.0,1495.0,1510.0,1510.0],\"xaxis\":\"x\",\"y\":[0.0,6.21825270205921,6.21825270205921,4.47213595499958],\"yaxis\":\"y\",\"type\":\"scatter\"},{\"hoverinfo\":\"text\",\"marker\":{\"color\":\"rgb(255,65,54)\"},\"mode\":\"lines\",\"x\":[1480.0,1480.0,1502.5,1502.5],\"xaxis\":\"x\",\"y\":[4.47213595499958,12.055427546683417,12.055427546683417,6.21825270205921],\"yaxis\":\"y\",\"type\":\"scatter\"},{\"hoverinfo\":\"text\",\"marker\":{\"color\":\"rgb(255,65,54)\"},\"mode\":\"lines\",\"x\":[1430.625,1430.625,1491.25,1491.25],\"xaxis\":\"x\",\"y\":[7.628892449104261,15.745129116939335,15.745129116939335,12.055427546683417],\"yaxis\":\"y\",\"type\":\"scatter\"},{\"hoverinfo\":\"text\",\"marker\":{\"color\":\"rgb(255,65,54)\"},\"mode\":\"lines\",\"x\":[1392.5,1392.5,1460.9375,1460.9375],\"xaxis\":\"x\",\"y\":[8.831760866327846,24.120638358161138,24.120638358161138,15.745129116939335],\"yaxis\":\"y\",\"type\":\"scatter\"},{\"hoverinfo\":\"text\",\"marker\":{\"color\":\"rgb(255,65,54)\"},\"mode\":\"lines\",\"x\":[1525.0,1525.0,1535.0,1535.0],\"xaxis\":\"x\",\"y\":[0.0,1.4142135623730951,1.4142135623730951,0.0],\"yaxis\":\"y\",\"type\":\"scatter\"},{\"hoverinfo\":\"text\",\"marker\":{\"color\":\"rgb(255,65,54)\"},\"mode\":\"lines\",\"x\":[1545.0,1545.0,1555.0,1555.0],\"xaxis\":\"x\",\"y\":[0.0,2.0,2.0,0.0],\"yaxis\":\"y\",\"type\":\"scatter\"},{\"hoverinfo\":\"text\",\"marker\":{\"color\":\"rgb(255,65,54)\"},\"mode\":\"lines\",\"x\":[1530.0,1530.0,1550.0,1550.0],\"xaxis\":\"x\",\"y\":[1.4142135623730951,5.0,5.0,2.0],\"yaxis\":\"y\",\"type\":\"scatter\"},{\"hoverinfo\":\"text\",\"marker\":{\"color\":\"rgb(255,65,54)\"},\"mode\":\"lines\",\"x\":[1575.0,1575.0,1585.0,1585.0],\"xaxis\":\"x\",\"y\":[0.0,1.4142135623730951,1.4142135623730951,0.0],\"yaxis\":\"y\",\"type\":\"scatter\"},{\"hoverinfo\":\"text\",\"marker\":{\"color\":\"rgb(255,65,54)\"},\"mode\":\"lines\",\"x\":[1565.0,1565.0,1580.0,1580.0],\"xaxis\":\"x\",\"y\":[0.0,2.449489742783178,2.449489742783178,1.4142135623730951],\"yaxis\":\"y\",\"type\":\"scatter\"},{\"hoverinfo\":\"text\",\"marker\":{\"color\":\"rgb(255,65,54)\"},\"mode\":\"lines\",\"x\":[1605.0,1605.0,1615.0,1615.0],\"xaxis\":\"x\",\"y\":[0.0,0.0,0.0,0.0],\"yaxis\":\"y\",\"type\":\"scatter\"},{\"hoverinfo\":\"text\",\"marker\":{\"color\":\"rgb(255,65,54)\"},\"mode\":\"lines\",\"x\":[1595.0,1595.0,1610.0,1610.0],\"xaxis\":\"x\",\"y\":[0.0,2.581988897471611,2.581988897471611,0.0],\"yaxis\":\"y\",\"type\":\"scatter\"},{\"hoverinfo\":\"text\",\"marker\":{\"color\":\"rgb(255,65,54)\"},\"mode\":\"lines\",\"x\":[1572.5,1572.5,1602.5,1602.5],\"xaxis\":\"x\",\"y\":[2.449489742783178,7.52772652709081,7.52772652709081,2.581988897471611],\"yaxis\":\"y\",\"type\":\"scatter\"},{\"hoverinfo\":\"text\",\"marker\":{\"color\":\"rgb(255,65,54)\"},\"mode\":\"lines\",\"x\":[1540.0,1540.0,1587.5,1587.5],\"xaxis\":\"x\",\"y\":[5.0,13.32916601542147,13.32916601542147,7.52772652709081],\"yaxis\":\"y\",\"type\":\"scatter\"},{\"hoverinfo\":\"text\",\"marker\":{\"color\":\"rgb(255,65,54)\"},\"mode\":\"lines\",\"x\":[1625.0,1625.0,1635.0,1635.0],\"xaxis\":\"x\",\"y\":[0.0,2.23606797749979,2.23606797749979,0.0],\"yaxis\":\"y\",\"type\":\"scatter\"},{\"hoverinfo\":\"text\",\"marker\":{\"color\":\"rgb(255,65,54)\"},\"mode\":\"lines\",\"x\":[1645.0,1645.0,1655.0,1655.0],\"xaxis\":\"x\",\"y\":[0.0,2.0,2.0,0.0],\"yaxis\":\"y\",\"type\":\"scatter\"},{\"hoverinfo\":\"text\",\"marker\":{\"color\":\"rgb(255,65,54)\"},\"mode\":\"lines\",\"x\":[1665.0,1665.0,1675.0,1675.0],\"xaxis\":\"x\",\"y\":[0.0,6.082762530298219,6.082762530298219,0.0],\"yaxis\":\"y\",\"type\":\"scatter\"},{\"hoverinfo\":\"text\",\"marker\":{\"color\":\"rgb(255,65,54)\"},\"mode\":\"lines\",\"x\":[1650.0,1650.0,1670.0,1670.0],\"xaxis\":\"x\",\"y\":[2.0,12.903487900563938,12.903487900563938,6.082762530298219],\"yaxis\":\"y\",\"type\":\"scatter\"},{\"hoverinfo\":\"text\",\"marker\":{\"color\":\"rgb(255,65,54)\"},\"mode\":\"lines\",\"x\":[1630.0,1630.0,1660.0,1660.0],\"xaxis\":\"x\",\"y\":[2.23606797749979,25.116395707452398,25.116395707452398,12.903487900563938],\"yaxis\":\"y\",\"type\":\"scatter\"},{\"hoverinfo\":\"text\",\"marker\":{\"color\":\"rgb(255,65,54)\"},\"mode\":\"lines\",\"x\":[1563.75,1563.75,1645.0,1645.0],\"xaxis\":\"x\",\"y\":[13.32916601542147,49.88403218131697,49.88403218131697,25.116395707452398],\"yaxis\":\"y\",\"type\":\"scatter\"},{\"hoverinfo\":\"text\",\"marker\":{\"color\":\"rgb(255,65,54)\"},\"mode\":\"lines\",\"x\":[1426.71875,1426.71875,1604.375,1604.375],\"xaxis\":\"x\",\"y\":[24.120638358161138,69.52315475882152,69.52315475882152,49.88403218131697],\"yaxis\":\"y\",\"type\":\"scatter\"},{\"hoverinfo\":\"text\",\"marker\":{\"color\":\"rgb(255,65,54)\"},\"mode\":\"lines\",\"x\":[1318.59375,1318.59375,1515.546875,1515.546875],\"xaxis\":\"x\",\"y\":[58.49406427626272,112.81820335631572,112.81820335631572,69.52315475882152],\"yaxis\":\"y\",\"type\":\"scatter\"},{\"hoverinfo\":\"text\",\"marker\":{\"color\":\"rgb(35,205,205)\"},\"mode\":\"lines\",\"x\":[1695.0,1695.0,1705.0,1705.0],\"xaxis\":\"x\",\"y\":[0.0,0.0,0.0,0.0],\"yaxis\":\"y\",\"type\":\"scatter\"},{\"hoverinfo\":\"text\",\"marker\":{\"color\":\"rgb(35,205,205)\"},\"mode\":\"lines\",\"x\":[1685.0,1685.0,1700.0,1700.0],\"xaxis\":\"x\",\"y\":[0.0,5.773502691896257,5.773502691896257,0.0],\"yaxis\":\"y\",\"type\":\"scatter\"},{\"hoverinfo\":\"text\",\"marker\":{\"color\":\"rgb(35,205,205)\"},\"mode\":\"lines\",\"x\":[1725.0,1725.0,1735.0,1735.0],\"xaxis\":\"x\",\"y\":[0.0,2.0,2.0,0.0],\"yaxis\":\"y\",\"type\":\"scatter\"},{\"hoverinfo\":\"text\",\"marker\":{\"color\":\"rgb(35,205,205)\"},\"mode\":\"lines\",\"x\":[1715.0,1715.0,1730.0,1730.0],\"xaxis\":\"x\",\"y\":[0.0,2.581988897471611,2.581988897471611,2.0],\"yaxis\":\"y\",\"type\":\"scatter\"},{\"hoverinfo\":\"text\",\"marker\":{\"color\":\"rgb(35,205,205)\"},\"mode\":\"lines\",\"x\":[1755.0,1755.0,1765.0,1765.0],\"xaxis\":\"x\",\"y\":[0.0,2.0,2.0,0.0],\"yaxis\":\"y\",\"type\":\"scatter\"},{\"hoverinfo\":\"text\",\"marker\":{\"color\":\"rgb(35,205,205)\"},\"mode\":\"lines\",\"x\":[1745.0,1745.0,1760.0,1760.0],\"xaxis\":\"x\",\"y\":[0.0,3.464101615137755,3.464101615137755,2.0],\"yaxis\":\"y\",\"type\":\"scatter\"},{\"hoverinfo\":\"text\",\"marker\":{\"color\":\"rgb(35,205,205)\"},\"mode\":\"lines\",\"x\":[1722.5,1722.5,1752.5,1752.5],\"xaxis\":\"x\",\"y\":[2.581988897471611,8.04155872120988,8.04155872120988,3.464101615137755],\"yaxis\":\"y\",\"type\":\"scatter\"},{\"hoverinfo\":\"text\",\"marker\":{\"color\":\"rgb(35,205,205)\"},\"mode\":\"lines\",\"x\":[1692.5,1692.5,1737.5,1737.5],\"xaxis\":\"x\",\"y\":[5.773502691896257,16.526073674987384,16.526073674987384,8.04155872120988],\"yaxis\":\"y\",\"type\":\"scatter\"},{\"hoverinfo\":\"text\",\"marker\":{\"color\":\"rgb(35,205,205)\"},\"mode\":\"lines\",\"x\":[1795.0,1795.0,1805.0,1805.0],\"xaxis\":\"x\",\"y\":[0.0,1.0,1.0,0.0],\"yaxis\":\"y\",\"type\":\"scatter\"},{\"hoverinfo\":\"text\",\"marker\":{\"color\":\"rgb(35,205,205)\"},\"mode\":\"lines\",\"x\":[1785.0,1785.0,1800.0,1800.0],\"xaxis\":\"x\",\"y\":[0.0,2.3804761428476167,2.3804761428476167,1.0],\"yaxis\":\"y\",\"type\":\"scatter\"},{\"hoverinfo\":\"text\",\"marker\":{\"color\":\"rgb(35,205,205)\"},\"mode\":\"lines\",\"x\":[1775.0,1775.0,1792.5,1792.5],\"xaxis\":\"x\",\"y\":[0.0,4.564354645876384,4.564354645876384,2.3804761428476167],\"yaxis\":\"y\",\"type\":\"scatter\"},{\"hoverinfo\":\"text\",\"marker\":{\"color\":\"rgb(35,205,205)\"},\"mode\":\"lines\",\"x\":[1815.0,1815.0,1825.0,1825.0],\"xaxis\":\"x\",\"y\":[0.0,5.0990195135927845,5.0990195135927845,0.0],\"yaxis\":\"y\",\"type\":\"scatter\"},{\"hoverinfo\":\"text\",\"marker\":{\"color\":\"rgb(35,205,205)\"},\"mode\":\"lines\",\"x\":[1783.75,1783.75,1820.0,1820.0],\"xaxis\":\"x\",\"y\":[4.564354645876384,13.372858083945006,13.372858083945006,5.0990195135927845],\"yaxis\":\"y\",\"type\":\"scatter\"},{\"hoverinfo\":\"text\",\"marker\":{\"color\":\"rgb(35,205,205)\"},\"mode\":\"lines\",\"x\":[1845.0,1845.0,1855.0,1855.0],\"xaxis\":\"x\",\"y\":[0.0,2.23606797749979,2.23606797749979,0.0],\"yaxis\":\"y\",\"type\":\"scatter\"},{\"hoverinfo\":\"text\",\"marker\":{\"color\":\"rgb(35,205,205)\"},\"mode\":\"lines\",\"x\":[1835.0,1835.0,1850.0,1850.0],\"xaxis\":\"x\",\"y\":[0.0,7.505553499465135,7.505553499465135,2.23606797749979],\"yaxis\":\"y\",\"type\":\"scatter\"},{\"hoverinfo\":\"text\",\"marker\":{\"color\":\"rgb(35,205,205)\"},\"mode\":\"lines\",\"x\":[1865.0,1865.0,1875.0,1875.0],\"xaxis\":\"x\",\"y\":[0.0,2.0,2.0,0.0],\"yaxis\":\"y\",\"type\":\"scatter\"},{\"hoverinfo\":\"text\",\"marker\":{\"color\":\"rgb(35,205,205)\"},\"mode\":\"lines\",\"x\":[1895.0,1895.0,1905.0,1905.0],\"xaxis\":\"x\",\"y\":[0.0,1.0,1.0,0.0],\"yaxis\":\"y\",\"type\":\"scatter\"},{\"hoverinfo\":\"text\",\"marker\":{\"color\":\"rgb(35,205,205)\"},\"mode\":\"lines\",\"x\":[1885.0,1885.0,1900.0,1900.0],\"xaxis\":\"x\",\"y\":[0.0,5.32290647422377,5.32290647422377,1.0],\"yaxis\":\"y\",\"type\":\"scatter\"},{\"hoverinfo\":\"text\",\"marker\":{\"color\":\"rgb(35,205,205)\"},\"mode\":\"lines\",\"x\":[1870.0,1870.0,1892.5,1892.5],\"xaxis\":\"x\",\"y\":[2.0,9.309493362512628,9.309493362512628,5.32290647422377],\"yaxis\":\"y\",\"type\":\"scatter\"},{\"hoverinfo\":\"text\",\"marker\":{\"color\":\"rgb(35,205,205)\"},\"mode\":\"lines\",\"x\":[1842.5,1842.5,1881.25,1881.25],\"xaxis\":\"x\",\"y\":[7.505553499465135,20.794630717246857,20.794630717246857,9.309493362512628],\"yaxis\":\"y\",\"type\":\"scatter\"},{\"hoverinfo\":\"text\",\"marker\":{\"color\":\"rgb(35,205,205)\"},\"mode\":\"lines\",\"x\":[1801.875,1801.875,1861.875,1861.875],\"xaxis\":\"x\",\"y\":[13.372858083945006,29.946181885572816,29.946181885572816,20.794630717246857],\"yaxis\":\"y\",\"type\":\"scatter\"},{\"hoverinfo\":\"text\",\"marker\":{\"color\":\"rgb(35,205,205)\"},\"mode\":\"lines\",\"x\":[1715.0,1715.0,1831.875,1831.875],\"xaxis\":\"x\",\"y\":[16.526073674987384,49.48842500827705,49.48842500827705,29.946181885572816],\"yaxis\":\"y\",\"type\":\"scatter\"},{\"hoverinfo\":\"text\",\"marker\":{\"color\":\"rgb(35,205,205)\"},\"mode\":\"lines\",\"x\":[1915.0,1915.0,1925.0,1925.0],\"xaxis\":\"x\",\"y\":[0.0,7.280109889280518,7.280109889280518,0.0],\"yaxis\":\"y\",\"type\":\"scatter\"},{\"hoverinfo\":\"text\",\"marker\":{\"color\":\"rgb(35,205,205)\"},\"mode\":\"lines\",\"x\":[1945.0,1945.0,1955.0,1955.0],\"xaxis\":\"x\",\"y\":[0.0,2.23606797749979,2.23606797749979,0.0],\"yaxis\":\"y\",\"type\":\"scatter\"},{\"hoverinfo\":\"text\",\"marker\":{\"color\":\"rgb(35,205,205)\"},\"mode\":\"lines\",\"x\":[1935.0,1935.0,1950.0,1950.0],\"xaxis\":\"x\",\"y\":[0.0,7.593857166596345,7.593857166596345,2.23606797749979],\"yaxis\":\"y\",\"type\":\"scatter\"},{\"hoverinfo\":\"text\",\"marker\":{\"color\":\"rgb(35,205,205)\"},\"mode\":\"lines\",\"x\":[1920.0,1920.0,1942.5,1942.5],\"xaxis\":\"x\",\"y\":[7.280109889280518,22.95067174035072,22.95067174035072,7.593857166596345],\"yaxis\":\"y\",\"type\":\"scatter\"},{\"hoverinfo\":\"text\",\"marker\":{\"color\":\"rgb(35,205,205)\"},\"mode\":\"lines\",\"x\":[1965.0,1965.0,1975.0,1975.0],\"xaxis\":\"x\",\"y\":[0.0,10.63014581273465,10.63014581273465,0.0],\"yaxis\":\"y\",\"type\":\"scatter\"},{\"hoverinfo\":\"text\",\"marker\":{\"color\":\"rgb(35,205,205)\"},\"mode\":\"lines\",\"x\":[1985.0,1985.0,1995.0,1995.0],\"xaxis\":\"x\",\"y\":[0.0,14.866068747318506,14.866068747318506,0.0],\"yaxis\":\"y\",\"type\":\"scatter\"},{\"hoverinfo\":\"text\",\"marker\":{\"color\":\"rgb(35,205,205)\"},\"mode\":\"lines\",\"x\":[1970.0,1970.0,1990.0,1990.0],\"xaxis\":\"x\",\"y\":[10.63014581273465,26.30589287593181,26.30589287593181,14.866068747318506],\"yaxis\":\"y\",\"type\":\"scatter\"},{\"hoverinfo\":\"text\",\"marker\":{\"color\":\"rgb(35,205,205)\"},\"mode\":\"lines\",\"x\":[1931.25,1931.25,1980.0,1980.0],\"xaxis\":\"x\",\"y\":[22.95067174035072,53.24200513796518,53.24200513796518,26.30589287593181],\"yaxis\":\"y\",\"type\":\"scatter\"},{\"hoverinfo\":\"text\",\"marker\":{\"color\":\"rgb(35,205,205)\"},\"mode\":\"lines\",\"x\":[1773.4375,1773.4375,1955.625,1955.625],\"xaxis\":\"x\",\"y\":[49.48842500827705,113.88601651850901,113.88601651850901,53.24200513796518],\"yaxis\":\"y\",\"type\":\"scatter\"},{\"hoverinfo\":\"text\",\"marker\":{\"color\":\"rgb(0,116,217)\"},\"mode\":\"lines\",\"x\":[1417.0703125,1417.0703125,1864.53125,1864.53125],\"xaxis\":\"x\",\"y\":[112.81820335631572,394.85965759553204,394.85965759553204,113.88601651850901],\"yaxis\":\"y\",\"type\":\"scatter\"},{\"hoverinfo\":\"text\",\"marker\":{\"color\":\"rgb(0,116,217)\"},\"mode\":\"lines\",\"x\":[324.0625,324.0625,1640.80078125,1640.80078125],\"xaxis\":\"x\",\"y\":[262.5626341044318,405.6600410421901,405.6600410421901,394.85965759553204],\"yaxis\":\"y\",\"type\":\"scatter\"}],                        {\"autosize\":false,\"height\":null,\"hovermode\":\"closest\",\"showlegend\":false,\"width\":null,\"xaxis\":{\"mirror\":\"allticks\",\"rangemode\":\"tozero\",\"showgrid\":false,\"showline\":true,\"showticklabels\":true,\"tickmode\":\"array\",\"ticks\":\"outside\",\"ticktext\":[\"1\",\"3\",\"5\",\"13\",\"15\",\"37\",\"39\",\"27\",\"9\",\"17\",\"31\",\"21\",\"23\",\"7\",\"11\",\"19\",\"33\",\"41\",\"35\",\"25\",\"29\",\"12\",\"10\",\"14\",\"8\",\"2\",\"6\",\"24\",\"34\",\"36\",\"22\",\"30\",\"32\",\"40\",\"42\",\"38\",\"44\",\"0\",\"4\",\"26\",\"28\",\"18\",\"16\",\"20\",\"51\",\"53\",\"43\",\"45\",\"46\",\"50\",\"52\",\"63\",\"65\",\"68\",\"60\",\"61\",\"70\",\"73\",\"77\",\"74\",\"85\",\"71\",\"83\",\"79\",\"82\",\"72\",\"59\",\"67\",\"69\",\"56\",\"64\",\"66\",\"58\",\"62\",\"55\",\"48\",\"49\",\"47\",\"54\",\"57\",\"142\",\"146\",\"160\",\"124\",\"126\",\"132\",\"89\",\"96\",\"95\",\"99\",\"92\",\"97\",\"101\",\"109\",\"107\",\"113\",\"106\",\"110\",\"114\",\"115\",\"91\",\"93\",\"94\",\"98\",\"100\",\"105\",\"116\",\"108\",\"112\",\"118\",\"121\",\"122\",\"119\",\"120\",\"111\",\"103\",\"104\",\"102\",\"117\",\"78\",\"80\",\"84\",\"76\",\"75\",\"81\",\"87\",\"90\",\"86\",\"88\",\"199\",\"195\",\"197\",\"193\",\"185\",\"189\",\"179\",\"181\",\"183\",\"175\",\"167\",\"173\",\"161\",\"149\",\"151\",\"155\",\"135\",\"143\",\"123\",\"127\",\"163\",\"141\",\"145\",\"147\",\"159\",\"153\",\"157\",\"133\",\"137\",\"139\",\"125\",\"129\",\"131\",\"187\",\"191\",\"165\",\"171\",\"169\",\"177\",\"162\",\"156\",\"158\",\"140\",\"134\",\"136\",\"138\",\"128\",\"130\",\"172\",\"176\",\"170\",\"174\",\"178\",\"182\",\"166\",\"164\",\"168\",\"148\",\"152\",\"144\",\"150\",\"154\",\"180\",\"184\",\"188\",\"186\",\"190\",\"192\",\"194\",\"196\",\"198\"],\"tickvals\":[5,15,25,35,45,55,65,75,85,95,105,115,125,135,145,155,165,175,185,195,205,215,225,235,245,255,265,275,285,295,305,315,325,335,345,355,365,375,385,395,405,415,425,435,445,455,465,475,485,495,505,515,525,535,545,555,565,575,585,595,605,615,625,635,645,655,665,675,685,695,705,715,725,735,745,755,765,775,785,795,805,815,825,835,845,855,865,875,885,895,905,915,925,935,945,955,965,975,985,995,1005,1015,1025,1035,1045,1055,1065,1075,1085,1095,1105,1115,1125,1135,1145,1155,1165,1175,1185,1195,1205,1215,1225,1235,1245,1255,1265,1275,1285,1295,1305,1315,1325,1335,1345,1355,1365,1375,1385,1395,1405,1415,1425,1435,1445,1455,1465,1475,1485,1495,1505,1515,1525,1535,1545,1555,1565,1575,1585,1595,1605,1615,1625,1635,1645,1655,1665,1675,1685,1695,1705,1715,1725,1735,1745,1755,1765,1775,1785,1795,1805,1815,1825,1835,1845,1855,1865,1875,1885,1895,1905,1915,1925,1935,1945,1955,1965,1975,1985,1995],\"type\":\"linear\",\"zeroline\":false,\"title\":{\"text\":\"Customers\"}},\"yaxis\":{\"mirror\":\"allticks\",\"rangemode\":\"tozero\",\"showgrid\":false,\"showline\":true,\"showticklabels\":true,\"ticks\":\"outside\",\"type\":\"linear\",\"zeroline\":false,\"title\":{\"text\":\"Euclidean Distance\"}},\"template\":{\"data\":{\"histogram2dcontour\":[{\"type\":\"histogram2dcontour\",\"colorbar\":{\"outlinewidth\":0,\"ticks\":\"\"},\"colorscale\":[[0.0,\"#0d0887\"],[0.1111111111111111,\"#46039f\"],[0.2222222222222222,\"#7201a8\"],[0.3333333333333333,\"#9c179e\"],[0.4444444444444444,\"#bd3786\"],[0.5555555555555556,\"#d8576b\"],[0.6666666666666666,\"#ed7953\"],[0.7777777777777778,\"#fb9f3a\"],[0.8888888888888888,\"#fdca26\"],[1.0,\"#f0f921\"]]}],\"choropleth\":[{\"type\":\"choropleth\",\"colorbar\":{\"outlinewidth\":0,\"ticks\":\"\"}}],\"histogram2d\":[{\"type\":\"histogram2d\",\"colorbar\":{\"outlinewidth\":0,\"ticks\":\"\"},\"colorscale\":[[0.0,\"#0d0887\"],[0.1111111111111111,\"#46039f\"],[0.2222222222222222,\"#7201a8\"],[0.3333333333333333,\"#9c179e\"],[0.4444444444444444,\"#bd3786\"],[0.5555555555555556,\"#d8576b\"],[0.6666666666666666,\"#ed7953\"],[0.7777777777777778,\"#fb9f3a\"],[0.8888888888888888,\"#fdca26\"],[1.0,\"#f0f921\"]]}],\"heatmap\":[{\"type\":\"heatmap\",\"colorbar\":{\"outlinewidth\":0,\"ticks\":\"\"},\"colorscale\":[[0.0,\"#0d0887\"],[0.1111111111111111,\"#46039f\"],[0.2222222222222222,\"#7201a8\"],[0.3333333333333333,\"#9c179e\"],[0.4444444444444444,\"#bd3786\"],[0.5555555555555556,\"#d8576b\"],[0.6666666666666666,\"#ed7953\"],[0.7777777777777778,\"#fb9f3a\"],[0.8888888888888888,\"#fdca26\"],[1.0,\"#f0f921\"]]}],\"heatmapgl\":[{\"type\":\"heatmapgl\",\"colorbar\":{\"outlinewidth\":0,\"ticks\":\"\"},\"colorscale\":[[0.0,\"#0d0887\"],[0.1111111111111111,\"#46039f\"],[0.2222222222222222,\"#7201a8\"],[0.3333333333333333,\"#9c179e\"],[0.4444444444444444,\"#bd3786\"],[0.5555555555555556,\"#d8576b\"],[0.6666666666666666,\"#ed7953\"],[0.7777777777777778,\"#fb9f3a\"],[0.8888888888888888,\"#fdca26\"],[1.0,\"#f0f921\"]]}],\"contourcarpet\":[{\"type\":\"contourcarpet\",\"colorbar\":{\"outlinewidth\":0,\"ticks\":\"\"}}],\"contour\":[{\"type\":\"contour\",\"colorbar\":{\"outlinewidth\":0,\"ticks\":\"\"},\"colorscale\":[[0.0,\"#0d0887\"],[0.1111111111111111,\"#46039f\"],[0.2222222222222222,\"#7201a8\"],[0.3333333333333333,\"#9c179e\"],[0.4444444444444444,\"#bd3786\"],[0.5555555555555556,\"#d8576b\"],[0.6666666666666666,\"#ed7953\"],[0.7777777777777778,\"#fb9f3a\"],[0.8888888888888888,\"#fdca26\"],[1.0,\"#f0f921\"]]}],\"surface\":[{\"type\":\"surface\",\"colorbar\":{\"outlinewidth\":0,\"ticks\":\"\"},\"colorscale\":[[0.0,\"#0d0887\"],[0.1111111111111111,\"#46039f\"],[0.2222222222222222,\"#7201a8\"],[0.3333333333333333,\"#9c179e\"],[0.4444444444444444,\"#bd3786\"],[0.5555555555555556,\"#d8576b\"],[0.6666666666666666,\"#ed7953\"],[0.7777777777777778,\"#fb9f3a\"],[0.8888888888888888,\"#fdca26\"],[1.0,\"#f0f921\"]]}],\"mesh3d\":[{\"type\":\"mesh3d\",\"colorbar\":{\"outlinewidth\":0,\"ticks\":\"\"}}],\"scatter\":[{\"fillpattern\":{\"fillmode\":\"overlay\",\"size\":10,\"solidity\":0.2},\"type\":\"scatter\"}],\"parcoords\":[{\"type\":\"parcoords\",\"line\":{\"colorbar\":{\"outlinewidth\":0,\"ticks\":\"\"}}}],\"scatterpolargl\":[{\"type\":\"scatterpolargl\",\"marker\":{\"colorbar\":{\"outlinewidth\":0,\"ticks\":\"\"}}}],\"bar\":[{\"error_x\":{\"color\":\"#2a3f5f\"},\"error_y\":{\"color\":\"#2a3f5f\"},\"marker\":{\"line\":{\"color\":\"#E5ECF6\",\"width\":0.5},\"pattern\":{\"fillmode\":\"overlay\",\"size\":10,\"solidity\":0.2}},\"type\":\"bar\"}],\"scattergeo\":[{\"type\":\"scattergeo\",\"marker\":{\"colorbar\":{\"outlinewidth\":0,\"ticks\":\"\"}}}],\"scatterpolar\":[{\"type\":\"scatterpolar\",\"marker\":{\"colorbar\":{\"outlinewidth\":0,\"ticks\":\"\"}}}],\"histogram\":[{\"marker\":{\"pattern\":{\"fillmode\":\"overlay\",\"size\":10,\"solidity\":0.2}},\"type\":\"histogram\"}],\"scattergl\":[{\"type\":\"scattergl\",\"marker\":{\"colorbar\":{\"outlinewidth\":0,\"ticks\":\"\"}}}],\"scatter3d\":[{\"type\":\"scatter3d\",\"line\":{\"colorbar\":{\"outlinewidth\":0,\"ticks\":\"\"}},\"marker\":{\"colorbar\":{\"outlinewidth\":0,\"ticks\":\"\"}}}],\"scattermapbox\":[{\"type\":\"scattermapbox\",\"marker\":{\"colorbar\":{\"outlinewidth\":0,\"ticks\":\"\"}}}],\"scatterternary\":[{\"type\":\"scatterternary\",\"marker\":{\"colorbar\":{\"outlinewidth\":0,\"ticks\":\"\"}}}],\"scattercarpet\":[{\"type\":\"scattercarpet\",\"marker\":{\"colorbar\":{\"outlinewidth\":0,\"ticks\":\"\"}}}],\"carpet\":[{\"aaxis\":{\"endlinecolor\":\"#2a3f5f\",\"gridcolor\":\"white\",\"linecolor\":\"white\",\"minorgridcolor\":\"white\",\"startlinecolor\":\"#2a3f5f\"},\"baxis\":{\"endlinecolor\":\"#2a3f5f\",\"gridcolor\":\"white\",\"linecolor\":\"white\",\"minorgridcolor\":\"white\",\"startlinecolor\":\"#2a3f5f\"},\"type\":\"carpet\"}],\"table\":[{\"cells\":{\"fill\":{\"color\":\"#EBF0F8\"},\"line\":{\"color\":\"white\"}},\"header\":{\"fill\":{\"color\":\"#C8D4E3\"},\"line\":{\"color\":\"white\"}},\"type\":\"table\"}],\"barpolar\":[{\"marker\":{\"line\":{\"color\":\"#E5ECF6\",\"width\":0.5},\"pattern\":{\"fillmode\":\"overlay\",\"size\":10,\"solidity\":0.2}},\"type\":\"barpolar\"}],\"pie\":[{\"automargin\":true,\"type\":\"pie\"}]},\"layout\":{\"autotypenumbers\":\"strict\",\"colorway\":[\"#636efa\",\"#EF553B\",\"#00cc96\",\"#ab63fa\",\"#FFA15A\",\"#19d3f3\",\"#FF6692\",\"#B6E880\",\"#FF97FF\",\"#FECB52\"],\"font\":{\"color\":\"#2a3f5f\"},\"hovermode\":\"closest\",\"hoverlabel\":{\"align\":\"left\"},\"paper_bgcolor\":\"white\",\"plot_bgcolor\":\"#E5ECF6\",\"polar\":{\"bgcolor\":\"#E5ECF6\",\"angularaxis\":{\"gridcolor\":\"white\",\"linecolor\":\"white\",\"ticks\":\"\"},\"radialaxis\":{\"gridcolor\":\"white\",\"linecolor\":\"white\",\"ticks\":\"\"}},\"ternary\":{\"bgcolor\":\"#E5ECF6\",\"aaxis\":{\"gridcolor\":\"white\",\"linecolor\":\"white\",\"ticks\":\"\"},\"baxis\":{\"gridcolor\":\"white\",\"linecolor\":\"white\",\"ticks\":\"\"},\"caxis\":{\"gridcolor\":\"white\",\"linecolor\":\"white\",\"ticks\":\"\"}},\"coloraxis\":{\"colorbar\":{\"outlinewidth\":0,\"ticks\":\"\"}},\"colorscale\":{\"sequential\":[[0.0,\"#0d0887\"],[0.1111111111111111,\"#46039f\"],[0.2222222222222222,\"#7201a8\"],[0.3333333333333333,\"#9c179e\"],[0.4444444444444444,\"#bd3786\"],[0.5555555555555556,\"#d8576b\"],[0.6666666666666666,\"#ed7953\"],[0.7777777777777778,\"#fb9f3a\"],[0.8888888888888888,\"#fdca26\"],[1.0,\"#f0f921\"]],\"sequentialminus\":[[0.0,\"#0d0887\"],[0.1111111111111111,\"#46039f\"],[0.2222222222222222,\"#7201a8\"],[0.3333333333333333,\"#9c179e\"],[0.4444444444444444,\"#bd3786\"],[0.5555555555555556,\"#d8576b\"],[0.6666666666666666,\"#ed7953\"],[0.7777777777777778,\"#fb9f3a\"],[0.8888888888888888,\"#fdca26\"],[1.0,\"#f0f921\"]],\"diverging\":[[0,\"#8e0152\"],[0.1,\"#c51b7d\"],[0.2,\"#de77ae\"],[0.3,\"#f1b6da\"],[0.4,\"#fde0ef\"],[0.5,\"#f7f7f7\"],[0.6,\"#e6f5d0\"],[0.7,\"#b8e186\"],[0.8,\"#7fbc41\"],[0.9,\"#4d9221\"],[1,\"#276419\"]]},\"xaxis\":{\"gridcolor\":\"white\",\"linecolor\":\"white\",\"ticks\":\"\",\"title\":{\"standoff\":15},\"zerolinecolor\":\"white\",\"automargin\":true,\"zerolinewidth\":2},\"yaxis\":{\"gridcolor\":\"white\",\"linecolor\":\"white\",\"ticks\":\"\",\"title\":{\"standoff\":15},\"zerolinecolor\":\"white\",\"automargin\":true,\"zerolinewidth\":2},\"scene\":{\"xaxis\":{\"backgroundcolor\":\"#E5ECF6\",\"gridcolor\":\"white\",\"linecolor\":\"white\",\"showbackground\":true,\"ticks\":\"\",\"zerolinecolor\":\"white\",\"gridwidth\":2},\"yaxis\":{\"backgroundcolor\":\"#E5ECF6\",\"gridcolor\":\"white\",\"linecolor\":\"white\",\"showbackground\":true,\"ticks\":\"\",\"zerolinecolor\":\"white\",\"gridwidth\":2},\"zaxis\":{\"backgroundcolor\":\"#E5ECF6\",\"gridcolor\":\"white\",\"linecolor\":\"white\",\"showbackground\":true,\"ticks\":\"\",\"zerolinecolor\":\"white\",\"gridwidth\":2}},\"shapedefaults\":{\"line\":{\"color\":\"#2a3f5f\"}},\"annotationdefaults\":{\"arrowcolor\":\"#2a3f5f\",\"arrowhead\":0,\"arrowwidth\":1},\"geo\":{\"bgcolor\":\"white\",\"landcolor\":\"#E5ECF6\",\"subunitcolor\":\"white\",\"showland\":true,\"showlakes\":true,\"lakecolor\":\"white\"},\"title\":{\"x\":0.05},\"mapbox\":{\"style\":\"light\"}}},\"font\":{\"size\":14},\"title\":{\"text\":\"Dendrogram\"}},                        {\"responsive\": true}                    ).then(function(){\n",
       "                            \n",
       "var gd = document.getElementById('f14abec7-b428-4ff9-9df9-ab5a04721935');\n",
       "var x = new MutationObserver(function (mutations, observer) {{\n",
       "        var display = window.getComputedStyle(gd).display;\n",
       "        if (!display || display === 'none') {{\n",
       "            console.log([gd, 'removed!']);\n",
       "            Plotly.purge(gd);\n",
       "            observer.disconnect();\n",
       "        }}\n",
       "}});\n",
       "\n",
       "// Listen for the removal of the full notebook cells\n",
       "var notebookContainer = gd.closest('#notebook-container');\n",
       "if (notebookContainer) {{\n",
       "    x.observe(notebookContainer, {childList: true});\n",
       "}}\n",
       "\n",
       "// Listen for the clearing of the current output cell\n",
       "var outputEl = gd.closest('.output');\n",
       "if (outputEl) {{\n",
       "    x.observe(outputEl, {childList: true});\n",
       "}}\n",
       "\n",
       "                        })                };                });            </script>        </div>"
      ]
     },
     "metadata": {},
     "output_type": "display_data"
    }
   ],
   "source": [
    "import plotly.figure_factory as ff\n",
    "import scipy.cluster.hierarchy as sch\n",
    "import numpy as np\n",
    "\n",
    "# Perform hierarchical clustering and create the linkage matrix\n",
    "linkage_matrix = sch.linkage(X, method='ward')\n",
    "\n",
    "# Create a dendrogram\n",
    "fig = ff.create_dendrogram(X, linkagefun=lambda x: linkage_matrix)\n",
    "\n",
    "# Set the title and axis labels\n",
    "fig.update_layout(\n",
    "    title='Dendrogram',\n",
    "    xaxis_title='Customers',\n",
    "    yaxis_title='Euclidean Distance',\n",
    "    font=dict(size=14)\n",
    ")\n",
    "\n",
    "# Show the figure\n",
    "fig.show()\n"
   ]
  },
  {
   "cell_type": "code",
   "execution_count": 59,
   "id": "70a429c9",
   "metadata": {},
   "outputs": [
    {
     "data": {
      "application/vnd.plotly.v1+json": {
       "config": {
        "plotlyServerURL": "https://plot.ly"
       },
       "data": [
        {
         "marker": {
          "color": "pink",
          "size": 10
         },
         "mode": "markers",
         "name": "Cluster 0",
         "type": "scatter",
         "x": [
          69,
          70,
          71,
          71,
          71,
          72,
          73,
          73,
          74,
          75,
          76,
          77,
          77,
          78,
          78,
          78,
          78,
          78,
          78,
          79,
          81,
          85,
          86,
          87,
          87,
          87,
          88,
          88,
          101,
          103
         ],
         "y": [
          91,
          77,
          95,
          75,
          75,
          71,
          88,
          73,
          72,
          93,
          87,
          97,
          74,
          90,
          88,
          76,
          89,
          78,
          73,
          83,
          93,
          75,
          95,
          63,
          75,
          92,
          86,
          69,
          68,
          69
         ]
        },
        {
         "marker": {
          "color": "yellow",
          "size": 10
         },
         "mode": "markers",
         "name": "Cluster 1",
         "type": "scatter",
         "x": [
          54,
          54,
          54,
          54,
          54,
          54,
          57,
          57,
          58,
          58,
          59,
          59,
          60,
          60,
          60,
          60,
          60,
          60,
          61,
          61,
          62,
          62,
          62,
          62,
          62,
          62,
          63,
          63,
          63,
          63,
          63,
          63,
          64,
          64,
          65,
          65,
          65,
          65,
          67,
          67,
          67,
          67,
          69,
          70,
          71,
          72,
          76,
          77,
          79
         ],
         "y": [
          54,
          53,
          52,
          51,
          55,
          57,
          58,
          55,
          60,
          46,
          55,
          41,
          49,
          40,
          42,
          52,
          47,
          50,
          42,
          49,
          41,
          48,
          59,
          55,
          56,
          42,
          50,
          46,
          43,
          48,
          52,
          54,
          42,
          46,
          48,
          50,
          43,
          59,
          43,
          57,
          56,
          40,
          58,
          29,
          35,
          34,
          40,
          36,
          35
         ]
        },
        {
         "marker": {
          "color": "cyan",
          "size": 10
         },
         "mode": "markers",
         "name": "Cluster 2",
         "type": "scatter",
         "x": [
          93,
          97,
          98,
          99,
          103,
          113,
          120,
          126,
          137
         ],
         "y": [
          90,
          86,
          88,
          97,
          85,
          91,
          79,
          74,
          83
         ]
        },
        {
         "marker": {
          "color": "magenta",
          "size": 10
         },
         "mode": "markers",
         "name": "Cluster 3",
         "type": "scatter",
         "x": [
          15,
          16,
          17,
          18,
          19,
          19,
          20,
          20,
          21,
          23,
          24,
          25,
          28,
          28,
          29,
          30,
          33,
          33,
          34,
          37,
          38
         ],
         "y": [
          81,
          77,
          76,
          94,
          72,
          99,
          77,
          79,
          66,
          98,
          73,
          73,
          82,
          61,
          87,
          73,
          92,
          81,
          73,
          75,
          92
         ]
        },
        {
         "marker": {
          "color": "orange",
          "size": 10
         },
         "mode": "markers",
         "name": "Cluster 4",
         "type": "scatter",
         "x": [
          15,
          17,
          21,
          23,
          24,
          28,
          29,
          37,
          38,
          39,
          39
         ],
         "y": [
          39,
          40,
          35,
          29,
          35,
          32,
          31,
          26,
          35,
          36,
          28
         ]
        },
        {
         "marker": {
          "color": "blue",
          "size": 10
         },
         "mode": "markers",
         "name": "Cluster 5",
         "type": "scatter",
         "x": [
          71,
          71,
          73,
          73,
          74,
          75,
          77,
          78,
          78,
          78,
          78,
          78,
          78,
          81,
          85,
          86,
          87,
          87,
          87,
          88,
          88,
          93,
          98
         ],
         "y": [
          11,
          9,
          5,
          7,
          10,
          5,
          12,
          22,
          17,
          20,
          16,
          1,
          1,
          5,
          26,
          20,
          27,
          13,
          10,
          13,
          15,
          14,
          15
         ]
        },
        {
         "marker": {
          "color": "red",
          "size": 10
         },
         "mode": "markers",
         "name": "Cluster 6",
         "type": "scatter",
         "x": [
          97,
          99,
          101,
          103,
          103,
          113,
          120,
          126,
          137
         ],
         "y": [
          32,
          39,
          24,
          17,
          23,
          8,
          16,
          28,
          18
         ]
        },
        {
         "marker": {
          "color": "white",
          "size": 10
         },
         "mode": "markers",
         "name": "Cluster 7",
         "type": "scatter",
         "x": [
          39,
          39,
          40,
          40,
          40,
          40,
          42,
          42,
          43,
          43,
          43,
          43,
          44,
          44,
          46,
          46,
          46,
          46,
          47,
          47,
          48,
          48,
          48,
          48,
          48,
          48,
          49,
          49,
          50,
          50,
          54,
          54,
          54,
          54,
          54,
          54
         ],
         "y": [
          61,
          65,
          55,
          47,
          42,
          42,
          52,
          60,
          54,
          60,
          45,
          41,
          50,
          46,
          51,
          46,
          56,
          55,
          52,
          59,
          51,
          59,
          50,
          48,
          59,
          47,
          55,
          42,
          49,
          56,
          47,
          48,
          42,
          41,
          44,
          46
         ]
        },
        {
         "marker": {
          "color": "violet",
          "size": 10
         },
         "mode": "markers",
         "name": "Cluster 8",
         "type": "scatter",
         "x": [
          16,
          18,
          19,
          19,
          20,
          20,
          25,
          28,
          30,
          33,
          33,
          34
         ],
         "y": [
          6,
          6,
          3,
          14,
          15,
          13,
          5,
          14,
          4,
          4,
          14,
          17
         ]
        }
       ],
       "layout": {
        "autosize": true,
        "hovermode": "closest",
        "legend": {
         "title": {
          "text": "Clusters"
         }
        },
        "template": {
         "data": {
          "bar": [
           {
            "error_x": {
             "color": "#f2f5fa"
            },
            "error_y": {
             "color": "#f2f5fa"
            },
            "marker": {
             "line": {
              "color": "rgb(17,17,17)",
              "width": 0.5
             },
             "pattern": {
              "fillmode": "overlay",
              "size": 10,
              "solidity": 0.2
             }
            },
            "type": "bar"
           }
          ],
          "barpolar": [
           {
            "marker": {
             "line": {
              "color": "rgb(17,17,17)",
              "width": 0.5
             },
             "pattern": {
              "fillmode": "overlay",
              "size": 10,
              "solidity": 0.2
             }
            },
            "type": "barpolar"
           }
          ],
          "carpet": [
           {
            "aaxis": {
             "endlinecolor": "#A2B1C6",
             "gridcolor": "#506784",
             "linecolor": "#506784",
             "minorgridcolor": "#506784",
             "startlinecolor": "#A2B1C6"
            },
            "baxis": {
             "endlinecolor": "#A2B1C6",
             "gridcolor": "#506784",
             "linecolor": "#506784",
             "minorgridcolor": "#506784",
             "startlinecolor": "#A2B1C6"
            },
            "type": "carpet"
           }
          ],
          "choropleth": [
           {
            "colorbar": {
             "outlinewidth": 0,
             "ticks": ""
            },
            "type": "choropleth"
           }
          ],
          "contour": [
           {
            "colorbar": {
             "outlinewidth": 0,
             "ticks": ""
            },
            "colorscale": [
             [
              0,
              "#0d0887"
             ],
             [
              0.1111111111111111,
              "#46039f"
             ],
             [
              0.2222222222222222,
              "#7201a8"
             ],
             [
              0.3333333333333333,
              "#9c179e"
             ],
             [
              0.4444444444444444,
              "#bd3786"
             ],
             [
              0.5555555555555556,
              "#d8576b"
             ],
             [
              0.6666666666666666,
              "#ed7953"
             ],
             [
              0.7777777777777778,
              "#fb9f3a"
             ],
             [
              0.8888888888888888,
              "#fdca26"
             ],
             [
              1,
              "#f0f921"
             ]
            ],
            "type": "contour"
           }
          ],
          "contourcarpet": [
           {
            "colorbar": {
             "outlinewidth": 0,
             "ticks": ""
            },
            "type": "contourcarpet"
           }
          ],
          "heatmap": [
           {
            "colorbar": {
             "outlinewidth": 0,
             "ticks": ""
            },
            "colorscale": [
             [
              0,
              "#0d0887"
             ],
             [
              0.1111111111111111,
              "#46039f"
             ],
             [
              0.2222222222222222,
              "#7201a8"
             ],
             [
              0.3333333333333333,
              "#9c179e"
             ],
             [
              0.4444444444444444,
              "#bd3786"
             ],
             [
              0.5555555555555556,
              "#d8576b"
             ],
             [
              0.6666666666666666,
              "#ed7953"
             ],
             [
              0.7777777777777778,
              "#fb9f3a"
             ],
             [
              0.8888888888888888,
              "#fdca26"
             ],
             [
              1,
              "#f0f921"
             ]
            ],
            "type": "heatmap"
           }
          ],
          "heatmapgl": [
           {
            "colorbar": {
             "outlinewidth": 0,
             "ticks": ""
            },
            "colorscale": [
             [
              0,
              "#0d0887"
             ],
             [
              0.1111111111111111,
              "#46039f"
             ],
             [
              0.2222222222222222,
              "#7201a8"
             ],
             [
              0.3333333333333333,
              "#9c179e"
             ],
             [
              0.4444444444444444,
              "#bd3786"
             ],
             [
              0.5555555555555556,
              "#d8576b"
             ],
             [
              0.6666666666666666,
              "#ed7953"
             ],
             [
              0.7777777777777778,
              "#fb9f3a"
             ],
             [
              0.8888888888888888,
              "#fdca26"
             ],
             [
              1,
              "#f0f921"
             ]
            ],
            "type": "heatmapgl"
           }
          ],
          "histogram": [
           {
            "marker": {
             "pattern": {
              "fillmode": "overlay",
              "size": 10,
              "solidity": 0.2
             }
            },
            "type": "histogram"
           }
          ],
          "histogram2d": [
           {
            "colorbar": {
             "outlinewidth": 0,
             "ticks": ""
            },
            "colorscale": [
             [
              0,
              "#0d0887"
             ],
             [
              0.1111111111111111,
              "#46039f"
             ],
             [
              0.2222222222222222,
              "#7201a8"
             ],
             [
              0.3333333333333333,
              "#9c179e"
             ],
             [
              0.4444444444444444,
              "#bd3786"
             ],
             [
              0.5555555555555556,
              "#d8576b"
             ],
             [
              0.6666666666666666,
              "#ed7953"
             ],
             [
              0.7777777777777778,
              "#fb9f3a"
             ],
             [
              0.8888888888888888,
              "#fdca26"
             ],
             [
              1,
              "#f0f921"
             ]
            ],
            "type": "histogram2d"
           }
          ],
          "histogram2dcontour": [
           {
            "colorbar": {
             "outlinewidth": 0,
             "ticks": ""
            },
            "colorscale": [
             [
              0,
              "#0d0887"
             ],
             [
              0.1111111111111111,
              "#46039f"
             ],
             [
              0.2222222222222222,
              "#7201a8"
             ],
             [
              0.3333333333333333,
              "#9c179e"
             ],
             [
              0.4444444444444444,
              "#bd3786"
             ],
             [
              0.5555555555555556,
              "#d8576b"
             ],
             [
              0.6666666666666666,
              "#ed7953"
             ],
             [
              0.7777777777777778,
              "#fb9f3a"
             ],
             [
              0.8888888888888888,
              "#fdca26"
             ],
             [
              1,
              "#f0f921"
             ]
            ],
            "type": "histogram2dcontour"
           }
          ],
          "mesh3d": [
           {
            "colorbar": {
             "outlinewidth": 0,
             "ticks": ""
            },
            "type": "mesh3d"
           }
          ],
          "parcoords": [
           {
            "line": {
             "colorbar": {
              "outlinewidth": 0,
              "ticks": ""
             }
            },
            "type": "parcoords"
           }
          ],
          "pie": [
           {
            "automargin": true,
            "type": "pie"
           }
          ],
          "scatter": [
           {
            "marker": {
             "line": {
              "color": "#283442"
             }
            },
            "type": "scatter"
           }
          ],
          "scatter3d": [
           {
            "line": {
             "colorbar": {
              "outlinewidth": 0,
              "ticks": ""
             }
            },
            "marker": {
             "colorbar": {
              "outlinewidth": 0,
              "ticks": ""
             }
            },
            "type": "scatter3d"
           }
          ],
          "scattercarpet": [
           {
            "marker": {
             "colorbar": {
              "outlinewidth": 0,
              "ticks": ""
             }
            },
            "type": "scattercarpet"
           }
          ],
          "scattergeo": [
           {
            "marker": {
             "colorbar": {
              "outlinewidth": 0,
              "ticks": ""
             }
            },
            "type": "scattergeo"
           }
          ],
          "scattergl": [
           {
            "marker": {
             "line": {
              "color": "#283442"
             }
            },
            "type": "scattergl"
           }
          ],
          "scattermapbox": [
           {
            "marker": {
             "colorbar": {
              "outlinewidth": 0,
              "ticks": ""
             }
            },
            "type": "scattermapbox"
           }
          ],
          "scatterpolar": [
           {
            "marker": {
             "colorbar": {
              "outlinewidth": 0,
              "ticks": ""
             }
            },
            "type": "scatterpolar"
           }
          ],
          "scatterpolargl": [
           {
            "marker": {
             "colorbar": {
              "outlinewidth": 0,
              "ticks": ""
             }
            },
            "type": "scatterpolargl"
           }
          ],
          "scatterternary": [
           {
            "marker": {
             "colorbar": {
              "outlinewidth": 0,
              "ticks": ""
             }
            },
            "type": "scatterternary"
           }
          ],
          "surface": [
           {
            "colorbar": {
             "outlinewidth": 0,
             "ticks": ""
            },
            "colorscale": [
             [
              0,
              "#0d0887"
             ],
             [
              0.1111111111111111,
              "#46039f"
             ],
             [
              0.2222222222222222,
              "#7201a8"
             ],
             [
              0.3333333333333333,
              "#9c179e"
             ],
             [
              0.4444444444444444,
              "#bd3786"
             ],
             [
              0.5555555555555556,
              "#d8576b"
             ],
             [
              0.6666666666666666,
              "#ed7953"
             ],
             [
              0.7777777777777778,
              "#fb9f3a"
             ],
             [
              0.8888888888888888,
              "#fdca26"
             ],
             [
              1,
              "#f0f921"
             ]
            ],
            "type": "surface"
           }
          ],
          "table": [
           {
            "cells": {
             "fill": {
              "color": "#506784"
             },
             "line": {
              "color": "rgb(17,17,17)"
             }
            },
            "header": {
             "fill": {
              "color": "#2a3f5f"
             },
             "line": {
              "color": "rgb(17,17,17)"
             }
            },
            "type": "table"
           }
          ]
         },
         "layout": {
          "annotationdefaults": {
           "arrowcolor": "#f2f5fa",
           "arrowhead": 0,
           "arrowwidth": 1
          },
          "autotypenumbers": "strict",
          "coloraxis": {
           "colorbar": {
            "outlinewidth": 0,
            "ticks": ""
           }
          },
          "colorscale": {
           "diverging": [
            [
             0,
             "#8e0152"
            ],
            [
             0.1,
             "#c51b7d"
            ],
            [
             0.2,
             "#de77ae"
            ],
            [
             0.3,
             "#f1b6da"
            ],
            [
             0.4,
             "#fde0ef"
            ],
            [
             0.5,
             "#f7f7f7"
            ],
            [
             0.6,
             "#e6f5d0"
            ],
            [
             0.7,
             "#b8e186"
            ],
            [
             0.8,
             "#7fbc41"
            ],
            [
             0.9,
             "#4d9221"
            ],
            [
             1,
             "#276419"
            ]
           ],
           "sequential": [
            [
             0,
             "#0d0887"
            ],
            [
             0.1111111111111111,
             "#46039f"
            ],
            [
             0.2222222222222222,
             "#7201a8"
            ],
            [
             0.3333333333333333,
             "#9c179e"
            ],
            [
             0.4444444444444444,
             "#bd3786"
            ],
            [
             0.5555555555555556,
             "#d8576b"
            ],
            [
             0.6666666666666666,
             "#ed7953"
            ],
            [
             0.7777777777777778,
             "#fb9f3a"
            ],
            [
             0.8888888888888888,
             "#fdca26"
            ],
            [
             1,
             "#f0f921"
            ]
           ],
           "sequentialminus": [
            [
             0,
             "#0d0887"
            ],
            [
             0.1111111111111111,
             "#46039f"
            ],
            [
             0.2222222222222222,
             "#7201a8"
            ],
            [
             0.3333333333333333,
             "#9c179e"
            ],
            [
             0.4444444444444444,
             "#bd3786"
            ],
            [
             0.5555555555555556,
             "#d8576b"
            ],
            [
             0.6666666666666666,
             "#ed7953"
            ],
            [
             0.7777777777777778,
             "#fb9f3a"
            ],
            [
             0.8888888888888888,
             "#fdca26"
            ],
            [
             1,
             "#f0f921"
            ]
           ]
          },
          "colorway": [
           "#636efa",
           "#EF553B",
           "#00cc96",
           "#ab63fa",
           "#FFA15A",
           "#19d3f3",
           "#FF6692",
           "#B6E880",
           "#FF97FF",
           "#FECB52"
          ],
          "font": {
           "color": "#f2f5fa"
          },
          "geo": {
           "bgcolor": "rgb(17,17,17)",
           "lakecolor": "rgb(17,17,17)",
           "landcolor": "rgb(17,17,17)",
           "showlakes": true,
           "showland": true,
           "subunitcolor": "#506784"
          },
          "hoverlabel": {
           "align": "left"
          },
          "hovermode": "closest",
          "mapbox": {
           "style": "dark"
          },
          "paper_bgcolor": "rgb(17,17,17)",
          "plot_bgcolor": "rgb(17,17,17)",
          "polar": {
           "angularaxis": {
            "gridcolor": "#506784",
            "linecolor": "#506784",
            "ticks": ""
           },
           "bgcolor": "rgb(17,17,17)",
           "radialaxis": {
            "gridcolor": "#506784",
            "linecolor": "#506784",
            "ticks": ""
           }
          },
          "scene": {
           "xaxis": {
            "backgroundcolor": "rgb(17,17,17)",
            "gridcolor": "#506784",
            "gridwidth": 2,
            "linecolor": "#506784",
            "showbackground": true,
            "ticks": "",
            "zerolinecolor": "#C8D4E3"
           },
           "yaxis": {
            "backgroundcolor": "rgb(17,17,17)",
            "gridcolor": "#506784",
            "gridwidth": 2,
            "linecolor": "#506784",
            "showbackground": true,
            "ticks": "",
            "zerolinecolor": "#C8D4E3"
           },
           "zaxis": {
            "backgroundcolor": "rgb(17,17,17)",
            "gridcolor": "#506784",
            "gridwidth": 2,
            "linecolor": "#506784",
            "showbackground": true,
            "ticks": "",
            "zerolinecolor": "#C8D4E3"
           }
          },
          "shapedefaults": {
           "line": {
            "color": "#f2f5fa"
           }
          },
          "sliderdefaults": {
           "bgcolor": "#C8D4E3",
           "bordercolor": "rgb(17,17,17)",
           "borderwidth": 1,
           "tickwidth": 0
          },
          "ternary": {
           "aaxis": {
            "gridcolor": "#506784",
            "linecolor": "#506784",
            "ticks": ""
           },
           "baxis": {
            "gridcolor": "#506784",
            "linecolor": "#506784",
            "ticks": ""
           },
           "bgcolor": "rgb(17,17,17)",
           "caxis": {
            "gridcolor": "#506784",
            "linecolor": "#506784",
            "ticks": ""
           }
          },
          "title": {
           "x": 0.05
          },
          "updatemenudefaults": {
           "bgcolor": "#506784",
           "borderwidth": 0
          },
          "xaxis": {
           "automargin": true,
           "gridcolor": "#283442",
           "linecolor": "#506784",
           "ticks": "",
           "title": {
            "standoff": 15
           },
           "zerolinecolor": "#283442",
           "zerolinewidth": 2
          },
          "yaxis": {
           "automargin": true,
           "gridcolor": "#283442",
           "linecolor": "#506784",
           "ticks": "",
           "title": {
            "standoff": 15
           },
           "zerolinecolor": "#283442",
           "zerolinewidth": 2
          }
         }
        },
        "title": {
         "font": {
          "size": 20
         },
         "text": "Hierarchical Clustering"
        },
        "xaxis": {
         "autorange": true,
         "range": [
          7.148973904231061,
          144.85102609576893
         ],
         "title": {
          "text": "Annual Income"
         },
         "type": "linear"
        },
        "yaxis": {
         "autorange": true,
         "range": [
          -8.996655518394649,
          108.99665551839465
         ],
         "title": {
          "text": "Spending Score"
         },
         "type": "linear"
        }
       }
      },
      "image/png": "[encoded data removed]",
      "text/html": [
       "<div>                            <div id=\"91149f94-b7b2-402a-9ac0-6344ddea9a4d\" class=\"plotly-graph-div\" style=\"height:525px; width:100%;\"></div>            <script type=\"text/javascript\">                require([\"plotly\"], function(Plotly) {                    window.PLOTLYENV=window.PLOTLYENV || {};                                    if (document.getElementById(\"91149f94-b7b2-402a-9ac0-6344ddea9a4d\")) {                    Plotly.newPlot(                        \"91149f94-b7b2-402a-9ac0-6344ddea9a4d\",                        [{\"marker\":{\"color\":\"pink\",\"size\":10},\"mode\":\"markers\",\"name\":\"Cluster 0\",\"x\":[69,70,71,71,71,72,73,73,74,75,76,77,77,78,78,78,78,78,78,79,81,85,86,87,87,87,88,88,101,103],\"y\":[91,77,95,75,75,71,88,73,72,93,87,97,74,90,88,76,89,78,73,83,93,75,95,63,75,92,86,69,68,69],\"type\":\"scatter\"},{\"marker\":{\"color\":\"yellow\",\"size\":10},\"mode\":\"markers\",\"name\":\"Cluster 1\",\"x\":[54,54,54,54,54,54,57,57,58,58,59,59,60,60,60,60,60,60,61,61,62,62,62,62,62,62,63,63,63,63,63,63,64,64,65,65,65,65,67,67,67,67,69,70,71,72,76,77,79],\"y\":[54,53,52,51,55,57,58,55,60,46,55,41,49,40,42,52,47,50,42,49,41,48,59,55,56,42,50,46,43,48,52,54,42,46,48,50,43,59,43,57,56,40,58,29,35,34,40,36,35],\"type\":\"scatter\"},{\"marker\":{\"color\":\"cyan\",\"size\":10},\"mode\":\"markers\",\"name\":\"Cluster 2\",\"x\":[93,97,98,99,103,113,120,126,137],\"y\":[90,86,88,97,85,91,79,74,83],\"type\":\"scatter\"},{\"marker\":{\"color\":\"magenta\",\"size\":10},\"mode\":\"markers\",\"name\":\"Cluster 3\",\"x\":[15,16,17,18,19,19,20,20,21,23,24,25,28,28,29,30,33,33,34,37,38],\"y\":[81,77,76,94,72,99,77,79,66,98,73,73,82,61,87,73,92,81,73,75,92],\"type\":\"scatter\"},{\"marker\":{\"color\":\"orange\",\"size\":10},\"mode\":\"markers\",\"name\":\"Cluster 4\",\"x\":[15,17,21,23,24,28,29,37,38,39,39],\"y\":[39,40,35,29,35,32,31,26,35,36,28],\"type\":\"scatter\"},{\"marker\":{\"color\":\"blue\",\"size\":10},\"mode\":\"markers\",\"name\":\"Cluster 5\",\"x\":[71,71,73,73,74,75,77,78,78,78,78,78,78,81,85,86,87,87,87,88,88,93,98],\"y\":[11,9,5,7,10,5,12,22,17,20,16,1,1,5,26,20,27,13,10,13,15,14,15],\"type\":\"scatter\"},{\"marker\":{\"color\":\"red\",\"size\":10},\"mode\":\"markers\",\"name\":\"Cluster 6\",\"x\":[97,99,101,103,103,113,120,126,137],\"y\":[32,39,24,17,23,8,16,28,18],\"type\":\"scatter\"},{\"marker\":{\"color\":\"white\",\"size\":10},\"mode\":\"markers\",\"name\":\"Cluster 7\",\"x\":[39,39,40,40,40,40,42,42,43,43,43,43,44,44,46,46,46,46,47,47,48,48,48,48,48,48,49,49,50,50,54,54,54,54,54,54],\"y\":[61,65,55,47,42,42,52,60,54,60,45,41,50,46,51,46,56,55,52,59,51,59,50,48,59,47,55,42,49,56,47,48,42,41,44,46],\"type\":\"scatter\"},{\"marker\":{\"color\":\"violet\",\"size\":10},\"mode\":\"markers\",\"name\":\"Cluster 8\",\"x\":[16,18,19,19,20,20,25,28,30,33,33,34],\"y\":[6,6,3,14,15,13,5,14,4,4,14,17],\"type\":\"scatter\"}],                        {\"template\":{\"data\":{\"barpolar\":[{\"marker\":{\"line\":{\"color\":\"rgb(17,17,17)\",\"width\":0.5},\"pattern\":{\"fillmode\":\"overlay\",\"size\":10,\"solidity\":0.2}},\"type\":\"barpolar\"}],\"bar\":[{\"error_x\":{\"color\":\"#f2f5fa\"},\"error_y\":{\"color\":\"#f2f5fa\"},\"marker\":{\"line\":{\"color\":\"rgb(17,17,17)\",\"width\":0.5},\"pattern\":{\"fillmode\":\"overlay\",\"size\":10,\"solidity\":0.2}},\"type\":\"bar\"}],\"carpet\":[{\"aaxis\":{\"endlinecolor\":\"#A2B1C6\",\"gridcolor\":\"#506784\",\"linecolor\":\"#506784\",\"minorgridcolor\":\"#506784\",\"startlinecolor\":\"#A2B1C6\"},\"baxis\":{\"endlinecolor\":\"#A2B1C6\",\"gridcolor\":\"#506784\",\"linecolor\":\"#506784\",\"minorgridcolor\":\"#506784\",\"startlinecolor\":\"#A2B1C6\"},\"type\":\"carpet\"}],\"choropleth\":[{\"colorbar\":{\"outlinewidth\":0,\"ticks\":\"\"},\"type\":\"choropleth\"}],\"contourcarpet\":[{\"colorbar\":{\"outlinewidth\":0,\"ticks\":\"\"},\"type\":\"contourcarpet\"}],\"contour\":[{\"colorbar\":{\"outlinewidth\":0,\"ticks\":\"\"},\"colorscale\":[[0.0,\"#0d0887\"],[0.1111111111111111,\"#46039f\"],[0.2222222222222222,\"#7201a8\"],[0.3333333333333333,\"#9c179e\"],[0.4444444444444444,\"#bd3786\"],[0.5555555555555556,\"#d8576b\"],[0.6666666666666666,\"#ed7953\"],[0.7777777777777778,\"#fb9f3a\"],[0.8888888888888888,\"#fdca26\"],[1.0,\"#f0f921\"]],\"type\":\"contour\"}],\"heatmapgl\":[{\"colorbar\":{\"outlinewidth\":0,\"ticks\":\"\"},\"colorscale\":[[0.0,\"#0d0887\"],[0.1111111111111111,\"#46039f\"],[0.2222222222222222,\"#7201a8\"],[0.3333333333333333,\"#9c179e\"],[0.4444444444444444,\"#bd3786\"],[0.5555555555555556,\"#d8576b\"],[0.6666666666666666,\"#ed7953\"],[0.7777777777777778,\"#fb9f3a\"],[0.8888888888888888,\"#fdca26\"],[1.0,\"#f0f921\"]],\"type\":\"heatmapgl\"}],\"heatmap\":[{\"colorbar\":{\"outlinewidth\":0,\"ticks\":\"\"},\"colorscale\":[[0.0,\"#0d0887\"],[0.1111111111111111,\"#46039f\"],[0.2222222222222222,\"#7201a8\"],[0.3333333333333333,\"#9c179e\"],[0.4444444444444444,\"#bd3786\"],[0.5555555555555556,\"#d8576b\"],[0.6666666666666666,\"#ed7953\"],[0.7777777777777778,\"#fb9f3a\"],[0.8888888888888888,\"#fdca26\"],[1.0,\"#f0f921\"]],\"type\":\"heatmap\"}],\"histogram2dcontour\":[{\"colorbar\":{\"outlinewidth\":0,\"ticks\":\"\"},\"colorscale\":[[0.0,\"#0d0887\"],[0.1111111111111111,\"#46039f\"],[0.2222222222222222,\"#7201a8\"],[0.3333333333333333,\"#9c179e\"],[0.4444444444444444,\"#bd3786\"],[0.5555555555555556,\"#d8576b\"],[0.6666666666666666,\"#ed7953\"],[0.7777777777777778,\"#fb9f3a\"],[0.8888888888888888,\"#fdca26\"],[1.0,\"#f0f921\"]],\"type\":\"histogram2dcontour\"}],\"histogram2d\":[{\"colorbar\":{\"outlinewidth\":0,\"ticks\":\"\"},\"colorscale\":[[0.0,\"#0d0887\"],[0.1111111111111111,\"#46039f\"],[0.2222222222222222,\"#7201a8\"],[0.3333333333333333,\"#9c179e\"],[0.4444444444444444,\"#bd3786\"],[0.5555555555555556,\"#d8576b\"],[0.6666666666666666,\"#ed7953\"],[0.7777777777777778,\"#fb9f3a\"],[0.8888888888888888,\"#fdca26\"],[1.0,\"#f0f921\"]],\"type\":\"histogram2d\"}],\"histogram\":[{\"marker\":{\"pattern\":{\"fillmode\":\"overlay\",\"size\":10,\"solidity\":0.2}},\"type\":\"histogram\"}],\"mesh3d\":[{\"colorbar\":{\"outlinewidth\":0,\"ticks\":\"\"},\"type\":\"mesh3d\"}],\"parcoords\":[{\"line\":{\"colorbar\":{\"outlinewidth\":0,\"ticks\":\"\"}},\"type\":\"parcoords\"}],\"pie\":[{\"automargin\":true,\"type\":\"pie\"}],\"scatter3d\":[{\"line\":{\"colorbar\":{\"outlinewidth\":0,\"ticks\":\"\"}},\"marker\":{\"colorbar\":{\"outlinewidth\":0,\"ticks\":\"\"}},\"type\":\"scatter3d\"}],\"scattercarpet\":[{\"marker\":{\"colorbar\":{\"outlinewidth\":0,\"ticks\":\"\"}},\"type\":\"scattercarpet\"}],\"scattergeo\":[{\"marker\":{\"colorbar\":{\"outlinewidth\":0,\"ticks\":\"\"}},\"type\":\"scattergeo\"}],\"scattergl\":[{\"marker\":{\"line\":{\"color\":\"#283442\"}},\"type\":\"scattergl\"}],\"scattermapbox\":[{\"marker\":{\"colorbar\":{\"outlinewidth\":0,\"ticks\":\"\"}},\"type\":\"scattermapbox\"}],\"scatterpolargl\":[{\"marker\":{\"colorbar\":{\"outlinewidth\":0,\"ticks\":\"\"}},\"type\":\"scatterpolargl\"}],\"scatterpolar\":[{\"marker\":{\"colorbar\":{\"outlinewidth\":0,\"ticks\":\"\"}},\"type\":\"scatterpolar\"}],\"scatter\":[{\"marker\":{\"line\":{\"color\":\"#283442\"}},\"type\":\"scatter\"}],\"scatterternary\":[{\"marker\":{\"colorbar\":{\"outlinewidth\":0,\"ticks\":\"\"}},\"type\":\"scatterternary\"}],\"surface\":[{\"colorbar\":{\"outlinewidth\":0,\"ticks\":\"\"},\"colorscale\":[[0.0,\"#0d0887\"],[0.1111111111111111,\"#46039f\"],[0.2222222222222222,\"#7201a8\"],[0.3333333333333333,\"#9c179e\"],[0.4444444444444444,\"#bd3786\"],[0.5555555555555556,\"#d8576b\"],[0.6666666666666666,\"#ed7953\"],[0.7777777777777778,\"#fb9f3a\"],[0.8888888888888888,\"#fdca26\"],[1.0,\"#f0f921\"]],\"type\":\"surface\"}],\"table\":[{\"cells\":{\"fill\":{\"color\":\"#506784\"},\"line\":{\"color\":\"rgb(17,17,17)\"}},\"header\":{\"fill\":{\"color\":\"#2a3f5f\"},\"line\":{\"color\":\"rgb(17,17,17)\"}},\"type\":\"table\"}]},\"layout\":{\"annotationdefaults\":{\"arrowcolor\":\"#f2f5fa\",\"arrowhead\":0,\"arrowwidth\":1},\"autotypenumbers\":\"strict\",\"coloraxis\":{\"colorbar\":{\"outlinewidth\":0,\"ticks\":\"\"}},\"colorscale\":{\"diverging\":[[0,\"#8e0152\"],[0.1,\"#c51b7d\"],[0.2,\"#de77ae\"],[0.3,\"#f1b6da\"],[0.4,\"#fde0ef\"],[0.5,\"#f7f7f7\"],[0.6,\"#e6f5d0\"],[0.7,\"#b8e186\"],[0.8,\"#7fbc41\"],[0.9,\"#4d9221\"],[1,\"#276419\"]],\"sequential\":[[0.0,\"#0d0887\"],[0.1111111111111111,\"#46039f\"],[0.2222222222222222,\"#7201a8\"],[0.3333333333333333,\"#9c179e\"],[0.4444444444444444,\"#bd3786\"],[0.5555555555555556,\"#d8576b\"],[0.6666666666666666,\"#ed7953\"],[0.7777777777777778,\"#fb9f3a\"],[0.8888888888888888,\"#fdca26\"],[1.0,\"#f0f921\"]],\"sequentialminus\":[[0.0,\"#0d0887\"],[0.1111111111111111,\"#46039f\"],[0.2222222222222222,\"#7201a8\"],[0.3333333333333333,\"#9c179e\"],[0.4444444444444444,\"#bd3786\"],[0.5555555555555556,\"#d8576b\"],[0.6666666666666666,\"#ed7953\"],[0.7777777777777778,\"#fb9f3a\"],[0.8888888888888888,\"#fdca26\"],[1.0,\"#f0f921\"]]},\"colorway\":[\"#636efa\",\"#EF553B\",\"#00cc96\",\"#ab63fa\",\"#FFA15A\",\"#19d3f3\",\"#FF6692\",\"#B6E880\",\"#FF97FF\",\"#FECB52\"],\"font\":{\"color\":\"#f2f5fa\"},\"geo\":{\"bgcolor\":\"rgb(17,17,17)\",\"lakecolor\":\"rgb(17,17,17)\",\"landcolor\":\"rgb(17,17,17)\",\"showlakes\":true,\"showland\":true,\"subunitcolor\":\"#506784\"},\"hoverlabel\":{\"align\":\"left\"},\"hovermode\":\"closest\",\"mapbox\":{\"style\":\"dark\"},\"paper_bgcolor\":\"rgb(17,17,17)\",\"plot_bgcolor\":\"rgb(17,17,17)\",\"polar\":{\"angularaxis\":{\"gridcolor\":\"#506784\",\"linecolor\":\"#506784\",\"ticks\":\"\"},\"bgcolor\":\"rgb(17,17,17)\",\"radialaxis\":{\"gridcolor\":\"#506784\",\"linecolor\":\"#506784\",\"ticks\":\"\"}},\"scene\":{\"xaxis\":{\"backgroundcolor\":\"rgb(17,17,17)\",\"gridcolor\":\"#506784\",\"gridwidth\":2,\"linecolor\":\"#506784\",\"showbackground\":true,\"ticks\":\"\",\"zerolinecolor\":\"#C8D4E3\"},\"yaxis\":{\"backgroundcolor\":\"rgb(17,17,17)\",\"gridcolor\":\"#506784\",\"gridwidth\":2,\"linecolor\":\"#506784\",\"showbackground\":true,\"ticks\":\"\",\"zerolinecolor\":\"#C8D4E3\"},\"zaxis\":{\"backgroundcolor\":\"rgb(17,17,17)\",\"gridcolor\":\"#506784\",\"gridwidth\":2,\"linecolor\":\"#506784\",\"showbackground\":true,\"ticks\":\"\",\"zerolinecolor\":\"#C8D4E3\"}},\"shapedefaults\":{\"line\":{\"color\":\"#f2f5fa\"}},\"sliderdefaults\":{\"bgcolor\":\"#C8D4E3\",\"bordercolor\":\"rgb(17,17,17)\",\"borderwidth\":1,\"tickwidth\":0},\"ternary\":{\"aaxis\":{\"gridcolor\":\"#506784\",\"linecolor\":\"#506784\",\"ticks\":\"\"},\"baxis\":{\"gridcolor\":\"#506784\",\"linecolor\":\"#506784\",\"ticks\":\"\"},\"bgcolor\":\"rgb(17,17,17)\",\"caxis\":{\"gridcolor\":\"#506784\",\"linecolor\":\"#506784\",\"ticks\":\"\"}},\"title\":{\"x\":0.05},\"updatemenudefaults\":{\"bgcolor\":\"#506784\",\"borderwidth\":0},\"xaxis\":{\"automargin\":true,\"gridcolor\":\"#283442\",\"linecolor\":\"#506784\",\"ticks\":\"\",\"title\":{\"standoff\":15},\"zerolinecolor\":\"#283442\",\"zerolinewidth\":2},\"yaxis\":{\"automargin\":true,\"gridcolor\":\"#283442\",\"linecolor\":\"#506784\",\"ticks\":\"\",\"title\":{\"standoff\":15},\"zerolinecolor\":\"#283442\",\"zerolinewidth\":2}}},\"title\":{\"text\":\"Hierarchical Clustering\",\"font\":{\"size\":20}},\"legend\":{\"title\":{\"text\":\"Clusters\"}},\"xaxis\":{\"title\":{\"text\":\"Annual Income\"}},\"yaxis\":{\"title\":{\"text\":\"Spending Score\"}},\"hovermode\":\"closest\"},                        {\"responsive\": true}                    ).then(function(){\n",
       "                            \n",
       "var gd = document.getElementById('91149f94-b7b2-402a-9ac0-6344ddea9a4d');\n",
       "var x = new MutationObserver(function (mutations, observer) {{\n",
       "        var display = window.getComputedStyle(gd).display;\n",
       "        if (!display || display === 'none') {{\n",
       "            console.log([gd, 'removed!']);\n",
       "            Plotly.purge(gd);\n",
       "            observer.disconnect();\n",
       "        }}\n",
       "}});\n",
       "\n",
       "// Listen for the removal of the full notebook cells\n",
       "var notebookContainer = gd.closest('#notebook-container');\n",
       "if (notebookContainer) {{\n",
       "    x.observe(notebookContainer, {childList: true});\n",
       "}}\n",
       "\n",
       "// Listen for the clearing of the current output cell\n",
       "var outputEl = gd.closest('.output');\n",
       "if (outputEl) {{\n",
       "    x.observe(outputEl, {childList: true});\n",
       "}}\n",
       "\n",
       "                        })                };                });            </script>        </div>"
      ]
     },
     "metadata": {},
     "output_type": "display_data"
    }
   ],
   "source": [
    "import plotly.express as px\n",
    "import plotly.graph_objects as go\n",
    "from sklearn.cluster import AgglomerativeClustering\n",
    "\n",
    "# Perform Agglomerative Clustering\n",
    "hc = AgglomerativeClustering(n_clusters=9, linkage='ward')\n",
    "y_hc = hc.fit_predict(X)\n",
    "\n",
    "# Create a scatter plot using Plotly\n",
    "fig = go.Figure()\n",
    "\n",
    "# Define colors for each cluster\n",
    "colors = ['pink', 'yellow', 'cyan', 'magenta', 'orange', 'blue', 'red', 'white', 'violet']\n",
    "\n",
    "# Loop through each cluster to add scatter points\n",
    "for i in range(9):\n",
    "    fig.add_trace(go.Scatter(\n",
    "        x=X[y_hc == i, 0],  # X coordinates for cluster i\n",
    "        y=X[y_hc == i, 1],  # Y coordinates for cluster i\n",
    "        mode='markers',\n",
    "        marker=dict(size=10, color=colors[i]),  # Marker size and color\n",
    "        name=f'Cluster {i}'  # Legend label for the cluster\n",
    "    ))\n",
    "\n",
    "# Update layout for dark theme\n",
    "fig.update_layout(\n",
    "    title='Hierarchical Clustering',\n",
    "    title_font=dict(size=20),\n",
    "    xaxis_title='Annual Income',\n",
    "    yaxis_title='Spending Score',\n",
    "    legend_title_text='Clusters',\n",
    "    template='plotly_dark',  # Set dark theme\n",
    "    hovermode='closest'  # Enable hover for better interactivity\n",
    ")\n",
    "\n",
    "# Show the figure\n",
    "fig.show()"
   ]
  },
  {
   "cell_type": "markdown",
   "id": "32874b9d",
   "metadata": {},
   "source": [
    "##### <center> Made with ❤️ by Zahid Salim Shaikh</center>"
   ]
  },
  {
   "cell_type": "code",
   "execution_count": null,
   "id": "c79c293d",
   "metadata": {},
   "outputs": [],
   "source": []
  }
 ],
 "metadata": {
  "kernelspec": {
   "display_name": "Python 3 (ipykernel)",
   "language": "python",
   "name": "python3"
  },
  "language_info": {
   "codemirror_mode": {
    "name": "ipython",
    "version": 3
   },
   "file_extension": ".py",
   "mimetype": "text/x-python",
   "name": "python",
   "nbconvert_exporter": "python",
   "pygments_lexer": "ipython3",
   "version": "3.12.4"
  }
 },
 "nbformat": 4,
 "nbformat_minor": 5
}
