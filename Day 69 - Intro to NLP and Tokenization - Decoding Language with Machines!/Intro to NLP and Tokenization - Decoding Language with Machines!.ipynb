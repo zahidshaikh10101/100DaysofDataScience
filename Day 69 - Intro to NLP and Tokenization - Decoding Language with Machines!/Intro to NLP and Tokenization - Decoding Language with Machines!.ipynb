{
 "cells": [
  {
   "cell_type": "markdown",
   "id": "99ff141f-b979-43e7-89c8-039c04d4eec8",
   "metadata": {},
   "source": [
    "# Sentence Tokanization"
   ]
  },
  {
   "cell_type": "code",
   "execution_count": 54,
   "id": "3d7e0deb-afe9-4097-83f8-2e73ec9240d9",
   "metadata": {},
   "outputs": [
    {
     "name": "stdout",
     "output_type": "stream",
     "text": [
      "Tokenized sentences using NLTK:\n",
      "\n",
      "Hello there!\n",
      "How are you today?\n",
      "This is an example sentence.\n",
      "Let's learn sentence tokenization.\n"
     ]
    }
   ],
   "source": [
    "from nltk.tokenize import sent_tokenize\n",
    "\n",
    "# Example text\n",
    "text = \"\"\"\n",
    "Hello there! How are you today? This is an example sentence. Let's learn sentence tokenization.\n",
    "\"\"\"\n",
    "\n",
    "# Tokenize the text into sentences\n",
    "sentences = sent_tokenize(text)\n",
    "\n",
    "# Display the sentences\n",
    "print(\"Tokenized sentences using NLTK:\")\n",
    "for sentence in sentences:\n",
    "    print(sentence)"
   ]
  },
  {
   "cell_type": "markdown",
   "id": "d118a4e0-8984-40a7-8d17-bb8df46737e7",
   "metadata": {},
   "source": [
    "# Word Tokanization"
   ]
  },
  {
   "cell_type": "code",
   "execution_count": 57,
   "id": "d311d817-fc3f-40c0-9d67-d6dedef14300",
   "metadata": {},
   "outputs": [
    {
     "name": "stdout",
     "output_type": "stream",
     "text": [
      "Tokenized words using NLTK:\n",
      "['Hello', 'there', '!', 'How', 'are', 'you', 'today', '?']\n"
     ]
    }
   ],
   "source": [
    "from nltk.tokenize import word_tokenize\n",
    "\n",
    "# Example text\n",
    "text = \"\"\"\n",
    "Hello there! How are you today?\n",
    "\"\"\"\n",
    "\n",
    "# Tokenize the text into words\n",
    "words = word_tokenize(text)\n",
    "\n",
    "# Display the sentences\n",
    "print(\"Tokenized words using NLTK:\")\n",
    "print(words)"
   ]
  },
  {
   "cell_type": "markdown",
   "id": "c484b55d-f578-402b-a651-b522a9800d89",
   "metadata": {},
   "source": [
    "# Word Tokenization using WordPunctTokenizer"
   ]
  },
  {
   "cell_type": "code",
   "execution_count": 60,
   "id": "814a86b9-765b-4f62-9fc2-33bbe9fb6b1d",
   "metadata": {},
   "outputs": [
    {
     "name": "stdout",
     "output_type": "stream",
     "text": [
      "Tokenized words-punctuation using NLTK:\n",
      "['Hello', 'there', '!', 'How', 'are', 'you', 'today', '?']\n"
     ]
    }
   ],
   "source": [
    "from nltk.tokenize import WordPunctTokenizer\n",
    "\n",
    "# Example text\n",
    "text = \"\"\"\n",
    "Hello there! How are you today?\n",
    "\"\"\"\n",
    "\n",
    "# Tokenize the text into words\n",
    "tokenizer = WordPunctTokenizer()\n",
    "\n",
    "word_punct = tokenizer.tokenize(text)\n",
    "\n",
    "# Display the sentences\n",
    "print(\"Tokenized words-punctuation using NLTK:\")\n",
    "print(word_punct)"
   ]
  },
  {
   "cell_type": "markdown",
   "id": "b851f272-835d-4ff2-9ca3-0e721229d6ce",
   "metadata": {},
   "source": [
    "# Word Tokenization using Regular Expression"
   ]
  },
  {
   "cell_type": "code",
   "execution_count": 63,
   "id": "a3cd0aeb-d10e-4b2d-9db0-b0eaf9589f48",
   "metadata": {},
   "outputs": [
    {
     "name": "stdout",
     "output_type": "stream",
     "text": [
      "Tokenized words-punctuation using regex:\n",
      "['Hello', 'there', 'How', 'are', 'you', 'today']\n"
     ]
    }
   ],
   "source": [
    "from nltk.tokenize import RegexpTokenizer\n",
    "\n",
    "# Example text\n",
    "text = \"\"\"\n",
    "Hello there! How are you today?\n",
    "\"\"\"\n",
    "\n",
    "tokenizer = RegexpTokenizer(r'\\w+')\n",
    "\n",
    "tokenization_regex = tokenizer.tokenize(text)\n",
    "\n",
    "# Display the sentences\n",
    "print(\"Tokenized words-punctuation using regex:\")\n",
    "print(tokenization_regex)"
   ]
  },
  {
   "cell_type": "markdown",
   "id": "3ecccb06-9525-4e04-8de3-96b3b4a72b73",
   "metadata": {},
   "source": [
    "# Character Tokenization"
   ]
  },
  {
   "cell_type": "code",
   "execution_count": 66,
   "id": "10d3dbf4-15e7-442d-80e6-6500b815cc39",
   "metadata": {},
   "outputs": [
    {
     "name": "stdout",
     "output_type": "stream",
     "text": [
      "Character tokens:\n",
      "['Z', 'a', 'h', 'i', 'd', ' ', 'S', 'a', 'l', 'i', 'm', ' ', 'S', 'h', 'a', 'i', 'k', 'h']\n"
     ]
    }
   ],
   "source": [
    "# Example text\n",
    "text = \"Zahid Salim Shaikh\"\n",
    "\n",
    "# Tokenize the text into characters\n",
    "characters = list(text)\n",
    "\n",
    "# Display the characters\n",
    "print(\"Character tokens:\")\n",
    "print(characters)\n"
   ]
  },
  {
   "cell_type": "code",
   "execution_count": null,
   "id": "7606e5ff-de52-48b1-9829-e23b87a4cc27",
   "metadata": {},
   "outputs": [],
   "source": []
  }
 ],
 "metadata": {
  "kernelspec": {
   "display_name": "Python 3 (ipykernel)",
   "language": "python",
   "name": "python3"
  },
  "language_info": {
   "codemirror_mode": {
    "name": "ipython",
    "version": 3
   },
   "file_extension": ".py",
   "mimetype": "text/x-python",
   "name": "python",
   "nbconvert_exporter": "python",
   "pygments_lexer": "ipython3",
   "version": "3.12.4"
  }
 },
 "nbformat": 4,
 "nbformat_minor": 5
}
