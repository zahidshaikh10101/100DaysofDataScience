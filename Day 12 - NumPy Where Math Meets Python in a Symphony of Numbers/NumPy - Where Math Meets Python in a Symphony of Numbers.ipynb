{
 "cells": [
  {
   "cell_type": "markdown",
   "id": "7ee855e2",
   "metadata": {},
   "source": []
  },
  {
   "cell_type": "markdown",
   "id": "e87cac1d",
   "metadata": {},
   "source": [
    "# <center>Introduction to NumPy♑<center> <hr style=\"border:4.5px solid #108999\"> </hr>\n",
    "NumPy is a general-purpose array-processing package. It provides a high-performance multidimensional array object and tools for working with these arrays. It is the fundamental package for scientific computing with Python. NumPy is a Python library used for working with arrays.\n",
    "It also has functions for working in domain of linear algebra, fourier transform, and matrices."
   ]
  },
  {
   "cell_type": "markdown",
   "id": "8a87a956",
   "metadata": {},
   "source": [
    "## Installing & Updating the Package"
   ]
  },
  {
   "cell_type": "markdown",
   "id": "cc07bc46",
   "metadata": {},
   "source": [
    "NumPy comes pre-isntalled if you're using Anaconda. \n",
    "**pip install numpy** \n",
    "\n",
    "To get the latest version:\n",
    "**pip install numpy --upgrade**"
   ]
  },
  {
   "cell_type": "markdown",
   "id": "d12f4abe",
   "metadata": {},
   "source": [
    "## Importing NumPy"
   ]
  },
  {
   "cell_type": "code",
   "execution_count": 2,
   "id": "13379871",
   "metadata": {},
   "outputs": [],
   "source": [
    "import numpy as np"
   ]
  },
  {
   "cell_type": "code",
   "execution_count": 11,
   "id": "2e82dace",
   "metadata": {},
   "outputs": [
    {
     "name": "stdout",
     "output_type": "stream",
     "text": [
      "45\n",
      "<class 'numpy.ndarray'>\n",
      "0\n"
     ]
    }
   ],
   "source": [
    "a = np.array(45)\n",
    "print(a)\n",
    "print(type(a))\n",
    "print(a.ndim)"
   ]
  },
  {
   "cell_type": "code",
   "execution_count": 12,
   "id": "6202b7a4",
   "metadata": {},
   "outputs": [
    {
     "name": "stdout",
     "output_type": "stream",
     "text": [
      "[1 2 3 4 5]\n",
      "<class 'numpy.ndarray'>\n",
      "1\n"
     ]
    }
   ],
   "source": [
    "b = np.array([1,2,3,4,5])\n",
    "print(b)\n",
    "print(type(b))\n",
    "print(b.ndim)"
   ]
  },
  {
   "cell_type": "code",
   "execution_count": 21,
   "id": "5e835c2c",
   "metadata": {},
   "outputs": [
    {
     "name": "stdout",
     "output_type": "stream",
     "text": [
      "[[1 2 3 4]\n",
      " [5 6 7 8]]\n",
      "-------------\n",
      "[3 7]\n",
      "-------------\n",
      "2\n"
     ]
    }
   ],
   "source": [
    "c = np.array([[1,2,3,4],[5,6,7,8]])\n",
    "print(c)\n",
    "print(\"-------------\")\n",
    "print(c[0:,2])\n",
    "print(\"-------------\")\n",
    "print(c.ndim)"
   ]
  },
  {
   "cell_type": "code",
   "execution_count": 31,
   "id": "b7704a1b",
   "metadata": {},
   "outputs": [
    {
     "name": "stdout",
     "output_type": "stream",
     "text": [
      "[[[1 2 3]]\n",
      "\n",
      " [[4 5 6]]]\n",
      "-------------\n",
      "<class 'numpy.ndarray'>\n",
      "-------------\n",
      "[[[4 5 6]]]\n",
      "-------------\n",
      "3\n"
     ]
    }
   ],
   "source": [
    "d = np.array([[[1,2,3]],[[4,5,6]]])\n",
    "print(d)\n",
    "print(\"-------------\")\n",
    "print(type(d))\n",
    "print(\"-------------\")\n",
    "print(d[1:,:2])\n",
    "print(\"-------------\")\n",
    "print(d.ndim)"
   ]
  },
  {
   "cell_type": "code",
   "execution_count": 39,
   "id": "4b05e363",
   "metadata": {},
   "outputs": [
    {
     "name": "stdout",
     "output_type": "stream",
     "text": [
      "[[[ 10  20  30  40]\n",
      "  [ 50  60  70  80]]\n",
      "\n",
      " [[ 90 100 110 120]\n",
      "  [130 140 150 160]]]\n",
      "-------------\n",
      "<class 'numpy.ndarray'>\n",
      "-------------\n",
      "[[[140 150]]]\n",
      "-------------\n",
      "3\n",
      "-------------\n",
      "70\n",
      "-------------\n",
      "[[ 60  70]\n",
      " [140 150]]\n"
     ]
    }
   ],
   "source": [
    "e = np.array([[[10,20,30,40],[50,60,70,80]],[[90,100,110,120],[130,140,150,160]]])\n",
    "print(e)\n",
    "print(\"-------------\")\n",
    "print(type(e))\n",
    "print(\"-------------\")\n",
    "print(e[1:,1:,1:3])\n",
    "print(\"-------------\")\n",
    "print(e.ndim)\n",
    "print(\"-------------\")\n",
    "print(e[0,1,2])\n",
    "print(\"-------------\")\n",
    "print(e[0:2,1,1:3])"
   ]
  },
  {
   "cell_type": "code",
   "execution_count": 40,
   "id": "caa386e4",
   "metadata": {},
   "outputs": [
    {
     "data": {
      "text/plain": [
       "array(['1', '2', '3', '4', '5.5', 'Hi', 'False'], dtype='<U32')"
      ]
     },
     "execution_count": 40,
     "metadata": {},
     "output_type": "execute_result"
    }
   ],
   "source": [
    "f = np.array([1,2,3,4,5.5,'Hi',False])\n",
    "f"
   ]
  },
  {
   "cell_type": "markdown",
   "id": "2aa51b5e",
   "metadata": {},
   "source": [
    "### Numpy ones\n",
    "The numpy.ones() function returns a new array of given shape and type, with ones."
   ]
  },
  {
   "cell_type": "code",
   "execution_count": 41,
   "id": "6f0ef00b",
   "metadata": {},
   "outputs": [
    {
     "data": {
      "text/plain": [
       "array([[1, 1, 1, 1],\n",
       "       [1, 1, 1, 1],\n",
       "       [1, 1, 1, 1],\n",
       "       [1, 1, 1, 1],\n",
       "       [1, 1, 1, 1]], dtype=int64)"
      ]
     },
     "execution_count": 41,
     "metadata": {},
     "output_type": "execute_result"
    }
   ],
   "source": [
    "np.ones((5,4),dtype=np.int64)"
   ]
  },
  {
   "cell_type": "markdown",
   "id": "a5fcb591",
   "metadata": {},
   "source": [
    "### Numpy zeros\n",
    "The numpy.zeros() function returns a new array of given shape and type, with zeros."
   ]
  },
  {
   "cell_type": "code",
   "execution_count": 43,
   "id": "4ae42dce",
   "metadata": {},
   "outputs": [
    {
     "data": {
      "text/plain": [
       "array([[0, 0, 0, 0, 0],\n",
       "       [0, 0, 0, 0, 0],\n",
       "       [0, 0, 0, 0, 0],\n",
       "       [0, 0, 0, 0, 0],\n",
       "       [0, 0, 0, 0, 0],\n",
       "       [0, 0, 0, 0, 0],\n",
       "       [0, 0, 0, 0, 0]], dtype=int64)"
      ]
     },
     "execution_count": 43,
     "metadata": {},
     "output_type": "execute_result"
    }
   ],
   "source": [
    "np.zeros((7,5),dtype=np.int64)"
   ]
  },
  {
   "cell_type": "markdown",
   "id": "0e2d79ff",
   "metadata": {},
   "source": [
    "### Numpy full\n",
    "numpy.full(shape, fill_value, dtype = None, order = ‘C’) : Return a new array with the same shape and type as a given array filled with a fill_value."
   ]
  },
  {
   "cell_type": "code",
   "execution_count": 44,
   "id": "a1ecd835",
   "metadata": {},
   "outputs": [
    {
     "data": {
      "text/plain": [
       "array([[7., 7., 7., 7., 7., 7., 7.],\n",
       "       [7., 7., 7., 7., 7., 7., 7.],\n",
       "       [7., 7., 7., 7., 7., 7., 7.],\n",
       "       [7., 7., 7., 7., 7., 7., 7.],\n",
       "       [7., 7., 7., 7., 7., 7., 7.],\n",
       "       [7., 7., 7., 7., 7., 7., 7.],\n",
       "       [7., 7., 7., 7., 7., 7., 7.]], dtype=float32)"
      ]
     },
     "execution_count": 44,
     "metadata": {},
     "output_type": "execute_result"
    }
   ],
   "source": [
    "np.full((7,7),7,dtype=np.float32)"
   ]
  },
  {
   "cell_type": "code",
   "execution_count": 46,
   "id": "499127a5",
   "metadata": {},
   "outputs": [
    {
     "data": {
      "text/plain": [
       "array([[7, 7, 7, 7, 7, 7, 7],\n",
       "       [7, 7, 7, 7, 7, 7, 7],\n",
       "       [7, 7, 7, 7, 7, 7, 7],\n",
       "       [7, 7, 7, 7, 7, 7, 7],\n",
       "       [7, 7, 7, 7, 7, 7, 7],\n",
       "       [7, 7, 7, 7, 7, 7, 7],\n",
       "       [7, 7, 7, 7, 7, 7, 7]], dtype=int64)"
      ]
     },
     "execution_count": 46,
     "metadata": {},
     "output_type": "execute_result"
    }
   ],
   "source": [
    "np.full((7,7),7,dtype=np.int64)"
   ]
  },
  {
   "cell_type": "markdown",
   "id": "073d139d",
   "metadata": {},
   "source": [
    "### Numpy Identity\n",
    "numpy.identity(n, dtype = None) : Return a identity matrix i.e. a square matrix with ones on the main diagonal."
   ]
  },
  {
   "cell_type": "code",
   "execution_count": 50,
   "id": "0ae17292",
   "metadata": {},
   "outputs": [
    {
     "data": {
      "text/plain": [
       "array([[1, 0, 0, 0, 0, 0, 0, 0, 0, 0],\n",
       "       [0, 1, 0, 0, 0, 0, 0, 0, 0, 0],\n",
       "       [0, 0, 1, 0, 0, 0, 0, 0, 0, 0],\n",
       "       [0, 0, 0, 1, 0, 0, 0, 0, 0, 0],\n",
       "       [0, 0, 0, 0, 1, 0, 0, 0, 0, 0],\n",
       "       [0, 0, 0, 0, 0, 1, 0, 0, 0, 0],\n",
       "       [0, 0, 0, 0, 0, 0, 1, 0, 0, 0],\n",
       "       [0, 0, 0, 0, 0, 0, 0, 1, 0, 0],\n",
       "       [0, 0, 0, 0, 0, 0, 0, 0, 1, 0],\n",
       "       [0, 0, 0, 0, 0, 0, 0, 0, 0, 1]], dtype=int64)"
      ]
     },
     "execution_count": 50,
     "metadata": {},
     "output_type": "execute_result"
    }
   ],
   "source": [
    "np.identity(10,dtype=np.int64)"
   ]
  },
  {
   "cell_type": "code",
   "execution_count": 51,
   "id": "86f13350",
   "metadata": {},
   "outputs": [
    {
     "data": {
      "text/plain": [
       "array([[1., 0., 0.],\n",
       "       [0., 1., 0.],\n",
       "       [0., 0., 1.]], dtype=float32)"
      ]
     },
     "execution_count": 51,
     "metadata": {},
     "output_type": "execute_result"
    }
   ],
   "source": [
    "np.identity(3,dtype=np.float32)"
   ]
  },
  {
   "cell_type": "markdown",
   "id": "6f973613",
   "metadata": {},
   "source": [
    "###  Numpy Random Randint\n",
    "numpy.random.randint() is one of the function for doing random sampling in numpy. It returns an array of specified shape and fills it with random integers from low (inclusive) to high (exclusive)"
   ]
  },
  {
   "cell_type": "code",
   "execution_count": 53,
   "id": "0d08accb",
   "metadata": {},
   "outputs": [
    {
     "data": {
      "text/plain": [
       "array([[ 95, 112, 161, 148],\n",
       "       [166, 107, 232, 167],\n",
       "       [ 62,   9, 254, 156]])"
      ]
     },
     "execution_count": 53,
     "metadata": {},
     "output_type": "execute_result"
    }
   ],
   "source": [
    "np.random.randint(0,255,(3,4))"
   ]
  },
  {
   "cell_type": "markdown",
   "id": "e96538f5",
   "metadata": {},
   "source": [
    "### Some python functions"
   ]
  },
  {
   "cell_type": "markdown",
   "id": "4d30699c",
   "metadata": {},
   "source": [
    "<b>np.ndim(): </b> Return the number of dimension of an array.<br>\n",
    "<b>np.min(): </b> Return the minimum of an array.<br>\n",
    "<b>np.max(): </b> Return the maximum of an array.<br>\n",
    "<b>np.sum(): </b> Return the sum of an array.<br>\n",
    "<b>np.mean(): </b> Return the mean of an array.<br>"
   ]
  },
  {
   "cell_type": "code",
   "execution_count": 61,
   "id": "53a13965",
   "metadata": {},
   "outputs": [
    {
     "name": "stdout",
     "output_type": "stream",
     "text": [
      "Matrix:  [[ 8  9 10]\n",
      " [11 12 13]\n",
      " [ 7 14 15]]\n",
      "Minimum value using slicing:  11\n",
      "Number of dimensions:  2\n",
      "Minimum value:  7\n",
      "Maximum value:  15\n",
      "Sum value:  99\n",
      "Mean value:  11.0\n"
     ]
    }
   ],
   "source": [
    "a = np.array([(8,9,10),(11,12,13),(7,14,15)])\n",
    "print(\"Matrix: \",a)\n",
    "print(\"Minimum value using slicing: \",a[1].min()) #Getting min value using slicing\n",
    "print(\"Number of dimensions: \",np.ndim(a))\n",
    "print(\"Minimum value: \",np.min(a)) \n",
    "print(\"Maximum value: \",np.max(a)) \n",
    "print(\"Sum value: \",np.sum(a)) \n",
    "print(\"Mean value: \",np.mean(a)) "
   ]
  },
  {
   "cell_type": "markdown",
   "id": "c4a4eb30",
   "metadata": {},
   "source": [
    "<b>np.sqrt(): </b> Return the non-negative square-root of an array.<br>\n",
    "<b>np.std(): </b> Returns the standard deviation, a measure of the spread of a distribution, of the array elements. The standard deviation is computed for the flattened array by default, otherwise over the specified axis.<br>\n",
    "<b>np.log(): </b> Return the natural logarithm of an array.<br>\n"
   ]
  },
  {
   "cell_type": "code",
   "execution_count": 68,
   "id": "36af8e37",
   "metadata": {},
   "outputs": [
    {
     "name": "stdout",
     "output_type": "stream",
     "text": [
      "Square Root:  [[1.         0.         1.73205081]\n",
      " [1.73205081 2.         2.23606798]]\n",
      "------------------------------------------------------------\n",
      "Standard Deviation:  1.699673171197595\n",
      "------------------------------------------------------------\n",
      "Natural Logrithm:  [[0.               -inf 1.09861229]\n",
      " [1.09861229 1.38629436 1.60943791]]\n",
      "------------------------------------------------------------\n",
      "[[1.    0.    1.732]\n",
      " [1.732 2.    2.236]]\n"
     ]
    },
    {
     "name": "stderr",
     "output_type": "stream",
     "text": [
      "C:\\Users\\hp\\AppData\\Local\\Temp\\ipykernel_12240\\168162492.py:6: RuntimeWarning: divide by zero encountered in log\n",
      "  print(\"Natural Logrithm: \",np.log(a))\n"
     ]
    }
   ],
   "source": [
    "a = np.array([(1,0,3),(3,4,5)])\n",
    "print(\"Square Root: \",np.sqrt(a))\n",
    "print(\"------------------------------------------------------------\")\n",
    "print(\"Standard Deviation: \",np.std(a))\n",
    "print(\"------------------------------------------------------------\")\n",
    "print(\"Natural Logrithm: \",np.log(a))\n",
    "print(\"------------------------------------------------------------\")\n",
    "\n",
    "b = np.sqrt(a)\n",
    "print(b.round(3)) # Round of to 3 decimal points"
   ]
  },
  {
   "cell_type": "code",
   "execution_count": 63,
   "id": "dc2d1765",
   "metadata": {},
   "outputs": [
    {
     "name": "stdout",
     "output_type": "stream",
     "text": [
      "[[24 24 13]\n",
      " [18 18 29]\n",
      " [16  8 17]]\n",
      "[[4.899 4.899 3.606]\n",
      " [4.243 4.243 5.385]\n",
      " [4.    2.828 4.123]]\n"
     ]
    }
   ],
   "source": [
    "a = np.random.randint(0,30,(3,3))\n",
    "print(a)\n",
    "print(np.sqrt(a).round(3))"
   ]
  },
  {
   "cell_type": "markdown",
   "id": "fc660a82",
   "metadata": {},
   "source": [
    "<b>np.floor(): </b> Return the floor of the input.<br>\n",
    "<b>np.ceil(): </b> Return the ceiling of the input.<br>\n"
   ]
  },
  {
   "cell_type": "code",
   "execution_count": 75,
   "id": "acca4bdc",
   "metadata": {},
   "outputs": [
    {
     "name": "stdout",
     "output_type": "stream",
     "text": [
      "Floor of an array:  [-2. -2. -1.  0.  1.  1.  2.]\n",
      "----------------------------------------------------\n",
      "Ceil of an array:  [-1. -1. -0.  1.  2.  2.  2.]\n"
     ]
    }
   ],
   "source": [
    "a = np.array([-1.7, -1.5, -0.2, 0.2, 1.5, 1.7, 2.0])\n",
    "print(\"Floor of an array: \",np.floor(a))\n",
    "print(\"----------------------------------------------------\")\n",
    "print(\"Ceil of an array: \",np.ceil(a))"
   ]
  },
  {
   "cell_type": "code",
   "execution_count": 78,
   "id": "0333a1ec",
   "metadata": {},
   "outputs": [
    {
     "name": "stdout",
     "output_type": "stream",
     "text": [
      "[[6 8]\n",
      " [6 8]]\n",
      "[[-4 -4]\n",
      " [ 0  0]]\n",
      "[[ 5 12]\n",
      " [ 9 16]]\n",
      "[[0.2        0.33333333]\n",
      " [1.         1.        ]]\n",
      "[[1 2]\n",
      " [0 0]]\n",
      "[[11 14]\n",
      " [27 34]]\n"
     ]
    }
   ],
   "source": [
    "x = np.array([(1,2),(3,4)])\n",
    "y = np.array([(5,6),(3,4)])\n",
    "\n",
    "print(x+y) # Addition of 2 matrix\n",
    "print(x-y) # Substraction of 2 matrix\n",
    "print(x*y) # Multiplication of 2 matrix\n",
    "print(x/y) # Division of 2 matrix\n",
    "print(x%y) # Modulo of 2 matrix\n",
    "print(x@y) # Matrix Multiplication "
   ]
  },
  {
   "cell_type": "markdown",
   "id": "e7b428e2",
   "metadata": {},
   "source": [
    "### ravel()\n",
    "It converts n dimension array to a 1D array"
   ]
  },
  {
   "cell_type": "code",
   "execution_count": 80,
   "id": "842c5186",
   "metadata": {},
   "outputs": [
    {
     "data": {
      "text/plain": [
       "array([[ 1,  2,  3],\n",
       "       [ 3,  4,  5],\n",
       "       [ 6,  7,  8],\n",
       "       [ 9, 10, 11]])"
      ]
     },
     "execution_count": 80,
     "metadata": {},
     "output_type": "execute_result"
    }
   ],
   "source": [
    "x = np.array([(1,2,3),(3,4,5),(6,7,8),(9,10,11)])\n",
    "x"
   ]
  },
  {
   "cell_type": "code",
   "execution_count": 81,
   "id": "d4f0d9a2",
   "metadata": {},
   "outputs": [
    {
     "data": {
      "text/plain": [
       "array([ 1,  2,  3,  3,  4,  5,  6,  7,  8,  9, 10, 11])"
      ]
     },
     "execution_count": 81,
     "metadata": {},
     "output_type": "execute_result"
    }
   ],
   "source": [
    "y = x.ravel() \n",
    "y"
   ]
  },
  {
   "cell_type": "markdown",
   "id": "0362eddb",
   "metadata": {},
   "source": [
    "### np.reshape\n",
    "Gives a new shape to an array without changing its data."
   ]
  },
  {
   "cell_type": "code",
   "execution_count": 85,
   "id": "38e62a81",
   "metadata": {},
   "outputs": [
    {
     "data": {
      "text/plain": [
       "array([[ 1,  2,  3,  3],\n",
       "       [ 4,  5,  6,  7],\n",
       "       [ 8,  9, 10, 11]])"
      ]
     },
     "execution_count": 85,
     "metadata": {},
     "output_type": "execute_result"
    }
   ],
   "source": [
    "y = y.reshape(3,4) \n",
    "y"
   ]
  },
  {
   "cell_type": "code",
   "execution_count": 86,
   "id": "fe2ab819",
   "metadata": {},
   "outputs": [
    {
     "data": {
      "text/plain": [
       "array([[ 1,  2,  3,  3],\n",
       "       [ 4,  5,  6,  7],\n",
       "       [ 8,  9, 10, 11]])"
      ]
     },
     "execution_count": 86,
     "metadata": {},
     "output_type": "execute_result"
    }
   ],
   "source": [
    "np.reshape(y,(3,4))"
   ]
  },
  {
   "cell_type": "markdown",
   "id": "693b3891",
   "metadata": {},
   "source": [
    "### np.transpose\n",
    "It wil convert rows into columns and Columns into rows."
   ]
  },
  {
   "cell_type": "code",
   "execution_count": 88,
   "id": "de59f79a",
   "metadata": {},
   "outputs": [
    {
     "data": {
      "text/plain": [
       "array([[ 1,  2,  3,  3],\n",
       "       [ 4,  5,  6,  7],\n",
       "       [ 8,  9, 10, 11]])"
      ]
     },
     "execution_count": 88,
     "metadata": {},
     "output_type": "execute_result"
    }
   ],
   "source": [
    "y = y.transpose() \n",
    "y"
   ]
  },
  {
   "cell_type": "code",
   "execution_count": 91,
   "id": "f319ff74",
   "metadata": {},
   "outputs": [
    {
     "data": {
      "text/plain": [
       "array([[ 1,  4,  8],\n",
       "       [ 2,  5,  9],\n",
       "       [ 3,  6, 10],\n",
       "       [ 3,  7, 11]])"
      ]
     },
     "execution_count": 91,
     "metadata": {},
     "output_type": "execute_result"
    }
   ],
   "source": [
    "y = np.transpose(y)\n",
    "y"
   ]
  },
  {
   "cell_type": "code",
   "execution_count": 92,
   "id": "328890aa",
   "metadata": {},
   "outputs": [
    {
     "data": {
      "text/plain": [
       "array([[ 1,  2,  3,  3],\n",
       "       [ 4,  5,  6,  7],\n",
       "       [ 8,  9, 10, 11]])"
      ]
     },
     "execution_count": 92,
     "metadata": {},
     "output_type": "execute_result"
    }
   ],
   "source": [
    "np.transpose(y)"
   ]
  },
  {
   "cell_type": "markdown",
   "id": "b8e68496",
   "metadata": {},
   "source": [
    "### np.shape\n",
    "It will give shape of an array"
   ]
  },
  {
   "cell_type": "code",
   "execution_count": 93,
   "id": "a48b2c2c",
   "metadata": {},
   "outputs": [
    {
     "data": {
      "text/plain": [
       "(4, 3)"
      ]
     },
     "execution_count": 93,
     "metadata": {},
     "output_type": "execute_result"
    }
   ],
   "source": [
    "np.shape(y)"
   ]
  },
  {
   "cell_type": "code",
   "execution_count": 96,
   "id": "dfead06d",
   "metadata": {},
   "outputs": [
    {
     "data": {
      "text/plain": [
       "(4, 3)"
      ]
     },
     "execution_count": 96,
     "metadata": {},
     "output_type": "execute_result"
    }
   ],
   "source": [
    "y.shape"
   ]
  },
  {
   "cell_type": "markdown",
   "id": "96913666",
   "metadata": {},
   "source": [
    "## NumPy Documentation\n",
    "https://numpy.org/devdocs/ <- <i> A link to the NumPy documentation"
   ]
  },
  {
   "cell_type": "code",
   "execution_count": null,
   "id": "f19bbbd9",
   "metadata": {},
   "outputs": [],
   "source": []
  }
 ],
 "metadata": {
  "kernelspec": {
   "display_name": "Python 3 (ipykernel)",
   "language": "python",
   "name": "python3"
  },
  "language_info": {
   "codemirror_mode": {
    "name": "ipython",
    "version": 3
   },
   "file_extension": ".py",
   "mimetype": "text/x-python",
   "name": "python",
   "nbconvert_exporter": "python",
   "pygments_lexer": "ipython3",
   "version": "3.11.5"
  }
 },
 "nbformat": 4,
 "nbformat_minor": 5
}
