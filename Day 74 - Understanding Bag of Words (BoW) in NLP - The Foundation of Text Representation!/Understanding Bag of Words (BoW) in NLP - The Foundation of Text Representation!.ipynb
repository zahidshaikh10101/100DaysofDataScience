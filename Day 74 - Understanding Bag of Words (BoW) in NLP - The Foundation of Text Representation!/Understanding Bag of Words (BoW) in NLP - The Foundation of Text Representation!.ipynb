{
 "cells": [
  {
   "cell_type": "code",
   "execution_count": 32,
   "id": "b9f64883-d835-4c15-b9f0-bff33d0feb5b",
   "metadata": {},
   "outputs": [
    {
     "name": "stdout",
     "output_type": "stream",
     "text": [
      "                                                text  output\n",
      "0                       Jim and Pam traveled by bus.       1\n",
      "1                                The Train was late.       1\n",
      "2  The flight was full. Traveling by flight is ex...       0\n",
      "3      But flight is best compared to train and bus.       0\n",
      "------------------------------------------------------------------------------------------------------------------------------------------------------\n",
      "<class 'dict'>\n",
      "{'jim': 10, 'and': 0, 'pam': 12, 'traveled': 16, 'by': 4, 'bus': 2, 'the': 13, 'train': 15, 'was': 18, 'late': 11, 'flight': 7, 'full': 8, 'traveling': 17, 'is': 9, 'expensive': 6, 'but': 3, 'best': 1, 'compared': 5, 'to': 14}\n",
      "------------------------------------------------------------------------------------------------------------------------------------------------------\n",
      "[[1 0 1 0 1 0 0 0 0 0 1 0 1 0 0 0 1 0 0]]\n",
      "[[0 0 0 0 0 0 0 0 0 0 0 1 0 1 0 1 0 0 1]]\n",
      "------------------------------------------------------------------------------------------------------------------------------------------------------\n",
      "[[0 1 0 0 1 0 0 2 0 1 1 0 0 0 0 0 1 0 0]]\n"
     ]
    },
    {
     "data": {
      "text/plain": [
       "<1x19 sparse matrix of type '<class 'numpy.int64'>'\n",
       "\twith 6 stored elements in Compressed Sparse Row format>"
      ]
     },
     "execution_count": 32,
     "metadata": {},
     "output_type": "execute_result"
    }
   ],
   "source": [
    "import pandas as pd\n",
    "from sklearn.feature_extraction.text import CountVectorizer\n",
    "\n",
    "df = pd.DataFrame({'text':[\n",
    "    \"Jim and Pam traveled by bus.\",\n",
    "    \"The Train was late.\",\n",
    "    \"The flight was full. Traveling by flight is expensive.\",\n",
    "    \"But flight is best compared to train and bus.\"\n",
    "], 'output':[1,1,0,0]})\n",
    "\n",
    "print(df)\n",
    "print('-' * 150)\n",
    "vectorizer = CountVectorizer()\n",
    "\n",
    "X = vectorizer.fit_transform(df['text'])\n",
    "\n",
    "vocabulary = vectorizer.vocabulary_\n",
    "print(type(vocabulary))\n",
    "print(vocabulary)\n",
    "print('-' * 150)\n",
    "print(X[0].toarray())\n",
    "print(X[1].toarray())\n",
    "print('-' * 150)\n",
    "test = vectorizer.transform([\"Jim traveled by flight because flight is best for travelling.\"])\n",
    "print(vectorizer.transform([\"Jim traveled by flight because flight is best for travelling.\"]).toarray())\n",
    "test"
   ]
  },
  {
   "cell_type": "code",
   "execution_count": null,
   "id": "79568596-35cb-4e79-b462-1b2a123087a5",
   "metadata": {},
   "outputs": [],
   "source": []
  }
 ],
 "metadata": {
  "kernelspec": {
   "display_name": "Python 3 (ipykernel)",
   "language": "python",
   "name": "python3"
  },
  "language_info": {
   "codemirror_mode": {
    "name": "ipython",
    "version": 3
   },
   "file_extension": ".py",
   "mimetype": "text/x-python",
   "name": "python",
   "nbconvert_exporter": "python",
   "pygments_lexer": "ipython3",
   "version": "3.12.7"
  }
 },
 "nbformat": 4,
 "nbformat_minor": 5
}
